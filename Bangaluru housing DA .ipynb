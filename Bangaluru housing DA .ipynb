{
 "cells": [
  {
   "cell_type": "code",
   "execution_count": 1,
   "id": "008ecb02",
   "metadata": {},
   "outputs": [],
   "source": [
    "import pandas as pd \n",
    "import numpy as np"
   ]
  },
  {
   "cell_type": "code",
   "execution_count": 2,
   "id": "c8d66cf0",
   "metadata": {},
   "outputs": [],
   "source": [
    "df= pd.read_csv(\"Bengaluru_House_Data.csv\")"
   ]
  },
  {
   "cell_type": "code",
   "execution_count": 3,
   "id": "f5771cc3",
   "metadata": {},
   "outputs": [
    {
     "data": {
      "text/html": [
       "<div>\n",
       "<style scoped>\n",
       "    .dataframe tbody tr th:only-of-type {\n",
       "        vertical-align: middle;\n",
       "    }\n",
       "\n",
       "    .dataframe tbody tr th {\n",
       "        vertical-align: top;\n",
       "    }\n",
       "\n",
       "    .dataframe thead th {\n",
       "        text-align: right;\n",
       "    }\n",
       "</style>\n",
       "<table border=\"1\" class=\"dataframe\">\n",
       "  <thead>\n",
       "    <tr style=\"text-align: right;\">\n",
       "      <th></th>\n",
       "      <th>area_type</th>\n",
       "      <th>availability</th>\n",
       "      <th>location</th>\n",
       "      <th>size</th>\n",
       "      <th>society</th>\n",
       "      <th>total_sqft</th>\n",
       "      <th>bath</th>\n",
       "      <th>balcony</th>\n",
       "      <th>price</th>\n",
       "    </tr>\n",
       "  </thead>\n",
       "  <tbody>\n",
       "    <tr>\n",
       "      <th>0</th>\n",
       "      <td>Super built-up  Area</td>\n",
       "      <td>19-Dec</td>\n",
       "      <td>Electronic City Phase II</td>\n",
       "      <td>2 BHK</td>\n",
       "      <td>Coomee</td>\n",
       "      <td>1056</td>\n",
       "      <td>2.0</td>\n",
       "      <td>1.0</td>\n",
       "      <td>39.07</td>\n",
       "    </tr>\n",
       "    <tr>\n",
       "      <th>1</th>\n",
       "      <td>Plot  Area</td>\n",
       "      <td>Ready To Move</td>\n",
       "      <td>Chikka Tirupathi</td>\n",
       "      <td>4 Bedroom</td>\n",
       "      <td>Theanmp</td>\n",
       "      <td>2600</td>\n",
       "      <td>5.0</td>\n",
       "      <td>3.0</td>\n",
       "      <td>120.00</td>\n",
       "    </tr>\n",
       "    <tr>\n",
       "      <th>2</th>\n",
       "      <td>Built-up  Area</td>\n",
       "      <td>Ready To Move</td>\n",
       "      <td>Uttarahalli</td>\n",
       "      <td>3 BHK</td>\n",
       "      <td>NaN</td>\n",
       "      <td>1440</td>\n",
       "      <td>2.0</td>\n",
       "      <td>3.0</td>\n",
       "      <td>62.00</td>\n",
       "    </tr>\n",
       "    <tr>\n",
       "      <th>3</th>\n",
       "      <td>Super built-up  Area</td>\n",
       "      <td>Ready To Move</td>\n",
       "      <td>Lingadheeranahalli</td>\n",
       "      <td>3 BHK</td>\n",
       "      <td>Soiewre</td>\n",
       "      <td>1521</td>\n",
       "      <td>3.0</td>\n",
       "      <td>1.0</td>\n",
       "      <td>95.00</td>\n",
       "    </tr>\n",
       "    <tr>\n",
       "      <th>4</th>\n",
       "      <td>Super built-up  Area</td>\n",
       "      <td>Ready To Move</td>\n",
       "      <td>Kothanur</td>\n",
       "      <td>2 BHK</td>\n",
       "      <td>NaN</td>\n",
       "      <td>1200</td>\n",
       "      <td>2.0</td>\n",
       "      <td>1.0</td>\n",
       "      <td>51.00</td>\n",
       "    </tr>\n",
       "    <tr>\n",
       "      <th>5</th>\n",
       "      <td>Super built-up  Area</td>\n",
       "      <td>Ready To Move</td>\n",
       "      <td>Whitefield</td>\n",
       "      <td>2 BHK</td>\n",
       "      <td>DuenaTa</td>\n",
       "      <td>1170</td>\n",
       "      <td>2.0</td>\n",
       "      <td>1.0</td>\n",
       "      <td>38.00</td>\n",
       "    </tr>\n",
       "    <tr>\n",
       "      <th>6</th>\n",
       "      <td>Super built-up  Area</td>\n",
       "      <td>18-May</td>\n",
       "      <td>Old Airport Road</td>\n",
       "      <td>4 BHK</td>\n",
       "      <td>Jaades</td>\n",
       "      <td>2732</td>\n",
       "      <td>4.0</td>\n",
       "      <td>NaN</td>\n",
       "      <td>204.00</td>\n",
       "    </tr>\n",
       "    <tr>\n",
       "      <th>7</th>\n",
       "      <td>Super built-up  Area</td>\n",
       "      <td>Ready To Move</td>\n",
       "      <td>Rajaji Nagar</td>\n",
       "      <td>4 BHK</td>\n",
       "      <td>Brway G</td>\n",
       "      <td>3300</td>\n",
       "      <td>4.0</td>\n",
       "      <td>NaN</td>\n",
       "      <td>600.00</td>\n",
       "    </tr>\n",
       "    <tr>\n",
       "      <th>8</th>\n",
       "      <td>Super built-up  Area</td>\n",
       "      <td>Ready To Move</td>\n",
       "      <td>Marathahalli</td>\n",
       "      <td>3 BHK</td>\n",
       "      <td>NaN</td>\n",
       "      <td>1310</td>\n",
       "      <td>3.0</td>\n",
       "      <td>1.0</td>\n",
       "      <td>63.25</td>\n",
       "    </tr>\n",
       "    <tr>\n",
       "      <th>9</th>\n",
       "      <td>Plot  Area</td>\n",
       "      <td>Ready To Move</td>\n",
       "      <td>Gandhi Bazar</td>\n",
       "      <td>6 Bedroom</td>\n",
       "      <td>NaN</td>\n",
       "      <td>1020</td>\n",
       "      <td>6.0</td>\n",
       "      <td>NaN</td>\n",
       "      <td>370.00</td>\n",
       "    </tr>\n",
       "  </tbody>\n",
       "</table>\n",
       "</div>"
      ],
      "text/plain": [
       "              area_type   availability                  location       size  \\\n",
       "0  Super built-up  Area         19-Dec  Electronic City Phase II      2 BHK   \n",
       "1            Plot  Area  Ready To Move          Chikka Tirupathi  4 Bedroom   \n",
       "2        Built-up  Area  Ready To Move               Uttarahalli      3 BHK   \n",
       "3  Super built-up  Area  Ready To Move        Lingadheeranahalli      3 BHK   \n",
       "4  Super built-up  Area  Ready To Move                  Kothanur      2 BHK   \n",
       "5  Super built-up  Area  Ready To Move                Whitefield      2 BHK   \n",
       "6  Super built-up  Area         18-May          Old Airport Road      4 BHK   \n",
       "7  Super built-up  Area  Ready To Move              Rajaji Nagar      4 BHK   \n",
       "8  Super built-up  Area  Ready To Move              Marathahalli      3 BHK   \n",
       "9            Plot  Area  Ready To Move              Gandhi Bazar  6 Bedroom   \n",
       "\n",
       "   society total_sqft  bath  balcony   price  \n",
       "0  Coomee        1056   2.0      1.0   39.07  \n",
       "1  Theanmp       2600   5.0      3.0  120.00  \n",
       "2      NaN       1440   2.0      3.0   62.00  \n",
       "3  Soiewre       1521   3.0      1.0   95.00  \n",
       "4      NaN       1200   2.0      1.0   51.00  \n",
       "5  DuenaTa       1170   2.0      1.0   38.00  \n",
       "6  Jaades        2732   4.0      NaN  204.00  \n",
       "7  Brway G       3300   4.0      NaN  600.00  \n",
       "8      NaN       1310   3.0      1.0   63.25  \n",
       "9      NaN       1020   6.0      NaN  370.00  "
      ]
     },
     "execution_count": 3,
     "metadata": {},
     "output_type": "execute_result"
    }
   ],
   "source": [
    "df.head(10)"
   ]
  },
  {
   "cell_type": "code",
   "execution_count": 4,
   "id": "ae6a4cba",
   "metadata": {},
   "outputs": [
    {
     "name": "stdout",
     "output_type": "stream",
     "text": [
      "<class 'pandas.core.frame.DataFrame'>\n",
      "RangeIndex: 13320 entries, 0 to 13319\n",
      "Data columns (total 9 columns):\n",
      " #   Column        Non-Null Count  Dtype  \n",
      "---  ------        --------------  -----  \n",
      " 0   area_type     13320 non-null  object \n",
      " 1   availability  13320 non-null  object \n",
      " 2   location      13319 non-null  object \n",
      " 3   size          13304 non-null  object \n",
      " 4   society       7818 non-null   object \n",
      " 5   total_sqft    13320 non-null  object \n",
      " 6   bath          13247 non-null  float64\n",
      " 7   balcony       12711 non-null  float64\n",
      " 8   price         13320 non-null  float64\n",
      "dtypes: float64(3), object(6)\n",
      "memory usage: 936.7+ KB\n"
     ]
    }
   ],
   "source": [
    "df.info()"
   ]
  },
  {
   "cell_type": "code",
   "execution_count": 6,
   "id": "1c406681",
   "metadata": {},
   "outputs": [
    {
     "data": {
      "text/html": [
       "<div>\n",
       "<style scoped>\n",
       "    .dataframe tbody tr th:only-of-type {\n",
       "        vertical-align: middle;\n",
       "    }\n",
       "\n",
       "    .dataframe tbody tr th {\n",
       "        vertical-align: top;\n",
       "    }\n",
       "\n",
       "    .dataframe thead th {\n",
       "        text-align: right;\n",
       "    }\n",
       "</style>\n",
       "<table border=\"1\" class=\"dataframe\">\n",
       "  <thead>\n",
       "    <tr style=\"text-align: right;\">\n",
       "      <th></th>\n",
       "      <th>count</th>\n",
       "      <th>mean</th>\n",
       "      <th>std</th>\n",
       "      <th>min</th>\n",
       "      <th>25%</th>\n",
       "      <th>50%</th>\n",
       "      <th>75%</th>\n",
       "      <th>max</th>\n",
       "    </tr>\n",
       "  </thead>\n",
       "  <tbody>\n",
       "    <tr>\n",
       "      <th>bath</th>\n",
       "      <td>13247.0</td>\n",
       "      <td>2.692610</td>\n",
       "      <td>1.341458</td>\n",
       "      <td>1.0</td>\n",
       "      <td>2.0</td>\n",
       "      <td>2.0</td>\n",
       "      <td>3.0</td>\n",
       "      <td>40.0</td>\n",
       "    </tr>\n",
       "    <tr>\n",
       "      <th>balcony</th>\n",
       "      <td>12711.0</td>\n",
       "      <td>1.584376</td>\n",
       "      <td>0.817263</td>\n",
       "      <td>0.0</td>\n",
       "      <td>1.0</td>\n",
       "      <td>2.0</td>\n",
       "      <td>2.0</td>\n",
       "      <td>3.0</td>\n",
       "    </tr>\n",
       "    <tr>\n",
       "      <th>price</th>\n",
       "      <td>13320.0</td>\n",
       "      <td>112.565627</td>\n",
       "      <td>148.971674</td>\n",
       "      <td>8.0</td>\n",
       "      <td>50.0</td>\n",
       "      <td>72.0</td>\n",
       "      <td>120.0</td>\n",
       "      <td>3600.0</td>\n",
       "    </tr>\n",
       "  </tbody>\n",
       "</table>\n",
       "</div>"
      ],
      "text/plain": [
       "           count        mean         std  min   25%   50%    75%     max\n",
       "bath     13247.0    2.692610    1.341458  1.0   2.0   2.0    3.0    40.0\n",
       "balcony  12711.0    1.584376    0.817263  0.0   1.0   2.0    2.0     3.0\n",
       "price    13320.0  112.565627  148.971674  8.0  50.0  72.0  120.0  3600.0"
      ]
     },
     "execution_count": 6,
     "metadata": {},
     "output_type": "execute_result"
    }
   ],
   "source": [
    "df.describe().T"
   ]
  },
  {
   "cell_type": "code",
   "execution_count": 8,
   "id": "e30365a5",
   "metadata": {},
   "outputs": [
    {
     "data": {
      "text/plain": [
       "area_type\n",
       "Super built-up  Area    8790\n",
       "Built-up  Area          2418\n",
       "Plot  Area              2025\n",
       "Carpet  Area              87\n",
       "Name: count, dtype: int64"
      ]
     },
     "execution_count": 8,
     "metadata": {},
     "output_type": "execute_result"
    }
   ],
   "source": [
    "df['area_type'].value_counts()"
   ]
  },
  {
   "cell_type": "code",
   "execution_count": 23,
   "id": "57ac2d5f",
   "metadata": {},
   "outputs": [
    {
     "name": "stdout",
     "output_type": "stream",
     "text": [
      "#####area_type#####\n",
      "area_type\n",
      "Super built-up  Area    8790\n",
      "Built-up  Area          2418\n",
      "Plot  Area              2025\n",
      "Carpet  Area              87\n",
      "Name: count, dtype: int64\n",
      "-------------------------------------------\n",
      "#####availability#####\n",
      "availability\n",
      "Ready To Move    10581\n",
      "18-Dec             307\n",
      "18-May             295\n",
      "18-Apr             271\n",
      "18-Aug             200\n",
      "                 ...  \n",
      "15-Aug               1\n",
      "17-Jan               1\n",
      "16-Nov               1\n",
      "16-Jan               1\n",
      "14-Jul               1\n",
      "Name: count, Length: 81, dtype: int64\n",
      "-------------------------------------------\n",
      "#####location#####\n",
      "location\n",
      "Whitefield                        540\n",
      "Sarjapur  Road                    399\n",
      "Electronic City                   302\n",
      "Kanakpura Road                    273\n",
      "Thanisandra                       234\n",
      "                                 ... \n",
      "Bapuji Layout                       1\n",
      "1st Stage Radha Krishna Layout      1\n",
      "BEML Layout 5th stage               1\n",
      "singapura paradise                  1\n",
      "Abshot Layout                       1\n",
      "Name: count, Length: 1305, dtype: int64\n",
      "-------------------------------------------\n",
      "#####size#####\n",
      "size\n",
      "2 BHK         5199\n",
      "3 BHK         4310\n",
      "4 Bedroom      826\n",
      "4 BHK          591\n",
      "3 Bedroom      547\n",
      "1 BHK          538\n",
      "2 Bedroom      329\n",
      "5 Bedroom      297\n",
      "6 Bedroom      191\n",
      "1 Bedroom      105\n",
      "8 Bedroom       84\n",
      "7 Bedroom       83\n",
      "5 BHK           59\n",
      "9 Bedroom       46\n",
      "6 BHK           30\n",
      "7 BHK           17\n",
      "1 RK            13\n",
      "10 Bedroom      12\n",
      "9 BHK            8\n",
      "8 BHK            5\n",
      "11 BHK           2\n",
      "11 Bedroom       2\n",
      "10 BHK           2\n",
      "14 BHK           1\n",
      "13 BHK           1\n",
      "12 Bedroom       1\n",
      "27 BHK           1\n",
      "43 Bedroom       1\n",
      "16 BHK           1\n",
      "19 BHK           1\n",
      "18 Bedroom       1\n",
      "Name: count, dtype: int64\n",
      "-------------------------------------------\n",
      "#####society#####\n",
      "society\n",
      "GrrvaGr    80\n",
      "PrarePa    76\n",
      "Sryalan    59\n",
      "Prtates    59\n",
      "GMown E    56\n",
      "           ..\n",
      "Amionce     1\n",
      "JaghtDe     1\n",
      "Jauraht     1\n",
      "Brity U     1\n",
      "RSntsAp     1\n",
      "Name: count, Length: 2688, dtype: int64\n",
      "-------------------------------------------\n",
      "#####total_sqft#####\n",
      "total_sqft\n",
      "1200    843\n",
      "1100    221\n",
      "1500    205\n",
      "2400    196\n",
      "600     180\n",
      "       ... \n",
      "3580      1\n",
      "2461      1\n",
      "1437      1\n",
      "2155      1\n",
      "4689      1\n",
      "Name: count, Length: 2117, dtype: int64\n",
      "-------------------------------------------\n",
      "#####bath#####\n",
      "bath\n",
      "2.0     6908\n",
      "3.0     3286\n",
      "4.0     1226\n",
      "1.0      788\n",
      "5.0      524\n",
      "6.0      273\n",
      "7.0      102\n",
      "8.0       64\n",
      "9.0       43\n",
      "10.0      13\n",
      "12.0       7\n",
      "13.0       3\n",
      "11.0       3\n",
      "16.0       2\n",
      "27.0       1\n",
      "40.0       1\n",
      "15.0       1\n",
      "14.0       1\n",
      "18.0       1\n",
      "Name: count, dtype: int64\n",
      "-------------------------------------------\n",
      "#####balcony#####\n",
      "balcony\n",
      "2.0    5113\n",
      "1.0    4897\n",
      "3.0    1672\n",
      "0.0    1029\n",
      "Name: count, dtype: int64\n",
      "-------------------------------------------\n",
      "#####price#####\n",
      "price\n",
      "75.00     310\n",
      "65.00     302\n",
      "55.00     275\n",
      "60.00     270\n",
      "45.00     240\n",
      "         ... \n",
      "351.00      1\n",
      "54.10       1\n",
      "80.64       1\n",
      "32.73       1\n",
      "488.00      1\n",
      "Name: count, Length: 1994, dtype: int64\n",
      "-------------------------------------------\n"
     ]
    }
   ],
   "source": [
    "for value in df.columns:\n",
    "    data=df[value].value_counts()\n",
    "    print(f'#####{value}#####')\n",
    "    print(data)\n",
    "    print('-------------------------------------------')\n",
    "    "
   ]
  },
  {
   "cell_type": "code",
   "execution_count": 24,
   "id": "fa5bbc11",
   "metadata": {},
   "outputs": [
    {
     "data": {
      "text/plain": [
       "area_type          0\n",
       "availability       0\n",
       "location           1\n",
       "size              16\n",
       "society         5502\n",
       "total_sqft         0\n",
       "bath              73\n",
       "balcony          609\n",
       "price              0\n",
       "dtype: int64"
      ]
     },
     "execution_count": 24,
     "metadata": {},
     "output_type": "execute_result"
    }
   ],
   "source": [
    "df.isna().sum()"
   ]
  },
  {
   "cell_type": "code",
   "execution_count": 26,
   "id": "d25a11c0",
   "metadata": {},
   "outputs": [],
   "source": [
    "df.drop(columns=['area_type','availability','society','balcony'],inplace=True)"
   ]
  },
  {
   "cell_type": "code",
   "execution_count": 27,
   "id": "9a3553d5",
   "metadata": {},
   "outputs": [
    {
     "data": {
      "text/html": [
       "<div>\n",
       "<style scoped>\n",
       "    .dataframe tbody tr th:only-of-type {\n",
       "        vertical-align: middle;\n",
       "    }\n",
       "\n",
       "    .dataframe tbody tr th {\n",
       "        vertical-align: top;\n",
       "    }\n",
       "\n",
       "    .dataframe thead th {\n",
       "        text-align: right;\n",
       "    }\n",
       "</style>\n",
       "<table border=\"1\" class=\"dataframe\">\n",
       "  <thead>\n",
       "    <tr style=\"text-align: right;\">\n",
       "      <th></th>\n",
       "      <th>location</th>\n",
       "      <th>size</th>\n",
       "      <th>total_sqft</th>\n",
       "      <th>bath</th>\n",
       "      <th>price</th>\n",
       "    </tr>\n",
       "  </thead>\n",
       "  <tbody>\n",
       "    <tr>\n",
       "      <th>0</th>\n",
       "      <td>Electronic City Phase II</td>\n",
       "      <td>2 BHK</td>\n",
       "      <td>1056</td>\n",
       "      <td>2.0</td>\n",
       "      <td>39.07</td>\n",
       "    </tr>\n",
       "    <tr>\n",
       "      <th>1</th>\n",
       "      <td>Chikka Tirupathi</td>\n",
       "      <td>4 Bedroom</td>\n",
       "      <td>2600</td>\n",
       "      <td>5.0</td>\n",
       "      <td>120.00</td>\n",
       "    </tr>\n",
       "    <tr>\n",
       "      <th>2</th>\n",
       "      <td>Uttarahalli</td>\n",
       "      <td>3 BHK</td>\n",
       "      <td>1440</td>\n",
       "      <td>2.0</td>\n",
       "      <td>62.00</td>\n",
       "    </tr>\n",
       "    <tr>\n",
       "      <th>3</th>\n",
       "      <td>Lingadheeranahalli</td>\n",
       "      <td>3 BHK</td>\n",
       "      <td>1521</td>\n",
       "      <td>3.0</td>\n",
       "      <td>95.00</td>\n",
       "    </tr>\n",
       "    <tr>\n",
       "      <th>4</th>\n",
       "      <td>Kothanur</td>\n",
       "      <td>2 BHK</td>\n",
       "      <td>1200</td>\n",
       "      <td>2.0</td>\n",
       "      <td>51.00</td>\n",
       "    </tr>\n",
       "  </tbody>\n",
       "</table>\n",
       "</div>"
      ],
      "text/plain": [
       "                   location       size total_sqft  bath   price\n",
       "0  Electronic City Phase II      2 BHK       1056   2.0   39.07\n",
       "1          Chikka Tirupathi  4 Bedroom       2600   5.0  120.00\n",
       "2               Uttarahalli      3 BHK       1440   2.0   62.00\n",
       "3        Lingadheeranahalli      3 BHK       1521   3.0   95.00\n",
       "4                  Kothanur      2 BHK       1200   2.0   51.00"
      ]
     },
     "execution_count": 27,
     "metadata": {},
     "output_type": "execute_result"
    }
   ],
   "source": [
    "df.head()"
   ]
  },
  {
   "cell_type": "code",
   "execution_count": 28,
   "id": "b40338cb",
   "metadata": {},
   "outputs": [
    {
     "data": {
      "text/html": [
       "<div>\n",
       "<style scoped>\n",
       "    .dataframe tbody tr th:only-of-type {\n",
       "        vertical-align: middle;\n",
       "    }\n",
       "\n",
       "    .dataframe tbody tr th {\n",
       "        vertical-align: top;\n",
       "    }\n",
       "\n",
       "    .dataframe thead th {\n",
       "        text-align: right;\n",
       "    }\n",
       "</style>\n",
       "<table border=\"1\" class=\"dataframe\">\n",
       "  <thead>\n",
       "    <tr style=\"text-align: right;\">\n",
       "      <th></th>\n",
       "      <th>bath</th>\n",
       "      <th>price</th>\n",
       "    </tr>\n",
       "  </thead>\n",
       "  <tbody>\n",
       "    <tr>\n",
       "      <th>count</th>\n",
       "      <td>13247.000000</td>\n",
       "      <td>13320.000000</td>\n",
       "    </tr>\n",
       "    <tr>\n",
       "      <th>mean</th>\n",
       "      <td>2.692610</td>\n",
       "      <td>112.565627</td>\n",
       "    </tr>\n",
       "    <tr>\n",
       "      <th>std</th>\n",
       "      <td>1.341458</td>\n",
       "      <td>148.971674</td>\n",
       "    </tr>\n",
       "    <tr>\n",
       "      <th>min</th>\n",
       "      <td>1.000000</td>\n",
       "      <td>8.000000</td>\n",
       "    </tr>\n",
       "    <tr>\n",
       "      <th>25%</th>\n",
       "      <td>2.000000</td>\n",
       "      <td>50.000000</td>\n",
       "    </tr>\n",
       "    <tr>\n",
       "      <th>50%</th>\n",
       "      <td>2.000000</td>\n",
       "      <td>72.000000</td>\n",
       "    </tr>\n",
       "    <tr>\n",
       "      <th>75%</th>\n",
       "      <td>3.000000</td>\n",
       "      <td>120.000000</td>\n",
       "    </tr>\n",
       "    <tr>\n",
       "      <th>max</th>\n",
       "      <td>40.000000</td>\n",
       "      <td>3600.000000</td>\n",
       "    </tr>\n",
       "  </tbody>\n",
       "</table>\n",
       "</div>"
      ],
      "text/plain": [
       "               bath         price\n",
       "count  13247.000000  13320.000000\n",
       "mean       2.692610    112.565627\n",
       "std        1.341458    148.971674\n",
       "min        1.000000      8.000000\n",
       "25%        2.000000     50.000000\n",
       "50%        2.000000     72.000000\n",
       "75%        3.000000    120.000000\n",
       "max       40.000000   3600.000000"
      ]
     },
     "execution_count": 28,
     "metadata": {},
     "output_type": "execute_result"
    }
   ],
   "source": [
    "df.describe()"
   ]
  },
  {
   "cell_type": "code",
   "execution_count": 29,
   "id": "758ce30a",
   "metadata": {},
   "outputs": [
    {
     "name": "stdout",
     "output_type": "stream",
     "text": [
      "<class 'pandas.core.frame.DataFrame'>\n",
      "RangeIndex: 13320 entries, 0 to 13319\n",
      "Data columns (total 5 columns):\n",
      " #   Column      Non-Null Count  Dtype  \n",
      "---  ------      --------------  -----  \n",
      " 0   location    13319 non-null  object \n",
      " 1   size        13304 non-null  object \n",
      " 2   total_sqft  13320 non-null  object \n",
      " 3   bath        13247 non-null  float64\n",
      " 4   price       13320 non-null  float64\n",
      "dtypes: float64(2), object(3)\n",
      "memory usage: 520.4+ KB\n"
     ]
    }
   ],
   "source": [
    "df.info()"
   ]
  },
  {
   "cell_type": "code",
   "execution_count": 30,
   "id": "1d401897",
   "metadata": {},
   "outputs": [
    {
     "data": {
      "text/plain": [
       "array(['Electronic City Phase II', 'Chikka Tirupathi', 'Uttarahalli', ...,\n",
       "       '12th cross srinivas nagar banshankari 3rd stage',\n",
       "       'Havanur extension', 'Abshot Layout'], dtype=object)"
      ]
     },
     "execution_count": 30,
     "metadata": {},
     "output_type": "execute_result"
    }
   ],
   "source": [
    "df['location'].unique()"
   ]
  },
  {
   "cell_type": "code",
   "execution_count": 32,
   "id": "e9b560b8",
   "metadata": {},
   "outputs": [],
   "source": [
    "df['location']=df['location'].fillna('Sarjapur  Road')"
   ]
  },
  {
   "cell_type": "code",
   "execution_count": 36,
   "id": "7f605648",
   "metadata": {},
   "outputs": [
    {
     "name": "stdout",
     "output_type": "stream",
     "text": [
      "<class 'pandas.core.frame.DataFrame'>\n",
      "RangeIndex: 13320 entries, 0 to 13319\n",
      "Data columns (total 5 columns):\n",
      " #   Column      Non-Null Count  Dtype  \n",
      "---  ------      --------------  -----  \n",
      " 0   location    13320 non-null  object \n",
      " 1   size        13320 non-null  object \n",
      " 2   total_sqft  13320 non-null  object \n",
      " 3   bath        13247 non-null  float64\n",
      " 4   price       13320 non-null  float64\n",
      "dtypes: float64(2), object(3)\n",
      "memory usage: 520.4+ KB\n"
     ]
    }
   ],
   "source": [
    "df.info()"
   ]
  },
  {
   "cell_type": "code",
   "execution_count": 35,
   "id": "c544095b",
   "metadata": {},
   "outputs": [],
   "source": [
    "df['size']=df['size'].fillna('2 BHK')"
   ]
  },
  {
   "cell_type": "code",
   "execution_count": 38,
   "id": "1e0a9142",
   "metadata": {},
   "outputs": [],
   "source": [
    "df['bath']=df['bath'].fillna(df['bath'].median())"
   ]
  },
  {
   "cell_type": "code",
   "execution_count": 39,
   "id": "deefd138",
   "metadata": {},
   "outputs": [
    {
     "name": "stdout",
     "output_type": "stream",
     "text": [
      "<class 'pandas.core.frame.DataFrame'>\n",
      "RangeIndex: 13320 entries, 0 to 13319\n",
      "Data columns (total 5 columns):\n",
      " #   Column      Non-Null Count  Dtype  \n",
      "---  ------      --------------  -----  \n",
      " 0   location    13320 non-null  object \n",
      " 1   size        13320 non-null  object \n",
      " 2   total_sqft  13320 non-null  object \n",
      " 3   bath        13320 non-null  float64\n",
      " 4   price       13320 non-null  float64\n",
      "dtypes: float64(2), object(3)\n",
      "memory usage: 520.4+ KB\n"
     ]
    }
   ],
   "source": [
    "df.info()"
   ]
  },
  {
   "cell_type": "code",
   "execution_count": 44,
   "id": "608568e1",
   "metadata": {},
   "outputs": [
    {
     "data": {
      "text/plain": [
       "0        2\n",
       "1        4\n",
       "2        3\n",
       "3        3\n",
       "4        2\n",
       "        ..\n",
       "13315    5\n",
       "13316    4\n",
       "13317    2\n",
       "13318    4\n",
       "13319    1\n",
       "Name: size, Length: 13320, dtype: int32"
      ]
     },
     "execution_count": 44,
     "metadata": {},
     "output_type": "execute_result"
    }
   ],
   "source": [
    "## converting the size to int and also fixing inconsistent Data::\n",
    "df['size'].str.split(' ').str.get(0).astype(int)"
   ]
  },
  {
   "cell_type": "code",
   "execution_count": 45,
   "id": "c2318bf1",
   "metadata": {},
   "outputs": [],
   "source": [
    "df['size']=df['size'].str.split(' ').str.get(0).astype(int)"
   ]
  },
  {
   "cell_type": "code",
   "execution_count": 47,
   "id": "279582e4",
   "metadata": {},
   "outputs": [
    {
     "data": {
      "text/html": [
       "<div>\n",
       "<style scoped>\n",
       "    .dataframe tbody tr th:only-of-type {\n",
       "        vertical-align: middle;\n",
       "    }\n",
       "\n",
       "    .dataframe tbody tr th {\n",
       "        vertical-align: top;\n",
       "    }\n",
       "\n",
       "    .dataframe thead th {\n",
       "        text-align: right;\n",
       "    }\n",
       "</style>\n",
       "<table border=\"1\" class=\"dataframe\">\n",
       "  <thead>\n",
       "    <tr style=\"text-align: right;\">\n",
       "      <th></th>\n",
       "      <th>location</th>\n",
       "      <th>size</th>\n",
       "      <th>total_sqft</th>\n",
       "      <th>bath</th>\n",
       "      <th>price</th>\n",
       "    </tr>\n",
       "  </thead>\n",
       "  <tbody>\n",
       "    <tr>\n",
       "      <th>1718</th>\n",
       "      <td>2Electronic City Phase II</td>\n",
       "      <td>27</td>\n",
       "      <td>8000</td>\n",
       "      <td>27.0</td>\n",
       "      <td>230.0</td>\n",
       "    </tr>\n",
       "    <tr>\n",
       "      <th>4684</th>\n",
       "      <td>Munnekollal</td>\n",
       "      <td>43</td>\n",
       "      <td>2400</td>\n",
       "      <td>40.0</td>\n",
       "      <td>660.0</td>\n",
       "    </tr>\n",
       "  </tbody>\n",
       "</table>\n",
       "</div>"
      ],
      "text/plain": [
       "                       location  size total_sqft  bath  price\n",
       "1718  2Electronic City Phase II    27       8000  27.0  230.0\n",
       "4684                Munnekollal    43       2400  40.0  660.0"
      ]
     },
     "execution_count": 47,
     "metadata": {},
     "output_type": "execute_result"
    }
   ],
   "source": [
    "df[df['size']>20]"
   ]
  },
  {
   "cell_type": "code",
   "execution_count": 48,
   "id": "f5160e1e",
   "metadata": {},
   "outputs": [
    {
     "name": "stdout",
     "output_type": "stream",
     "text": [
      "<class 'pandas.core.frame.DataFrame'>\n",
      "RangeIndex: 13320 entries, 0 to 13319\n",
      "Data columns (total 5 columns):\n",
      " #   Column      Non-Null Count  Dtype  \n",
      "---  ------      --------------  -----  \n",
      " 0   location    13320 non-null  object \n",
      " 1   size        13320 non-null  int32  \n",
      " 2   total_sqft  13320 non-null  object \n",
      " 3   bath        13320 non-null  float64\n",
      " 4   price       13320 non-null  float64\n",
      "dtypes: float64(2), int32(1), object(2)\n",
      "memory usage: 468.4+ KB\n"
     ]
    }
   ],
   "source": [
    "df.info()"
   ]
  },
  {
   "cell_type": "code",
   "execution_count": 50,
   "id": "fd510299",
   "metadata": {},
   "outputs": [
    {
     "data": {
      "text/plain": [
       "array(['1056', '2600', '1440', ..., '1133 - 1384', '774', '4689'],\n",
       "      dtype=object)"
      ]
     },
     "execution_count": 50,
     "metadata": {},
     "output_type": "execute_result"
    }
   ],
   "source": [
    "### total_sqft  ### \n",
    "\n",
    "df['total_sqft'].unique()"
   ]
  },
  {
   "cell_type": "code",
   "execution_count": 63,
   "id": "f5fbd0a4",
   "metadata": {},
   "outputs": [],
   "source": [
    "def fix_total_sqft(x):\n",
    "    if x.isalpha\n",
    "    data=x.split('-')\n",
    "    if len(data)>1:\n",
    "        return( (float(data[0]) + float(data[1]))/2 ) \n",
    "    elif len(data)==1:\n",
    "        return float(x)\n",
    "    else:\n",
    "        return None\n",
    "    "
   ]
  },
  {
   "cell_type": "code",
   "execution_count": 66,
   "id": "20dc4159",
   "metadata": {},
   "outputs": [
    {
     "data": {
      "text/plain": [
       "1258.5"
      ]
     },
     "execution_count": 66,
     "metadata": {},
     "output_type": "execute_result"
    }
   ],
   "source": [
    "fix_total_sqft('1133 - 1384')"
   ]
  },
  {
   "cell_type": "code",
   "execution_count": 95,
   "id": "18e2d570",
   "metadata": {},
   "outputs": [
    {
     "name": "stdout",
     "output_type": "stream",
     "text": [
      "Collecting pandasql\n",
      "  Downloading pandasql-0.7.3.tar.gz (26 kB)\n",
      "  Preparing metadata (setup.py): started\n",
      "  Preparing metadata (setup.py): finished with status 'done'\n",
      "Requirement already satisfied: numpy in c:\\users\\abhis\\anaconda3\\lib\\site-packages (from pandasql) (1.24.3)\n",
      "Requirement already satisfied: pandas in c:\\users\\abhis\\anaconda3\\lib\\site-packages (from pandasql) (2.0.3)\n",
      "Requirement already satisfied: sqlalchemy in c:\\users\\abhis\\anaconda3\\lib\\site-packages (from pandasql) (1.4.39)\n",
      "Requirement already satisfied: python-dateutil>=2.8.2 in c:\\users\\abhis\\anaconda3\\lib\\site-packages (from pandas->pandasql) (2.8.2)\n",
      "Requirement already satisfied: pytz>=2020.1 in c:\\users\\abhis\\anaconda3\\lib\\site-packages (from pandas->pandasql) (2023.3.post1)\n",
      "Requirement already satisfied: tzdata>=2022.1 in c:\\users\\abhis\\anaconda3\\lib\\site-packages (from pandas->pandasql) (2023.3)\n",
      "Requirement already satisfied: greenlet!=0.4.17 in c:\\users\\abhis\\anaconda3\\lib\\site-packages (from sqlalchemy->pandasql) (2.0.1)\n",
      "Requirement already satisfied: six>=1.5 in c:\\users\\abhis\\anaconda3\\lib\\site-packages (from python-dateutil>=2.8.2->pandas->pandasql) (1.16.0)\n",
      "Building wheels for collected packages: pandasql\n",
      "  Building wheel for pandasql (setup.py): started\n",
      "  Building wheel for pandasql (setup.py): finished with status 'done'\n",
      "  Created wheel for pandasql: filename=pandasql-0.7.3-py3-none-any.whl size=26800 sha256=2a4a237cfb4ab62ddc5ffe8a2627162d2abc983dba8f4d2f359fb83b574f0c18\n",
      "  Stored in directory: c:\\users\\abhis\\appdata\\local\\pip\\cache\\wheels\\68\\5d\\a5\\edc271b998f909801d7956959f699b976cc9896075dc47c153\n",
      "Successfully built pandasql\n",
      "Installing collected packages: pandasql\n",
      "Successfully installed pandasql-0.7.3\n"
     ]
    }
   ],
   "source": [
    "!pip install pandasql"
   ]
  },
  {
   "cell_type": "code",
   "execution_count": 96,
   "id": "20f4d75a",
   "metadata": {},
   "outputs": [],
   "source": [
    "from pandasql import sqldf"
   ]
  },
  {
   "cell_type": "code",
   "execution_count": 106,
   "id": "c500047c",
   "metadata": {},
   "outputs": [],
   "source": [
    "query = \"SELECT * FROM df where total_sqft like '%Meter%'\""
   ]
  },
  {
   "cell_type": "code",
   "execution_count": 108,
   "id": "8f8bbaf0",
   "metadata": {},
   "outputs": [
    {
     "data": {
      "text/html": [
       "<div>\n",
       "<style scoped>\n",
       "    .dataframe tbody tr th:only-of-type {\n",
       "        vertical-align: middle;\n",
       "    }\n",
       "\n",
       "    .dataframe tbody tr th {\n",
       "        vertical-align: top;\n",
       "    }\n",
       "\n",
       "    .dataframe thead th {\n",
       "        text-align: right;\n",
       "    }\n",
       "</style>\n",
       "<table border=\"1\" class=\"dataframe\">\n",
       "  <thead>\n",
       "    <tr style=\"text-align: right;\">\n",
       "      <th></th>\n",
       "      <th>location</th>\n",
       "      <th>size</th>\n",
       "      <th>total_sqft</th>\n",
       "      <th>bath</th>\n",
       "      <th>price</th>\n",
       "    </tr>\n",
       "  </thead>\n",
       "  <tbody>\n",
       "    <tr>\n",
       "      <th>0</th>\n",
       "      <td>Kengeri</td>\n",
       "      <td>1</td>\n",
       "      <td>34.46Sq. Meter</td>\n",
       "      <td>1.0</td>\n",
       "      <td>18.50</td>\n",
       "    </tr>\n",
       "    <tr>\n",
       "      <th>1</th>\n",
       "      <td>Basavanagara</td>\n",
       "      <td>1</td>\n",
       "      <td>1000Sq. Meter</td>\n",
       "      <td>2.0</td>\n",
       "      <td>93.00</td>\n",
       "    </tr>\n",
       "    <tr>\n",
       "      <th>2</th>\n",
       "      <td>Chamrajpet</td>\n",
       "      <td>9</td>\n",
       "      <td>716Sq. Meter</td>\n",
       "      <td>9.0</td>\n",
       "      <td>296.00</td>\n",
       "    </tr>\n",
       "    <tr>\n",
       "      <th>3</th>\n",
       "      <td>Singena Agrahara</td>\n",
       "      <td>3</td>\n",
       "      <td>1500Sq. Meter</td>\n",
       "      <td>3.0</td>\n",
       "      <td>95.00</td>\n",
       "    </tr>\n",
       "    <tr>\n",
       "      <th>4</th>\n",
       "      <td>Hosa Road</td>\n",
       "      <td>3</td>\n",
       "      <td>142.61Sq. Meter</td>\n",
       "      <td>3.0</td>\n",
       "      <td>115.00</td>\n",
       "    </tr>\n",
       "    <tr>\n",
       "      <th>5</th>\n",
       "      <td>Dodda Banaswadi</td>\n",
       "      <td>5</td>\n",
       "      <td>3040Sq. Meter</td>\n",
       "      <td>5.0</td>\n",
       "      <td>140.00</td>\n",
       "    </tr>\n",
       "    <tr>\n",
       "      <th>6</th>\n",
       "      <td>BTM Layout</td>\n",
       "      <td>3</td>\n",
       "      <td>167Sq. Meter</td>\n",
       "      <td>3.0</td>\n",
       "      <td>10.00</td>\n",
       "    </tr>\n",
       "    <tr>\n",
       "      <th>7</th>\n",
       "      <td>Thanisandra</td>\n",
       "      <td>3</td>\n",
       "      <td>204Sq. Meter</td>\n",
       "      <td>4.0</td>\n",
       "      <td>185.00</td>\n",
       "    </tr>\n",
       "    <tr>\n",
       "      <th>8</th>\n",
       "      <td>1st Phase JP Nagar</td>\n",
       "      <td>1</td>\n",
       "      <td>78.03Sq. Meter</td>\n",
       "      <td>1.0</td>\n",
       "      <td>63.00</td>\n",
       "    </tr>\n",
       "    <tr>\n",
       "      <th>9</th>\n",
       "      <td>JP Nagar</td>\n",
       "      <td>3</td>\n",
       "      <td>84.53Sq. Meter</td>\n",
       "      <td>3.0</td>\n",
       "      <td>69.34</td>\n",
       "    </tr>\n",
       "    <tr>\n",
       "      <th>10</th>\n",
       "      <td>Langford Town</td>\n",
       "      <td>4</td>\n",
       "      <td>697Sq. Meter</td>\n",
       "      <td>4.0</td>\n",
       "      <td>211.00</td>\n",
       "    </tr>\n",
       "    <tr>\n",
       "      <th>11</th>\n",
       "      <td>Hosa Road</td>\n",
       "      <td>3</td>\n",
       "      <td>142.61Sq. Meter</td>\n",
       "      <td>3.0</td>\n",
       "      <td>109.00</td>\n",
       "    </tr>\n",
       "    <tr>\n",
       "      <th>12</th>\n",
       "      <td>Doddaballapur</td>\n",
       "      <td>3</td>\n",
       "      <td>1100Sq. Meter</td>\n",
       "      <td>2.0</td>\n",
       "      <td>48.00</td>\n",
       "    </tr>\n",
       "    <tr>\n",
       "      <th>13</th>\n",
       "      <td>Yelahanka New Town</td>\n",
       "      <td>1</td>\n",
       "      <td>45.06Sq. Meter</td>\n",
       "      <td>2.0</td>\n",
       "      <td>18.00</td>\n",
       "    </tr>\n",
       "    <tr>\n",
       "      <th>14</th>\n",
       "      <td>Rajapura</td>\n",
       "      <td>2</td>\n",
       "      <td>86.72Sq. Meter</td>\n",
       "      <td>2.0</td>\n",
       "      <td>40.00</td>\n",
       "    </tr>\n",
       "    <tr>\n",
       "      <th>15</th>\n",
       "      <td>Gowdanapalya</td>\n",
       "      <td>5</td>\n",
       "      <td>24Sq. Meter</td>\n",
       "      <td>5.0</td>\n",
       "      <td>75.00</td>\n",
       "    </tr>\n",
       "    <tr>\n",
       "      <th>16</th>\n",
       "      <td>Hosa Road</td>\n",
       "      <td>3</td>\n",
       "      <td>142.84Sq. Meter</td>\n",
       "      <td>3.0</td>\n",
       "      <td>110.00</td>\n",
       "    </tr>\n",
       "  </tbody>\n",
       "</table>\n",
       "</div>"
      ],
      "text/plain": [
       "              location  size       total_sqft  bath   price\n",
       "0              Kengeri     1   34.46Sq. Meter   1.0   18.50\n",
       "1         Basavanagara     1    1000Sq. Meter   2.0   93.00\n",
       "2           Chamrajpet     9     716Sq. Meter   9.0  296.00\n",
       "3     Singena Agrahara     3    1500Sq. Meter   3.0   95.00\n",
       "4            Hosa Road     3  142.61Sq. Meter   3.0  115.00\n",
       "5      Dodda Banaswadi     5    3040Sq. Meter   5.0  140.00\n",
       "6           BTM Layout     3     167Sq. Meter   3.0   10.00\n",
       "7          Thanisandra     3     204Sq. Meter   4.0  185.00\n",
       "8   1st Phase JP Nagar     1   78.03Sq. Meter   1.0   63.00\n",
       "9             JP Nagar     3   84.53Sq. Meter   3.0   69.34\n",
       "10       Langford Town     4     697Sq. Meter   4.0  211.00\n",
       "11           Hosa Road     3  142.61Sq. Meter   3.0  109.00\n",
       "12       Doddaballapur     3    1100Sq. Meter   2.0   48.00\n",
       "13  Yelahanka New Town     1   45.06Sq. Meter   2.0   18.00\n",
       "14            Rajapura     2   86.72Sq. Meter   2.0   40.00\n",
       "15        Gowdanapalya     5      24Sq. Meter   5.0   75.00\n",
       "16           Hosa Road     3  142.84Sq. Meter   3.0  110.00"
      ]
     },
     "execution_count": 108,
     "metadata": {},
     "output_type": "execute_result"
    }
   ],
   "source": [
    "sqldf( \"SELECT * FROM df where total_sqft like '%Meter%'\")"
   ]
  },
  {
   "cell_type": "code",
   "execution_count": 111,
   "id": "ccf797ec",
   "metadata": {},
   "outputs": [],
   "source": [
    "df['total_sqft']=df['total_sqft'].str.replace('Sq. Meter',\"\")"
   ]
  },
  {
   "cell_type": "code",
   "execution_count": 125,
   "id": "0b4c0bd1",
   "metadata": {},
   "outputs": [
    {
     "data": {
      "text/html": [
       "<div>\n",
       "<style scoped>\n",
       "    .dataframe tbody tr th:only-of-type {\n",
       "        vertical-align: middle;\n",
       "    }\n",
       "\n",
       "    .dataframe tbody tr th {\n",
       "        vertical-align: top;\n",
       "    }\n",
       "\n",
       "    .dataframe thead th {\n",
       "        text-align: right;\n",
       "    }\n",
       "</style>\n",
       "<table border=\"1\" class=\"dataframe\">\n",
       "  <thead>\n",
       "    <tr style=\"text-align: right;\">\n",
       "      <th></th>\n",
       "      <th>location</th>\n",
       "      <th>size</th>\n",
       "      <th>total_sqft</th>\n",
       "      <th>bath</th>\n",
       "      <th>price</th>\n",
       "    </tr>\n",
       "  </thead>\n",
       "  <tbody>\n",
       "    <tr>\n",
       "      <th>0</th>\n",
       "      <td>5 Bedroom Farm House in Lakshmipura</td>\n",
       "      <td>5</td>\n",
       "      <td>24Guntha</td>\n",
       "      <td>6.0</td>\n",
       "      <td>550.0</td>\n",
       "    </tr>\n",
       "    <tr>\n",
       "      <th>1</th>\n",
       "      <td>Arishinakunte</td>\n",
       "      <td>1</td>\n",
       "      <td>38Guntha</td>\n",
       "      <td>1.0</td>\n",
       "      <td>170.0</td>\n",
       "    </tr>\n",
       "  </tbody>\n",
       "</table>\n",
       "</div>"
      ],
      "text/plain": [
       "                              location  size total_sqft  bath  price\n",
       "0  5 Bedroom Farm House in Lakshmipura     5   24Guntha   6.0  550.0\n",
       "1                        Arishinakunte     1   38Guntha   1.0  170.0"
      ]
     },
     "execution_count": 125,
     "metadata": {},
     "output_type": "execute_result"
    }
   ],
   "source": [
    "sqldf(\"SELECT * FROM df where total_sqft like '%Guntha%'\")"
   ]
  },
  {
   "cell_type": "code",
   "execution_count": 129,
   "id": "3920547a",
   "metadata": {},
   "outputs": [],
   "source": [
    "## the baove Data is incorrect so need to drop the above Datas\n",
    "df=sqldf(\"SELECT * FROM df where total_sqft not like '%Grounds%'\")"
   ]
  },
  {
   "cell_type": "code",
   "execution_count": 127,
   "id": "3471d8e6",
   "metadata": {},
   "outputs": [],
   "source": [
    "df['total_sqft']=df['total_sqft'].str.replace('Sq. Yards',\"\")"
   ]
  },
  {
   "cell_type": "code",
   "execution_count": 131,
   "id": "161d3f25",
   "metadata": {},
   "outputs": [],
   "source": [
    "df['total_sqft']=df['total_sqft'].apply(fix_total_sqft)"
   ]
  },
  {
   "cell_type": "code",
   "execution_count": 132,
   "id": "08de1f84",
   "metadata": {},
   "outputs": [
    {
     "name": "stdout",
     "output_type": "stream",
     "text": [
      "<class 'pandas.core.frame.DataFrame'>\n",
      "RangeIndex: 13307 entries, 0 to 13306\n",
      "Data columns (total 5 columns):\n",
      " #   Column      Non-Null Count  Dtype  \n",
      "---  ------      --------------  -----  \n",
      " 0   location    13307 non-null  object \n",
      " 1   size        13307 non-null  int64  \n",
      " 2   total_sqft  13307 non-null  float64\n",
      " 3   bath        13307 non-null  float64\n",
      " 4   price       13307 non-null  float64\n",
      "dtypes: float64(3), int64(1), object(1)\n",
      "memory usage: 519.9+ KB\n"
     ]
    }
   ],
   "source": [
    "df.info()"
   ]
  },
  {
   "cell_type": "code",
   "execution_count": 133,
   "id": "be80e404",
   "metadata": {},
   "outputs": [
    {
     "data": {
      "text/html": [
       "<div>\n",
       "<style scoped>\n",
       "    .dataframe tbody tr th:only-of-type {\n",
       "        vertical-align: middle;\n",
       "    }\n",
       "\n",
       "    .dataframe tbody tr th {\n",
       "        vertical-align: top;\n",
       "    }\n",
       "\n",
       "    .dataframe thead th {\n",
       "        text-align: right;\n",
       "    }\n",
       "</style>\n",
       "<table border=\"1\" class=\"dataframe\">\n",
       "  <thead>\n",
       "    <tr style=\"text-align: right;\">\n",
       "      <th></th>\n",
       "      <th>location</th>\n",
       "      <th>size</th>\n",
       "      <th>total_sqft</th>\n",
       "      <th>bath</th>\n",
       "      <th>price</th>\n",
       "    </tr>\n",
       "  </thead>\n",
       "  <tbody>\n",
       "    <tr>\n",
       "      <th>0</th>\n",
       "      <td>Electronic City Phase II</td>\n",
       "      <td>2</td>\n",
       "      <td>1056.0</td>\n",
       "      <td>2.0</td>\n",
       "      <td>39.07</td>\n",
       "    </tr>\n",
       "    <tr>\n",
       "      <th>1</th>\n",
       "      <td>Chikka Tirupathi</td>\n",
       "      <td>4</td>\n",
       "      <td>2600.0</td>\n",
       "      <td>5.0</td>\n",
       "      <td>120.00</td>\n",
       "    </tr>\n",
       "    <tr>\n",
       "      <th>2</th>\n",
       "      <td>Uttarahalli</td>\n",
       "      <td>3</td>\n",
       "      <td>1440.0</td>\n",
       "      <td>2.0</td>\n",
       "      <td>62.00</td>\n",
       "    </tr>\n",
       "    <tr>\n",
       "      <th>3</th>\n",
       "      <td>Lingadheeranahalli</td>\n",
       "      <td>3</td>\n",
       "      <td>1521.0</td>\n",
       "      <td>3.0</td>\n",
       "      <td>95.00</td>\n",
       "    </tr>\n",
       "    <tr>\n",
       "      <th>4</th>\n",
       "      <td>Kothanur</td>\n",
       "      <td>2</td>\n",
       "      <td>1200.0</td>\n",
       "      <td>2.0</td>\n",
       "      <td>51.00</td>\n",
       "    </tr>\n",
       "  </tbody>\n",
       "</table>\n",
       "</div>"
      ],
      "text/plain": [
       "                   location  size  total_sqft  bath   price\n",
       "0  Electronic City Phase II     2      1056.0   2.0   39.07\n",
       "1          Chikka Tirupathi     4      2600.0   5.0  120.00\n",
       "2               Uttarahalli     3      1440.0   2.0   62.00\n",
       "3        Lingadheeranahalli     3      1521.0   3.0   95.00\n",
       "4                  Kothanur     2      1200.0   2.0   51.00"
      ]
     },
     "execution_count": 133,
     "metadata": {},
     "output_type": "execute_result"
    }
   ],
   "source": [
    "df.head()"
   ]
  },
  {
   "cell_type": "code",
   "execution_count": 136,
   "id": "5a34626e",
   "metadata": {},
   "outputs": [],
   "source": [
    "df['price_per_sqrt']=df['price']*100000/df['total_sqft']"
   ]
  },
  {
   "cell_type": "code",
   "execution_count": 137,
   "id": "e7604eb5",
   "metadata": {},
   "outputs": [
    {
     "data": {
      "text/html": [
       "<div>\n",
       "<style scoped>\n",
       "    .dataframe tbody tr th:only-of-type {\n",
       "        vertical-align: middle;\n",
       "    }\n",
       "\n",
       "    .dataframe tbody tr th {\n",
       "        vertical-align: top;\n",
       "    }\n",
       "\n",
       "    .dataframe thead th {\n",
       "        text-align: right;\n",
       "    }\n",
       "</style>\n",
       "<table border=\"1\" class=\"dataframe\">\n",
       "  <thead>\n",
       "    <tr style=\"text-align: right;\">\n",
       "      <th></th>\n",
       "      <th>location</th>\n",
       "      <th>size</th>\n",
       "      <th>total_sqft</th>\n",
       "      <th>bath</th>\n",
       "      <th>price</th>\n",
       "      <th>price_per_sqrt</th>\n",
       "    </tr>\n",
       "  </thead>\n",
       "  <tbody>\n",
       "    <tr>\n",
       "      <th>0</th>\n",
       "      <td>Electronic City Phase II</td>\n",
       "      <td>2</td>\n",
       "      <td>1056.0</td>\n",
       "      <td>2.0</td>\n",
       "      <td>39.07</td>\n",
       "      <td>3699.810606</td>\n",
       "    </tr>\n",
       "    <tr>\n",
       "      <th>1</th>\n",
       "      <td>Chikka Tirupathi</td>\n",
       "      <td>4</td>\n",
       "      <td>2600.0</td>\n",
       "      <td>5.0</td>\n",
       "      <td>120.00</td>\n",
       "      <td>4615.384615</td>\n",
       "    </tr>\n",
       "    <tr>\n",
       "      <th>2</th>\n",
       "      <td>Uttarahalli</td>\n",
       "      <td>3</td>\n",
       "      <td>1440.0</td>\n",
       "      <td>2.0</td>\n",
       "      <td>62.00</td>\n",
       "      <td>4305.555556</td>\n",
       "    </tr>\n",
       "    <tr>\n",
       "      <th>3</th>\n",
       "      <td>Lingadheeranahalli</td>\n",
       "      <td>3</td>\n",
       "      <td>1521.0</td>\n",
       "      <td>3.0</td>\n",
       "      <td>95.00</td>\n",
       "      <td>6245.890861</td>\n",
       "    </tr>\n",
       "    <tr>\n",
       "      <th>4</th>\n",
       "      <td>Kothanur</td>\n",
       "      <td>2</td>\n",
       "      <td>1200.0</td>\n",
       "      <td>2.0</td>\n",
       "      <td>51.00</td>\n",
       "      <td>4250.000000</td>\n",
       "    </tr>\n",
       "  </tbody>\n",
       "</table>\n",
       "</div>"
      ],
      "text/plain": [
       "                   location  size  total_sqft  bath   price  price_per_sqrt\n",
       "0  Electronic City Phase II     2      1056.0   2.0   39.07     3699.810606\n",
       "1          Chikka Tirupathi     4      2600.0   5.0  120.00     4615.384615\n",
       "2               Uttarahalli     3      1440.0   2.0   62.00     4305.555556\n",
       "3        Lingadheeranahalli     3      1521.0   3.0   95.00     6245.890861\n",
       "4                  Kothanur     2      1200.0   2.0   51.00     4250.000000"
      ]
     },
     "execution_count": 137,
     "metadata": {},
     "output_type": "execute_result"
    }
   ],
   "source": [
    "df.head()"
   ]
  },
  {
   "cell_type": "code",
   "execution_count": 138,
   "id": "69c11987",
   "metadata": {},
   "outputs": [
    {
     "data": {
      "text/html": [
       "<div>\n",
       "<style scoped>\n",
       "    .dataframe tbody tr th:only-of-type {\n",
       "        vertical-align: middle;\n",
       "    }\n",
       "\n",
       "    .dataframe tbody tr th {\n",
       "        vertical-align: top;\n",
       "    }\n",
       "\n",
       "    .dataframe thead th {\n",
       "        text-align: right;\n",
       "    }\n",
       "</style>\n",
       "<table border=\"1\" class=\"dataframe\">\n",
       "  <thead>\n",
       "    <tr style=\"text-align: right;\">\n",
       "      <th></th>\n",
       "      <th>count</th>\n",
       "      <th>mean</th>\n",
       "      <th>std</th>\n",
       "      <th>min</th>\n",
       "      <th>25%</th>\n",
       "      <th>50%</th>\n",
       "      <th>75%</th>\n",
       "      <th>max</th>\n",
       "    </tr>\n",
       "  </thead>\n",
       "  <tbody>\n",
       "    <tr>\n",
       "      <th>size</th>\n",
       "      <td>13307.0</td>\n",
       "      <td>2.802811</td>\n",
       "      <td>1.293376</td>\n",
       "      <td>1.000000</td>\n",
       "      <td>2.000000</td>\n",
       "      <td>3.000000</td>\n",
       "      <td>3.000000</td>\n",
       "      <td>43.0</td>\n",
       "    </tr>\n",
       "    <tr>\n",
       "      <th>total_sqft</th>\n",
       "      <td>13307.0</td>\n",
       "      <td>1557.369371</td>\n",
       "      <td>1238.637621</td>\n",
       "      <td>1.000000</td>\n",
       "      <td>1100.000000</td>\n",
       "      <td>1275.000000</td>\n",
       "      <td>1680.000000</td>\n",
       "      <td>52272.0</td>\n",
       "    </tr>\n",
       "    <tr>\n",
       "      <th>bath</th>\n",
       "      <td>13307.0</td>\n",
       "      <td>2.688886</td>\n",
       "      <td>1.338028</td>\n",
       "      <td>1.000000</td>\n",
       "      <td>2.000000</td>\n",
       "      <td>2.000000</td>\n",
       "      <td>3.000000</td>\n",
       "      <td>40.0</td>\n",
       "    </tr>\n",
       "    <tr>\n",
       "      <th>price</th>\n",
       "      <td>13307.0</td>\n",
       "      <td>112.508803</td>\n",
       "      <td>148.977293</td>\n",
       "      <td>8.000000</td>\n",
       "      <td>50.000000</td>\n",
       "      <td>72.000000</td>\n",
       "      <td>120.000000</td>\n",
       "      <td>3600.0</td>\n",
       "    </tr>\n",
       "    <tr>\n",
       "      <th>price_per_sqrt</th>\n",
       "      <td>13307.0</td>\n",
       "      <td>8090.848075</td>\n",
       "      <td>106634.807369</td>\n",
       "      <td>267.829813</td>\n",
       "      <td>4270.647838</td>\n",
       "      <td>5441.640379</td>\n",
       "      <td>7333.333333</td>\n",
       "      <td>12000000.0</td>\n",
       "    </tr>\n",
       "  </tbody>\n",
       "</table>\n",
       "</div>"
      ],
      "text/plain": [
       "                  count         mean            std         min          25%  \\\n",
       "size            13307.0     2.802811       1.293376    1.000000     2.000000   \n",
       "total_sqft      13307.0  1557.369371    1238.637621    1.000000  1100.000000   \n",
       "bath            13307.0     2.688886       1.338028    1.000000     2.000000   \n",
       "price           13307.0   112.508803     148.977293    8.000000    50.000000   \n",
       "price_per_sqrt  13307.0  8090.848075  106634.807369  267.829813  4270.647838   \n",
       "\n",
       "                        50%          75%         max  \n",
       "size               3.000000     3.000000        43.0  \n",
       "total_sqft      1275.000000  1680.000000     52272.0  \n",
       "bath               2.000000     3.000000        40.0  \n",
       "price             72.000000   120.000000      3600.0  \n",
       "price_per_sqrt  5441.640379  7333.333333  12000000.0  "
      ]
     },
     "execution_count": 138,
     "metadata": {},
     "output_type": "execute_result"
    }
   ],
   "source": [
    "df.describe().T"
   ]
  },
  {
   "cell_type": "code",
   "execution_count": 140,
   "id": "33154fb1",
   "metadata": {},
   "outputs": [
    {
     "data": {
      "text/html": [
       "<div>\n",
       "<style scoped>\n",
       "    .dataframe tbody tr th:only-of-type {\n",
       "        vertical-align: middle;\n",
       "    }\n",
       "\n",
       "    .dataframe tbody tr th {\n",
       "        vertical-align: top;\n",
       "    }\n",
       "\n",
       "    .dataframe thead th {\n",
       "        text-align: right;\n",
       "    }\n",
       "</style>\n",
       "<table border=\"1\" class=\"dataframe\">\n",
       "  <thead>\n",
       "    <tr style=\"text-align: right;\">\n",
       "      <th></th>\n",
       "      <th>location</th>\n",
       "      <th>size</th>\n",
       "      <th>total_sqft</th>\n",
       "      <th>bath</th>\n",
       "      <th>price</th>\n",
       "      <th>price_per_sqrt</th>\n",
       "    </tr>\n",
       "  </thead>\n",
       "  <tbody>\n",
       "    <tr>\n",
       "      <th>4084</th>\n",
       "      <td>Sarjapur  Road</td>\n",
       "      <td>4</td>\n",
       "      <td>1.0</td>\n",
       "      <td>4.0</td>\n",
       "      <td>120.0</td>\n",
       "      <td>12000000.0</td>\n",
       "    </tr>\n",
       "  </tbody>\n",
       "</table>\n",
       "</div>"
      ],
      "text/plain": [
       "            location  size  total_sqft  bath  price  price_per_sqrt\n",
       "4084  Sarjapur  Road     4         1.0   4.0  120.0      12000000.0"
      ]
     },
     "execution_count": 140,
     "metadata": {},
     "output_type": "execute_result"
    }
   ],
   "source": [
    "df.query('price_per_sqrt==12000000.0') ## this is a outlayer :: we can repose or plot "
   ]
  },
  {
   "cell_type": "code",
   "execution_count": 143,
   "id": "1efbbe8c",
   "metadata": {},
   "outputs": [],
   "source": [
    "import seaborn as sns "
   ]
  },
  {
   "cell_type": "code",
   "execution_count": 144,
   "id": "cf6934fb",
   "metadata": {},
   "outputs": [
    {
     "data": {
      "text/plain": [
       "<Axes: >"
      ]
     },
     "execution_count": 144,
     "metadata": {},
     "output_type": "execute_result"
    },
    {
     "data": {
      "image/png": "[encoded data removed]",
      "text/plain": [
       "<Figure size 640x480 with 1 Axes>"
      ]
     },
     "metadata": {},
     "output_type": "display_data"
    }
   ],
   "source": [
    "sns.scatterplot(df.describe())"
   ]
  },
  {
   "cell_type": "code",
   "execution_count": 149,
   "id": "dd3b079b",
   "metadata": {},
   "outputs": [],
   "source": [
    "df=df.query('price_per_sqrt!=12000000.0')"
   ]
  },
  {
   "cell_type": "code",
   "execution_count": 151,
   "id": "d6dea036",
   "metadata": {},
   "outputs": [
    {
     "data": {
      "text/plain": [
       "location\n",
       "Whitefield                        540\n",
       "Sarjapur  Road                    399\n",
       "Electronic City                   302\n",
       "Kanakpura Road                    271\n",
       "Thanisandra                       234\n",
       "                                 ... \n",
       "1st Stage Radha Krishna Layout      1\n",
       "BEML Layout 5th stage               1\n",
       "Kannur                              1\n",
       "singapura paradise                  1\n",
       "Abshot Layout                       1\n",
       "Name: count, Length: 1300, dtype: int64"
      ]
     },
     "execution_count": 151,
     "metadata": {},
     "output_type": "execute_result"
    }
   ],
   "source": [
    "df['location'].value_counts()"
   ]
  },
  {
   "cell_type": "code",
   "execution_count": 152,
   "id": "be7d39eb",
   "metadata": {},
   "outputs": [
    {
     "data": {
      "text/plain": [
       "array(['Electronic City Phase II', 'Chikka Tirupathi', 'Uttarahalli', ...,\n",
       "       '12th cross srinivas nagar banshankari 3rd stage',\n",
       "       'Havanur extension', 'Abshot Layout'], dtype=object)"
      ]
     },
     "execution_count": 152,
     "metadata": {},
     "output_type": "execute_result"
    }
   ],
   "source": [
    "#remove the whitespace between each word make it as one \n",
    "#find the count of each location and remove which has less than 10 \n",
    "df['location'].unique()"
   ]
  },
  {
   "cell_type": "code",
   "execution_count": 158,
   "id": "d6878404",
   "metadata": {},
   "outputs": [],
   "source": [
    "df['location']=df['location'].apply(lambda x:x.replace(' ',\"\"))"
   ]
  },
  {
   "cell_type": "code",
   "execution_count": 162,
   "id": "6ebaa461",
   "metadata": {},
   "outputs": [],
   "source": [
    "location_lessthan10=df['location'].value_counts()"
   ]
  },
  {
   "cell_type": "code",
   "execution_count": 167,
   "id": "456ef778",
   "metadata": {},
   "outputs": [
    {
     "data": {
      "text/plain": [
       "location\n",
       "Basapura                    10\n",
       "1stBlockKoramangala         10\n",
       "Kalkere                     10\n",
       "Sector1HSRLayout            10\n",
       "DodsworthLayout             10\n",
       "                            ..\n",
       "MaruthiHBCSLayout            1\n",
       "LakshmipuraVidyaanyapura     1\n",
       "MalurHosurRoad               1\n",
       "CraigParkLayout              1\n",
       "AbshotLayout                 1\n",
       "Name: count, Length: 1047, dtype: int64"
      ]
     },
     "execution_count": 167,
     "metadata": {},
     "output_type": "execute_result"
    }
   ],
   "source": [
    "less=location_lessthan10[location_lessthan10<=10]"
   ]
  },
  {
   "cell_type": "code",
   "execution_count": 168,
   "id": "ec3bafcc",
   "metadata": {},
   "outputs": [],
   "source": [
    "less=location_lessthan10[location_lessthan10<=10]"
   ]
  },
  {
   "cell_type": "code",
   "execution_count": 174,
   "id": "eb3e82b8",
   "metadata": {},
   "outputs": [
    {
     "data": {
      "text/plain": [
       "location\n",
       "other                     2887\n",
       "Whitefield                 541\n",
       "SarjapurRoad               399\n",
       "ElectronicCity             304\n",
       "KanakpuraRoad              271\n",
       "                          ... \n",
       "2ndPhaseJudicialLayout      11\n",
       "LBShastriNagar              11\n",
       "Tindlu                      11\n",
       "Kodigehalli                 11\n",
       "HAL2ndStage                 11\n",
       "Name: count, Length: 241, dtype: int64"
      ]
     },
     "execution_count": 174,
     "metadata": {},
     "output_type": "execute_result"
    }
   ],
   "source": [
    "df['location']=df['location'].apply(lambda x :'other' if x in less else x)\n",
    "    "
   ]
  },
  {
   "cell_type": "code",
   "execution_count": 175,
   "id": "c03df9ee",
   "metadata": {},
   "outputs": [],
   "source": [
    "df['location']=df['location'].apply(lambda x :'other' if x in less else x)\n",
    "    "
   ]
  },
  {
   "cell_type": "code",
   "execution_count": 176,
   "id": "9e482a99",
   "metadata": {},
   "outputs": [
    {
     "data": {
      "text/plain": [
       "location\n",
       "other                     2887\n",
       "Whitefield                 541\n",
       "SarjapurRoad               399\n",
       "ElectronicCity             304\n",
       "KanakpuraRoad              271\n",
       "                          ... \n",
       "2ndPhaseJudicialLayout      11\n",
       "LBShastriNagar              11\n",
       "Tindlu                      11\n",
       "Kodigehalli                 11\n",
       "HAL2ndStage                 11\n",
       "Name: count, Length: 241, dtype: int64"
      ]
     },
     "execution_count": 176,
     "metadata": {},
     "output_type": "execute_result"
    }
   ],
   "source": [
    "df['location'].value_counts()"
   ]
  },
  {
   "cell_type": "code",
   "execution_count": 184,
   "id": "a9ee0c94",
   "metadata": {},
   "outputs": [
    {
     "data": {
      "text/html": [
       "<div>\n",
       "<style scoped>\n",
       "    .dataframe tbody tr th:only-of-type {\n",
       "        vertical-align: middle;\n",
       "    }\n",
       "\n",
       "    .dataframe tbody tr th {\n",
       "        vertical-align: top;\n",
       "    }\n",
       "\n",
       "    .dataframe thead th {\n",
       "        text-align: right;\n",
       "    }\n",
       "</style>\n",
       "<table border=\"1\" class=\"dataframe\">\n",
       "  <thead>\n",
       "    <tr style=\"text-align: right;\">\n",
       "      <th></th>\n",
       "      <th>size</th>\n",
       "      <th>total_sqft</th>\n",
       "      <th>bath</th>\n",
       "      <th>price</th>\n",
       "      <th>price_per_sqrt</th>\n",
       "    </tr>\n",
       "  </thead>\n",
       "  <tbody>\n",
       "    <tr>\n",
       "      <th>count</th>\n",
       "      <td>13306.000000</td>\n",
       "      <td>13306.000000</td>\n",
       "      <td>13306.000000</td>\n",
       "      <td>13306.000000</td>\n",
       "      <td>1.330600e+04</td>\n",
       "    </tr>\n",
       "    <tr>\n",
       "      <th>mean</th>\n",
       "      <td>2.802721</td>\n",
       "      <td>1557.486339</td>\n",
       "      <td>2.688787</td>\n",
       "      <td>112.508240</td>\n",
       "      <td>7.189607e+03</td>\n",
       "    </tr>\n",
       "    <tr>\n",
       "      <th>std</th>\n",
       "      <td>1.293383</td>\n",
       "      <td>1238.610672</td>\n",
       "      <td>1.338030</td>\n",
       "      <td>148.982877</td>\n",
       "      <td>2.371951e+04</td>\n",
       "    </tr>\n",
       "    <tr>\n",
       "      <th>min</th>\n",
       "      <td>1.000000</td>\n",
       "      <td>5.000000</td>\n",
       "      <td>1.000000</td>\n",
       "      <td>8.000000</td>\n",
       "      <td>2.678298e+02</td>\n",
       "    </tr>\n",
       "    <tr>\n",
       "      <th>25%</th>\n",
       "      <td>2.000000</td>\n",
       "      <td>1100.000000</td>\n",
       "      <td>2.000000</td>\n",
       "      <td>50.000000</td>\n",
       "      <td>4.270379e+03</td>\n",
       "    </tr>\n",
       "    <tr>\n",
       "      <th>50%</th>\n",
       "      <td>3.000000</td>\n",
       "      <td>1275.000000</td>\n",
       "      <td>2.000000</td>\n",
       "      <td>72.000000</td>\n",
       "      <td>5.441497e+03</td>\n",
       "    </tr>\n",
       "    <tr>\n",
       "      <th>75%</th>\n",
       "      <td>3.000000</td>\n",
       "      <td>1680.000000</td>\n",
       "      <td>3.000000</td>\n",
       "      <td>120.000000</td>\n",
       "      <td>7.332669e+03</td>\n",
       "    </tr>\n",
       "    <tr>\n",
       "      <th>max</th>\n",
       "      <td>43.000000</td>\n",
       "      <td>52272.000000</td>\n",
       "      <td>40.000000</td>\n",
       "      <td>3600.000000</td>\n",
       "      <td>2.300000e+06</td>\n",
       "    </tr>\n",
       "  </tbody>\n",
       "</table>\n",
       "</div>"
      ],
      "text/plain": [
       "               size    total_sqft          bath         price  price_per_sqrt\n",
       "count  13306.000000  13306.000000  13306.000000  13306.000000    1.330600e+04\n",
       "mean       2.802721   1557.486339      2.688787    112.508240    7.189607e+03\n",
       "std        1.293383   1238.610672      1.338030    148.982877    2.371951e+04\n",
       "min        1.000000      5.000000      1.000000      8.000000    2.678298e+02\n",
       "25%        2.000000   1100.000000      2.000000     50.000000    4.270379e+03\n",
       "50%        3.000000   1275.000000      2.000000     72.000000    5.441497e+03\n",
       "75%        3.000000   1680.000000      3.000000    120.000000    7.332669e+03\n",
       "max       43.000000  52272.000000     40.000000   3600.000000    2.300000e+06"
      ]
     },
     "execution_count": 184,
     "metadata": {},
     "output_type": "execute_result"
    }
   ],
   "source": [
    "df.describe()"
   ]
  },
  {
   "cell_type": "code",
   "execution_count": 183,
   "id": "27a55d04",
   "metadata": {},
   "outputs": [
    {
     "data": {
      "text/plain": [
       "count    13306.000000\n",
       "mean       574.186881\n",
       "std        388.380825\n",
       "min          0.714286\n",
       "25%        473.000000\n",
       "50%        552.000000\n",
       "75%        625.000000\n",
       "max      26136.000000\n",
       "dtype: float64"
      ]
     },
     "execution_count": 183,
     "metadata": {},
     "output_type": "execute_result"
    }
   ],
   "source": [
    "## trying to calculation the size of each room \n",
    "(df['total_sqft']/df['size']).describe()"
   ]
  },
  {
   "cell_type": "code",
   "execution_count": 192,
   "id": "b06894b2",
   "metadata": {},
   "outputs": [],
   "source": [
    "df=df[df['total_sqft']/df['size']>300]"
   ]
  },
  {
   "cell_type": "code",
   "execution_count": 194,
   "id": "49c359ed",
   "metadata": {},
   "outputs": [
    {
     "data": {
      "text/html": [
       "<div>\n",
       "<style scoped>\n",
       "    .dataframe tbody tr th:only-of-type {\n",
       "        vertical-align: middle;\n",
       "    }\n",
       "\n",
       "    .dataframe tbody tr th {\n",
       "        vertical-align: top;\n",
       "    }\n",
       "\n",
       "    .dataframe thead th {\n",
       "        text-align: right;\n",
       "    }\n",
       "</style>\n",
       "<table border=\"1\" class=\"dataframe\">\n",
       "  <thead>\n",
       "    <tr style=\"text-align: right;\">\n",
       "      <th></th>\n",
       "      <th>count</th>\n",
       "      <th>mean</th>\n",
       "      <th>std</th>\n",
       "      <th>min</th>\n",
       "      <th>25%</th>\n",
       "      <th>50%</th>\n",
       "      <th>75%</th>\n",
       "      <th>max</th>\n",
       "    </tr>\n",
       "  </thead>\n",
       "  <tbody>\n",
       "    <tr>\n",
       "      <th>size</th>\n",
       "      <td>12356.0</td>\n",
       "      <td>2.633943</td>\n",
       "      <td>0.966175</td>\n",
       "      <td>1.000000</td>\n",
       "      <td>2.0</td>\n",
       "      <td>3.000000</td>\n",
       "      <td>3.000000</td>\n",
       "      <td>16.000000</td>\n",
       "    </tr>\n",
       "    <tr>\n",
       "      <th>total_sqft</th>\n",
       "      <td>12356.0</td>\n",
       "      <td>1601.373643</td>\n",
       "      <td>1268.731502</td>\n",
       "      <td>340.000000</td>\n",
       "      <td>1115.0</td>\n",
       "      <td>1305.500000</td>\n",
       "      <td>1708.000000</td>\n",
       "      <td>52272.000000</td>\n",
       "    </tr>\n",
       "    <tr>\n",
       "      <th>bath</th>\n",
       "      <td>12356.0</td>\n",
       "      <td>2.542975</td>\n",
       "      <td>1.066702</td>\n",
       "      <td>1.000000</td>\n",
       "      <td>2.0</td>\n",
       "      <td>2.000000</td>\n",
       "      <td>3.000000</td>\n",
       "      <td>16.000000</td>\n",
       "    </tr>\n",
       "    <tr>\n",
       "      <th>price</th>\n",
       "      <td>12356.0</td>\n",
       "      <td>110.831862</td>\n",
       "      <td>152.758002</td>\n",
       "      <td>8.440000</td>\n",
       "      <td>49.0</td>\n",
       "      <td>69.500000</td>\n",
       "      <td>115.000000</td>\n",
       "      <td>3600.000000</td>\n",
       "    </tr>\n",
       "    <tr>\n",
       "      <th>price_per_sqrt</th>\n",
       "      <td>12356.0</td>\n",
       "      <td>6207.721358</td>\n",
       "      <td>4046.603744</td>\n",
       "      <td>267.829813</td>\n",
       "      <td>4200.0</td>\n",
       "      <td>5264.632169</td>\n",
       "      <td>6825.108836</td>\n",
       "      <td>176470.588235</td>\n",
       "    </tr>\n",
       "  </tbody>\n",
       "</table>\n",
       "</div>"
      ],
      "text/plain": [
       "                  count         mean          std         min     25%  \\\n",
       "size            12356.0     2.633943     0.966175    1.000000     2.0   \n",
       "total_sqft      12356.0  1601.373643  1268.731502  340.000000  1115.0   \n",
       "bath            12356.0     2.542975     1.066702    1.000000     2.0   \n",
       "price           12356.0   110.831862   152.758002    8.440000    49.0   \n",
       "price_per_sqrt  12356.0  6207.721358  4046.603744  267.829813  4200.0   \n",
       "\n",
       "                        50%          75%            max  \n",
       "size               3.000000     3.000000      16.000000  \n",
       "total_sqft      1305.500000  1708.000000   52272.000000  \n",
       "bath               2.000000     3.000000      16.000000  \n",
       "price             69.500000   115.000000    3600.000000  \n",
       "price_per_sqrt  5264.632169  6825.108836  176470.588235  "
      ]
     },
     "execution_count": 194,
     "metadata": {},
     "output_type": "execute_result"
    }
   ],
   "source": [
    "df.describe().T"
   ]
  },
  {
   "cell_type": "code",
   "execution_count": 200,
   "id": "a59ea88b",
   "metadata": {},
   "outputs": [
    {
     "data": {
      "text/html": [
       "<div>\n",
       "<style scoped>\n",
       "    .dataframe tbody tr th:only-of-type {\n",
       "        vertical-align: middle;\n",
       "    }\n",
       "\n",
       "    .dataframe tbody tr th {\n",
       "        vertical-align: top;\n",
       "    }\n",
       "\n",
       "    .dataframe thead th {\n",
       "        text-align: right;\n",
       "    }\n",
       "</style>\n",
       "<table border=\"1\" class=\"dataframe\">\n",
       "  <thead>\n",
       "    <tr style=\"text-align: right;\">\n",
       "      <th></th>\n",
       "      <th>location</th>\n",
       "      <th>size</th>\n",
       "      <th>total_sqft</th>\n",
       "      <th>bath</th>\n",
       "      <th>price</th>\n",
       "      <th>price_per_sqrt</th>\n",
       "    </tr>\n",
       "  </thead>\n",
       "  <tbody>\n",
       "    <tr>\n",
       "      <th>1892</th>\n",
       "      <td>other</td>\n",
       "      <td>3</td>\n",
       "      <td>52272.0</td>\n",
       "      <td>2.0</td>\n",
       "      <td>140.0</td>\n",
       "      <td>267.829813</td>\n",
       "    </tr>\n",
       "  </tbody>\n",
       "</table>\n",
       "</div>"
      ],
      "text/plain": [
       "     location  size  total_sqft  bath  price  price_per_sqrt\n",
       "1892    other     3     52272.0   2.0  140.0      267.829813"
      ]
     },
     "execution_count": 200,
     "metadata": {},
     "output_type": "execute_result"
    }
   ],
   "source": [
    "df[df['total_sqft']>51272.0]"
   ]
  },
  {
   "cell_type": "code",
   "execution_count": 206,
   "id": "4fac75a5",
   "metadata": {},
   "outputs": [],
   "source": [
    "new_df=df.groupby('location')['price_per_sqrt'].mean()"
   ]
  },
  {
   "cell_type": "code",
   "execution_count": 210,
   "id": "0bdb73b5",
   "metadata": {},
   "outputs": [
    {
     "name": "stdout",
     "output_type": "stream",
     "text": [
      "location\n",
      "1stBlockJayanagar            12359.253758\n",
      "1stPhaseJPNagar               9192.412831\n",
      "2ndPhaseJudicialLayout        4048.701183\n",
      "2ndStageNagarbhavi           12894.973545\n",
      "5thBlockHbrLayout             4878.584533\n",
      "5thPhaseJPNagar               5125.691217\n",
      "6thPhaseJPNagar               7326.205543\n",
      "7thPhaseJPNagar               6411.478264\n",
      "8thPhaseJPNagar               4856.661529\n",
      "9thPhaseJPNagar               4754.157965\n",
      "AECSLayout                    4841.772008\n",
      "Abbigere                      3787.823140\n",
      "AkshayaNagar                  5464.032667\n",
      "Ambalipura                    6323.831878\n",
      "AmbedkarNagar                 7447.724662\n",
      "Amruthahalli                  6048.669214\n",
      "Anandapura                    4668.796240\n",
      "AnanthNagar                   3179.990125\n",
      "Anekal                        3653.617913\n",
      "Anjanapura                    5198.809312\n",
      "Ardendale                     6010.168507\n",
      "Arekere                       5638.871749\n",
      "Attibele                      3939.409114\n",
      "BEMLLayout                    7426.885218\n",
      "BTM2ndStage                   9164.829467\n",
      "BTMLayout                     5997.953633\n",
      "Babusapalaya                  4081.812619\n",
      "BadavalaNagar                 6315.129108\n",
      "Balagere                      6111.562740\n",
      "Banashankari                  6502.673688\n",
      "BanashankariStageII          13762.164192\n",
      "BanashankariStageIII          6547.927534\n",
      "BanashankariStageV            5016.754190\n",
      "BanashankariStageVI           5040.404236\n",
      "Banaswadi                     6261.611758\n",
      "BanjaraLayout                 5513.763855\n",
      "Bannerghatta                  6722.539105\n",
      "BannerghattaRoad              5837.393764\n",
      "Basavangudi                   9854.951220\n",
      "BasaveshwaraNagar             9952.686740\n",
      "Battarahalli                  4707.663125\n",
      "Begur                         4439.015384\n",
      "BegurRoad                     3983.370784\n",
      "Bellandur                     5599.937857\n",
      "BensonTown                   12688.815074\n",
      "BharathiNagar                 4868.326442\n",
      "Bhoganhalli                   6258.091256\n",
      "Billekahalli                  6313.716887\n",
      "BinnyPete                     9367.926073\n",
      "Bisuvanahalli                 4037.179693\n",
      "Bommanahalli                  4398.726487\n",
      "Bommasandra                   3949.963493\n",
      "BommasandraIndustrialArea     3117.507926\n",
      "Bommenahalli                 14682.448510\n",
      "Brookefield                   6907.977619\n",
      "Budigere                      5040.509793\n",
      "CVRamanNagar                  5600.484820\n",
      "Chamrajpet                   11541.999664\n",
      "Chandapura                    2993.326039\n",
      "Channasandra                  4281.945268\n",
      "ChikkaTirupathi               4468.307828\n",
      "Chikkabanavar                 3821.712772\n",
      "Chikkalasandra                4445.103866\n",
      "Choodasandra                  5600.420845\n",
      "CookeTown                    10818.517500\n",
      "CoxTown                       9352.170048\n",
      "CunninghamRoad               20632.478844\n",
      "Dasanapura                    5111.219659\n",
      "Dasarahalli                   5230.059934\n",
      "Devanahalli                   5660.916649\n",
      "Devarachikkanahalli           4887.285850\n",
      "DoddaNekkundi                 5743.932342\n",
      "Doddaballapur                 6477.021195\n",
      "Doddakallasandra              4005.270434\n",
      "Doddathoguru                  3913.220411\n",
      "Domlur                        9715.462340\n",
      "Dommasandra                   3253.375692\n",
      "EPIPZone                      6584.740280\n",
      "ElectronicCity                4596.911770\n",
      "ElectronicCityPhaseII         3834.172521\n",
      "ElectronicsCityPhase1         4676.471988\n",
      "FrazerTown                   10335.889402\n",
      "GMPalaya                      4501.185825\n",
      "GarudacharPalya               5168.602841\n",
      "GiriNagar                    14587.820513\n",
      "GollarapalyaHosahalli         4203.979900\n",
      "Gottigere                     4371.433259\n",
      "GreenGlenLayout               6484.825743\n",
      "Gubbalala                     5349.049927\n",
      "Gunjur                        4683.201774\n",
      "HAL2ndStage                  18505.435928\n",
      "HBRLayout                     7824.907897\n",
      "HRBRLayout                    8195.594120\n",
      "HSRLayout                     5450.621618\n",
      "HaralurRoad                   5244.357935\n",
      "Harlur                        6429.332222\n",
      "Hebbal                        7345.010264\n",
      "HebbalKempapura               8683.936939\n",
      "HegdeNagar                    6911.860732\n",
      "Hennur                        4988.986071\n",
      "HennurRoad                    6094.985006\n",
      "Hoodi                         5943.377277\n",
      "HoramavuAgara                 4292.362251\n",
      "HoramavuBanaswadi             4535.602429\n",
      "Hormavu                       4925.245425\n",
      "HosaRoad                      5212.868913\n",
      "Hosakerehalli                 8266.870658\n",
      "Hoskote                       3364.342368\n",
      "HosurRoad                     5759.105681\n",
      "Hulimavu                      6576.680478\n",
      "ISROLayout                    5349.078585\n",
      "ITPL                          4690.450479\n",
      "IblurVillage                  7365.602217\n",
      "IndiraNagar                  13916.496675\n",
      "JPNagar                       5989.689771\n",
      "Jakkur                        6565.141754\n",
      "Jalahalli                     6422.843324\n",
      "JalahalliEast                 4933.532972\n",
      "Jigani                        5485.953342\n",
      "JudicialLayout                8660.425294\n",
      "KRPuram                       4908.349653\n",
      "Kadubeesanahalli              6838.309304\n",
      "Kadugodi                      5419.275149\n",
      "Kaggadasapura                 4412.098420\n",
      "Kaggalipura                   5505.112069\n",
      "Kaikondrahalli                5318.598609\n",
      "KalenaAgrahara                5376.856408\n",
      "Kalyannagar                   5986.409350\n",
      "Kambipura                     4667.416628\n",
      "Kammanahalli                  7938.711949\n",
      "Kammasandra                   3435.088021\n",
      "Kanakapura                    4636.249349\n",
      "KanakpuraRoad                 5253.491645\n",
      "Kannamangala                  5803.293965\n",
      "KarunaNagar                   8398.901813\n",
      "Kasavanhalli                  6127.004324\n",
      "KasturiNagar                  7562.960408\n",
      "Kathriguppe                   5981.736081\n",
      "KavalByrasandra               4873.320467\n",
      "Kenchenahalli                 5266.102456\n",
      "Kengeri                       4411.283629\n",
      "KengeriSatelliteTown          4145.835680\n",
      "Kereguddadahalli              3259.150303\n",
      "Kodichikkanahalli             4589.181242\n",
      "Kodigehaali                   5606.190240\n",
      "Kodigehalli                   8427.803678\n",
      "Kodihalli                    12745.704413\n",
      "Kogilu                        5779.737318\n",
      "Konanakunte                   7856.112824\n",
      "Koramangala                  10522.867862\n",
      "Kothannur                     3817.117176\n",
      "Kothanur                      5483.294629\n",
      "Kudlu                         4784.095401\n",
      "KudluGate                     5629.582302\n",
      "KumaraswamiLayout             6806.252180\n",
      "Kundalahalli                  7747.470034\n",
      "LBShastriNagar                4992.292189\n",
      "Laggere                       7599.987199\n",
      "LakshminarayanaPura           6974.038063\n",
      "Lingadheeranahalli            6613.525331\n",
      "MagadiRoad                    5318.908355\n",
      "Mahadevpura                   5071.688329\n",
      "MahalakshmiLayout            12364.792266\n",
      "Mallasandra                   5333.227507\n",
      "Malleshpalya                  5686.999270\n",
      "Malleshwaram                 13491.307232\n",
      "Marathahalli                  5935.937550\n",
      "Margondanahalli               5275.008502\n",
      "Marsur                        8931.111111\n",
      "MicoLayout                    4726.272833\n",
      "Munnekollal                   4719.021321\n",
      "Murugeshpalya                 5606.305829\n",
      "MysoreRoad                    5353.428712\n",
      "NGRLayout                     4561.254844\n",
      "NRILayout                     5304.256808\n",
      "Nagarbhavi                    8191.395649\n",
      "Nagasandra                    5709.347936\n",
      "Nagavara                      6070.296321\n",
      "Nagavarapalya                 6958.361632\n",
      "Narayanapura                  5699.796740\n",
      "NeeladriNagar                 4401.760668\n",
      "NehruNagar                    5200.040752\n",
      "OMBRLayout                    7282.754941\n",
      "OldAirportRoad                7659.431963\n",
      "OldMadrasRoad                 5708.510378\n",
      "Padmanabhanagar               7063.242781\n",
      "PaiLayout                     5182.957688\n",
      "Panathur                      5894.209541\n",
      "ParappanaAgrahara             3884.932906\n",
      "PattandurAgrahara             4778.635438\n",
      "PoornaPragnaLayout            5548.166343\n",
      "PrithviLayout                 7652.211532\n",
      "R.T.Nagar                     8525.847976\n",
      "Rachenahalli                  5169.413705\n",
      "RajaRajeshwariNagar           4415.885754\n",
      "RajajiNagar                  13584.593112\n",
      "RajivNagar                    6407.146001\n",
      "Ramagondanahalli              5788.397861\n",
      "RamamurthyNagar               5554.308641\n",
      "Rayasandra                    4486.135308\n",
      "SahakaraNagar                 6876.500863\n",
      "Sanjaynagar                   7523.494755\n",
      "SarakkiNagar                 11522.143081\n",
      "Sarjapur                      4763.704807\n",
      "SarjapurRoad                  6103.898101\n",
      "Sarjapura-AttibeleRoad        4038.897316\n",
      "Sector2HSRLayout              6323.049331\n",
      "Sector7HSRLayout              9823.324278\n",
      "Seegehalli                    5910.968936\n",
      "Shampura                      4849.051859\n",
      "ShivajiNagar                  8335.081932\n",
      "Singasandra                   4649.583599\n",
      "SomasundaraPalya              5165.139585\n",
      "Sompura                       3867.461091\n",
      "Sonnenahalli                  4714.309238\n",
      "Subramanyapura                5254.373065\n",
      "SultanPalaya                  5476.809340\n",
      "TCPalaya                      5603.005662\n",
      "Talaghattapura                5615.346055\n",
      "Thanisandra                   5484.394022\n",
      "Thigalarapalya                7329.026412\n",
      "Thubarahalli                  5806.883859\n",
      "Tindlu                        5365.292388\n",
      "TumkurRoad                    5774.068653\n",
      "Ulsoor                        9792.652085\n",
      "Uttarahalli                   4183.942858\n",
      "Varthur                       4887.026157\n",
      "VarthurRoad                   4181.393412\n",
      "Vasanthapura                  3841.815602\n",
      "Vidyaranyapura                5131.101516\n",
      "Vijayanagar                   7876.575533\n",
      "VishveshwaryaLayout           4429.421769\n",
      "VishwapriyaLayout             4029.877792\n",
      "Vittasandra                   5175.127477\n",
      "Whitefield                    6173.697660\n",
      "Yelachenahalli                6363.386871\n",
      "Yelahanka                     5180.880282\n",
      "YelahankaNewTown              5658.695722\n",
      "Yelenahalli                   4012.550871\n",
      "Yeshwanthpur                  6588.314781\n",
      "other                         7261.642515\n"
     ]
    }
   ],
   "source": [
    "print(new_df.to_string())"
   ]
  },
  {
   "cell_type": "code",
   "execution_count": 211,
   "id": "ae8dbf7e",
   "metadata": {},
   "outputs": [
    {
     "data": {
      "text/plain": [
       "(12356, 6)"
      ]
     },
     "execution_count": 211,
     "metadata": {},
     "output_type": "execute_result"
    }
   ],
   "source": [
    "df.shape"
   ]
  },
  {
   "cell_type": "code",
   "execution_count": 212,
   "id": "7bbe091d",
   "metadata": {},
   "outputs": [
    {
     "data": {
      "text/html": [
       "<div>\n",
       "<style scoped>\n",
       "    .dataframe tbody tr th:only-of-type {\n",
       "        vertical-align: middle;\n",
       "    }\n",
       "\n",
       "    .dataframe tbody tr th {\n",
       "        vertical-align: top;\n",
       "    }\n",
       "\n",
       "    .dataframe thead th {\n",
       "        text-align: right;\n",
       "    }\n",
       "</style>\n",
       "<table border=\"1\" class=\"dataframe\">\n",
       "  <thead>\n",
       "    <tr style=\"text-align: right;\">\n",
       "      <th></th>\n",
       "      <th>location</th>\n",
       "      <th>size</th>\n",
       "      <th>total_sqft</th>\n",
       "      <th>bath</th>\n",
       "      <th>price</th>\n",
       "      <th>price_per_sqrt</th>\n",
       "    </tr>\n",
       "  </thead>\n",
       "  <tbody>\n",
       "    <tr>\n",
       "      <th>0</th>\n",
       "      <td>ElectronicCityPhaseII</td>\n",
       "      <td>2</td>\n",
       "      <td>1056.0</td>\n",
       "      <td>2.0</td>\n",
       "      <td>39.07</td>\n",
       "      <td>3699.810606</td>\n",
       "    </tr>\n",
       "    <tr>\n",
       "      <th>1</th>\n",
       "      <td>ChikkaTirupathi</td>\n",
       "      <td>4</td>\n",
       "      <td>2600.0</td>\n",
       "      <td>5.0</td>\n",
       "      <td>120.00</td>\n",
       "      <td>4615.384615</td>\n",
       "    </tr>\n",
       "    <tr>\n",
       "      <th>2</th>\n",
       "      <td>Uttarahalli</td>\n",
       "      <td>3</td>\n",
       "      <td>1440.0</td>\n",
       "      <td>2.0</td>\n",
       "      <td>62.00</td>\n",
       "      <td>4305.555556</td>\n",
       "    </tr>\n",
       "    <tr>\n",
       "      <th>3</th>\n",
       "      <td>Lingadheeranahalli</td>\n",
       "      <td>3</td>\n",
       "      <td>1521.0</td>\n",
       "      <td>3.0</td>\n",
       "      <td>95.00</td>\n",
       "      <td>6245.890861</td>\n",
       "    </tr>\n",
       "    <tr>\n",
       "      <th>4</th>\n",
       "      <td>Kothanur</td>\n",
       "      <td>2</td>\n",
       "      <td>1200.0</td>\n",
       "      <td>2.0</td>\n",
       "      <td>51.00</td>\n",
       "      <td>4250.000000</td>\n",
       "    </tr>\n",
       "    <tr>\n",
       "      <th>...</th>\n",
       "      <td>...</td>\n",
       "      <td>...</td>\n",
       "      <td>...</td>\n",
       "      <td>...</td>\n",
       "      <td>...</td>\n",
       "      <td>...</td>\n",
       "    </tr>\n",
       "    <tr>\n",
       "      <th>13302</th>\n",
       "      <td>Whitefield</td>\n",
       "      <td>5</td>\n",
       "      <td>3453.0</td>\n",
       "      <td>4.0</td>\n",
       "      <td>231.00</td>\n",
       "      <td>6689.834926</td>\n",
       "    </tr>\n",
       "    <tr>\n",
       "      <th>13303</th>\n",
       "      <td>other</td>\n",
       "      <td>4</td>\n",
       "      <td>3600.0</td>\n",
       "      <td>5.0</td>\n",
       "      <td>400.00</td>\n",
       "      <td>11111.111111</td>\n",
       "    </tr>\n",
       "    <tr>\n",
       "      <th>13304</th>\n",
       "      <td>RajaRajeshwariNagar</td>\n",
       "      <td>2</td>\n",
       "      <td>1141.0</td>\n",
       "      <td>2.0</td>\n",
       "      <td>60.00</td>\n",
       "      <td>5258.545136</td>\n",
       "    </tr>\n",
       "    <tr>\n",
       "      <th>13305</th>\n",
       "      <td>Padmanabhanagar</td>\n",
       "      <td>4</td>\n",
       "      <td>4689.0</td>\n",
       "      <td>4.0</td>\n",
       "      <td>488.00</td>\n",
       "      <td>10407.336319</td>\n",
       "    </tr>\n",
       "    <tr>\n",
       "      <th>13306</th>\n",
       "      <td>Doddathoguru</td>\n",
       "      <td>1</td>\n",
       "      <td>550.0</td>\n",
       "      <td>1.0</td>\n",
       "      <td>17.00</td>\n",
       "      <td>3090.909091</td>\n",
       "    </tr>\n",
       "  </tbody>\n",
       "</table>\n",
       "<p>12356 rows × 6 columns</p>\n",
       "</div>"
      ],
      "text/plain": [
       "                    location  size  total_sqft  bath   price  price_per_sqrt\n",
       "0      ElectronicCityPhaseII     2      1056.0   2.0   39.07     3699.810606\n",
       "1            ChikkaTirupathi     4      2600.0   5.0  120.00     4615.384615\n",
       "2                Uttarahalli     3      1440.0   2.0   62.00     4305.555556\n",
       "3         Lingadheeranahalli     3      1521.0   3.0   95.00     6245.890861\n",
       "4                   Kothanur     2      1200.0   2.0   51.00     4250.000000\n",
       "...                      ...   ...         ...   ...     ...             ...\n",
       "13302             Whitefield     5      3453.0   4.0  231.00     6689.834926\n",
       "13303                  other     4      3600.0   5.0  400.00    11111.111111\n",
       "13304    RajaRajeshwariNagar     2      1141.0   2.0   60.00     5258.545136\n",
       "13305        Padmanabhanagar     4      4689.0   4.0  488.00    10407.336319\n",
       "13306           Doddathoguru     1       550.0   1.0   17.00     3090.909091\n",
       "\n",
       "[12356 rows x 6 columns]"
      ]
     },
     "execution_count": 212,
     "metadata": {},
     "output_type": "execute_result"
    }
   ],
   "source": [
    "df.dropna()"
   ]
  },
  {
   "cell_type": "code",
   "execution_count": 214,
   "id": "42dd5ab7",
   "metadata": {},
   "outputs": [],
   "source": [
    "df=df.reset_index(drop=True)"
   ]
  },
  {
   "cell_type": "code",
   "execution_count": 216,
   "id": "1889b34f",
   "metadata": {},
   "outputs": [
    {
     "data": {
      "text/plain": [
       "location           object\n",
       "size                int64\n",
       "total_sqft        float64\n",
       "bath              float64\n",
       "price             float64\n",
       "price_per_sqrt    float64\n",
       "dtype: object"
      ]
     },
     "execution_count": 216,
     "metadata": {},
     "output_type": "execute_result"
    }
   ],
   "source": [
    "df.dtypes"
   ]
  },
  {
   "cell_type": "code",
   "execution_count": 217,
   "id": "6cf2c3d2",
   "metadata": {},
   "outputs": [],
   "source": [
    "df.drop(columns=['size','price_per_sqrt'],inplace=True)"
   ]
  },
  {
   "cell_type": "code",
   "execution_count": 219,
   "id": "664747de",
   "metadata": {},
   "outputs": [
    {
     "name": "stdout",
     "output_type": "stream",
     "text": [
      "<class 'pandas.core.frame.DataFrame'>\n",
      "RangeIndex: 12356 entries, 0 to 12355\n",
      "Data columns (total 4 columns):\n",
      " #   Column      Non-Null Count  Dtype  \n",
      "---  ------      --------------  -----  \n",
      " 0   location    12356 non-null  object \n",
      " 1   total_sqft  12356 non-null  float64\n",
      " 2   bath        12356 non-null  float64\n",
      " 3   price       12356 non-null  float64\n",
      "dtypes: float64(3), object(1)\n",
      "memory usage: 386.3+ KB\n"
     ]
    }
   ],
   "source": [
    "df.info()"
   ]
  },
  {
   "cell_type": "code",
   "execution_count": 220,
   "id": "68da616f",
   "metadata": {},
   "outputs": [],
   "source": [
    "df_new= pd.read_csv(\"Bengaluru_House_Data.csv\")"
   ]
  },
  {
   "cell_type": "code",
   "execution_count": 222,
   "id": "60e579cf",
   "metadata": {},
   "outputs": [
    {
     "data": {
      "text/html": [
       "<div>\n",
       "<style scoped>\n",
       "    .dataframe tbody tr th:only-of-type {\n",
       "        vertical-align: middle;\n",
       "    }\n",
       "\n",
       "    .dataframe tbody tr th {\n",
       "        vertical-align: top;\n",
       "    }\n",
       "\n",
       "    .dataframe thead th {\n",
       "        text-align: right;\n",
       "    }\n",
       "</style>\n",
       "<table border=\"1\" class=\"dataframe\">\n",
       "  <thead>\n",
       "    <tr style=\"text-align: right;\">\n",
       "      <th></th>\n",
       "      <th>location</th>\n",
       "      <th>total_sqft</th>\n",
       "      <th>bath</th>\n",
       "      <th>price</th>\n",
       "    </tr>\n",
       "  </thead>\n",
       "  <tbody>\n",
       "    <tr>\n",
       "      <th>0</th>\n",
       "      <td>ElectronicCityPhaseII</td>\n",
       "      <td>1056.0</td>\n",
       "      <td>2.0</td>\n",
       "      <td>39.07</td>\n",
       "    </tr>\n",
       "    <tr>\n",
       "      <th>1</th>\n",
       "      <td>ChikkaTirupathi</td>\n",
       "      <td>2600.0</td>\n",
       "      <td>5.0</td>\n",
       "      <td>120.00</td>\n",
       "    </tr>\n",
       "    <tr>\n",
       "      <th>2</th>\n",
       "      <td>Uttarahalli</td>\n",
       "      <td>1440.0</td>\n",
       "      <td>2.0</td>\n",
       "      <td>62.00</td>\n",
       "    </tr>\n",
       "    <tr>\n",
       "      <th>3</th>\n",
       "      <td>Lingadheeranahalli</td>\n",
       "      <td>1521.0</td>\n",
       "      <td>3.0</td>\n",
       "      <td>95.00</td>\n",
       "    </tr>\n",
       "    <tr>\n",
       "      <th>4</th>\n",
       "      <td>Kothanur</td>\n",
       "      <td>1200.0</td>\n",
       "      <td>2.0</td>\n",
       "      <td>51.00</td>\n",
       "    </tr>\n",
       "  </tbody>\n",
       "</table>\n",
       "</div>"
      ],
      "text/plain": [
       "                location  total_sqft  bath   price\n",
       "0  ElectronicCityPhaseII      1056.0   2.0   39.07\n",
       "1        ChikkaTirupathi      2600.0   5.0  120.00\n",
       "2            Uttarahalli      1440.0   2.0   62.00\n",
       "3     Lingadheeranahalli      1521.0   3.0   95.00\n",
       "4               Kothanur      1200.0   2.0   51.00"
      ]
     },
     "execution_count": 222,
     "metadata": {},
     "output_type": "execute_result"
    }
   ],
   "source": [
    "df.head()"
   ]
  },
  {
   "cell_type": "code",
   "execution_count": 223,
   "id": "1957a654",
   "metadata": {},
   "outputs": [
    {
     "data": {
      "text/html": [
       "<div>\n",
       "<style scoped>\n",
       "    .dataframe tbody tr th:only-of-type {\n",
       "        vertical-align: middle;\n",
       "    }\n",
       "\n",
       "    .dataframe tbody tr th {\n",
       "        vertical-align: top;\n",
       "    }\n",
       "\n",
       "    .dataframe thead th {\n",
       "        text-align: right;\n",
       "    }\n",
       "</style>\n",
       "<table border=\"1\" class=\"dataframe\">\n",
       "  <thead>\n",
       "    <tr style=\"text-align: right;\">\n",
       "      <th></th>\n",
       "      <th>area_type</th>\n",
       "      <th>availability</th>\n",
       "      <th>location</th>\n",
       "      <th>size</th>\n",
       "      <th>society</th>\n",
       "      <th>total_sqft</th>\n",
       "      <th>bath</th>\n",
       "      <th>balcony</th>\n",
       "      <th>price</th>\n",
       "    </tr>\n",
       "  </thead>\n",
       "  <tbody>\n",
       "    <tr>\n",
       "      <th>0</th>\n",
       "      <td>Super built-up  Area</td>\n",
       "      <td>19-Dec</td>\n",
       "      <td>Electronic City Phase II</td>\n",
       "      <td>2 BHK</td>\n",
       "      <td>Coomee</td>\n",
       "      <td>1056</td>\n",
       "      <td>2.0</td>\n",
       "      <td>1.0</td>\n",
       "      <td>39.07</td>\n",
       "    </tr>\n",
       "    <tr>\n",
       "      <th>1</th>\n",
       "      <td>Plot  Area</td>\n",
       "      <td>Ready To Move</td>\n",
       "      <td>Chikka Tirupathi</td>\n",
       "      <td>4 Bedroom</td>\n",
       "      <td>Theanmp</td>\n",
       "      <td>2600</td>\n",
       "      <td>5.0</td>\n",
       "      <td>3.0</td>\n",
       "      <td>120.00</td>\n",
       "    </tr>\n",
       "    <tr>\n",
       "      <th>2</th>\n",
       "      <td>Built-up  Area</td>\n",
       "      <td>Ready To Move</td>\n",
       "      <td>Uttarahalli</td>\n",
       "      <td>3 BHK</td>\n",
       "      <td>NaN</td>\n",
       "      <td>1440</td>\n",
       "      <td>2.0</td>\n",
       "      <td>3.0</td>\n",
       "      <td>62.00</td>\n",
       "    </tr>\n",
       "    <tr>\n",
       "      <th>3</th>\n",
       "      <td>Super built-up  Area</td>\n",
       "      <td>Ready To Move</td>\n",
       "      <td>Lingadheeranahalli</td>\n",
       "      <td>3 BHK</td>\n",
       "      <td>Soiewre</td>\n",
       "      <td>1521</td>\n",
       "      <td>3.0</td>\n",
       "      <td>1.0</td>\n",
       "      <td>95.00</td>\n",
       "    </tr>\n",
       "    <tr>\n",
       "      <th>4</th>\n",
       "      <td>Super built-up  Area</td>\n",
       "      <td>Ready To Move</td>\n",
       "      <td>Kothanur</td>\n",
       "      <td>2 BHK</td>\n",
       "      <td>NaN</td>\n",
       "      <td>1200</td>\n",
       "      <td>2.0</td>\n",
       "      <td>1.0</td>\n",
       "      <td>51.00</td>\n",
       "    </tr>\n",
       "  </tbody>\n",
       "</table>\n",
       "</div>"
      ],
      "text/plain": [
       "              area_type   availability                  location       size  \\\n",
       "0  Super built-up  Area         19-Dec  Electronic City Phase II      2 BHK   \n",
       "1            Plot  Area  Ready To Move          Chikka Tirupathi  4 Bedroom   \n",
       "2        Built-up  Area  Ready To Move               Uttarahalli      3 BHK   \n",
       "3  Super built-up  Area  Ready To Move        Lingadheeranahalli      3 BHK   \n",
       "4  Super built-up  Area  Ready To Move                  Kothanur      2 BHK   \n",
       "\n",
       "   society total_sqft  bath  balcony   price  \n",
       "0  Coomee        1056   2.0      1.0   39.07  \n",
       "1  Theanmp       2600   5.0      3.0  120.00  \n",
       "2      NaN       1440   2.0      3.0   62.00  \n",
       "3  Soiewre       1521   3.0      1.0   95.00  \n",
       "4      NaN       1200   2.0      1.0   51.00  "
      ]
     },
     "execution_count": 223,
     "metadata": {},
     "output_type": "execute_result"
    }
   ],
   "source": [
    "df_new.head()"
   ]
  },
  {
   "cell_type": "code",
   "execution_count": 226,
   "id": "3f2e4761",
   "metadata": {},
   "outputs": [],
   "source": [
    "new_df=pd.merge(df, df_new,  how='inner', left_on=['location','price'], right_on = ['location','price'])"
   ]
  },
  {
   "cell_type": "code",
   "execution_count": 227,
   "id": "8c9dacd0",
   "metadata": {},
   "outputs": [
    {
     "data": {
      "text/plain": [
       "2218"
      ]
     },
     "execution_count": 227,
     "metadata": {},
     "output_type": "execute_result"
    }
   ],
   "source": [
    "new_df.duplicated().sum()"
   ]
  },
  {
   "cell_type": "code",
   "execution_count": 230,
   "id": "d816b007",
   "metadata": {},
   "outputs": [],
   "source": [
    "new_df=new_df[~new_df.duplicated()]"
   ]
  },
  {
   "cell_type": "code",
   "execution_count": 231,
   "id": "cd7ee61e",
   "metadata": {},
   "outputs": [
    {
     "name": "stdout",
     "output_type": "stream",
     "text": [
      "<class 'pandas.core.frame.DataFrame'>\n",
      "Index: 9614 entries, 0 to 11831\n",
      "Data columns (total 11 columns):\n",
      " #   Column        Non-Null Count  Dtype  \n",
      "---  ------        --------------  -----  \n",
      " 0   location      9614 non-null   object \n",
      " 1   total_sqft_x  9614 non-null   float64\n",
      " 2   bath_x        9614 non-null   float64\n",
      " 3   price         9614 non-null   float64\n",
      " 4   area_type     9614 non-null   object \n",
      " 5   availability  9614 non-null   object \n",
      " 6   size          9604 non-null   object \n",
      " 7   society       6841 non-null   object \n",
      " 8   total_sqft_y  9614 non-null   object \n",
      " 9   bath_y        9574 non-null   float64\n",
      " 10  balcony       9299 non-null   float64\n",
      "dtypes: float64(5), object(6)\n",
      "memory usage: 901.3+ KB\n"
     ]
    }
   ],
   "source": [
    "new_df.info()"
   ]
  },
  {
   "cell_type": "code",
   "execution_count": 236,
   "id": "0bdf334e",
   "metadata": {},
   "outputs": [],
   "source": [
    "dff=new_df[['location','total_sqft_x','bath_x','price','size']]"
   ]
  },
  {
   "cell_type": "code",
   "execution_count": 253,
   "id": "5ace1860",
   "metadata": {},
   "outputs": [
    {
     "name": "stderr",
     "output_type": "stream",
     "text": [
      "C:\\Users\\abhis\\AppData\\Local\\Temp\\ipykernel_34464\\1820992875.py:1: SettingWithCopyWarning: \n",
      "A value is trying to be set on a copy of a slice from a DataFrame\n",
      "\n",
      "See the caveats in the documentation: https://pandas.pydata.org/pandas-docs/stable/user_guide/indexing.html#returning-a-view-versus-a-copy\n",
      "  dff.rename(columns={'total_sqft_x':'total_sqft','bath_x':'bath'},inplace=True)\n"
     ]
    }
   ],
   "source": [
    "dff.rename(columns={'total_sqft_x':'total_sqft','bath_x':'bath'},inplace=True)"
   ]
  },
  {
   "cell_type": "code",
   "execution_count": 237,
   "id": "6a33cd91",
   "metadata": {},
   "outputs": [
    {
     "data": {
      "text/plain": [
       "array(['3 BHK', '2 BHK', '4 Bedroom', '3 Bedroom', '1 BHK', '4 BHK',\n",
       "       '1 Bedroom', '8 Bedroom', '6 Bedroom', '5 BHK', '7 Bedroom',\n",
       "       '2 Bedroom', '7 BHK', '9 Bedroom', '5 Bedroom', nan, '6 BHK',\n",
       "       '9 BHK', '10 Bedroom'], dtype=object)"
      ]
     },
     "execution_count": 237,
     "metadata": {},
     "output_type": "execute_result"
    }
   ],
   "source": [
    "dff['size'].unique()"
   ]
  },
  {
   "cell_type": "code",
   "execution_count": 247,
   "id": "f659d8b4",
   "metadata": {},
   "outputs": [
    {
     "name": "stderr",
     "output_type": "stream",
     "text": [
      "C:\\Users\\abhis\\AppData\\Local\\Temp\\ipykernel_34464\\3105867653.py:1: SettingWithCopyWarning: \n",
      "A value is trying to be set on a copy of a slice from a DataFrame.\n",
      "Try using .loc[row_indexer,col_indexer] = value instead\n",
      "\n",
      "See the caveats in the documentation: https://pandas.pydata.org/pandas-docs/stable/user_guide/indexing.html#returning-a-view-versus-a-copy\n",
      "  dff['size']=dff['size'].str.split(' ').str.get(0).dropna().astype(int)\n"
     ]
    }
   ],
   "source": [
    "dff['size']=dff['size'].str.split(' ').str.get(0).dropna().astype(int)"
   ]
  },
  {
   "cell_type": "code",
   "execution_count": 248,
   "id": "f4d09648",
   "metadata": {},
   "outputs": [
    {
     "data": {
      "text/plain": [
       "(9614, 5)"
      ]
     },
     "execution_count": 248,
     "metadata": {},
     "output_type": "execute_result"
    }
   ],
   "source": [
    "dff.shape"
   ]
  },
  {
   "cell_type": "code",
   "execution_count": 254,
   "id": "d618b050",
   "metadata": {},
   "outputs": [
    {
     "data": {
      "text/html": [
       "<div>\n",
       "<style scoped>\n",
       "    .dataframe tbody tr th:only-of-type {\n",
       "        vertical-align: middle;\n",
       "    }\n",
       "\n",
       "    .dataframe tbody tr th {\n",
       "        vertical-align: top;\n",
       "    }\n",
       "\n",
       "    .dataframe thead th {\n",
       "        text-align: right;\n",
       "    }\n",
       "</style>\n",
       "<table border=\"1\" class=\"dataframe\">\n",
       "  <thead>\n",
       "    <tr style=\"text-align: right;\">\n",
       "      <th></th>\n",
       "      <th>location</th>\n",
       "      <th>total_sqft</th>\n",
       "      <th>bath</th>\n",
       "      <th>price</th>\n",
       "      <th>size</th>\n",
       "    </tr>\n",
       "  </thead>\n",
       "  <tbody>\n",
       "    <tr>\n",
       "      <th>0</th>\n",
       "      <td>Uttarahalli</td>\n",
       "      <td>1440.0</td>\n",
       "      <td>2.0</td>\n",
       "      <td>62.00</td>\n",
       "      <td>3.0</td>\n",
       "    </tr>\n",
       "    <tr>\n",
       "      <th>1</th>\n",
       "      <td>Lingadheeranahalli</td>\n",
       "      <td>1521.0</td>\n",
       "      <td>3.0</td>\n",
       "      <td>95.00</td>\n",
       "      <td>3.0</td>\n",
       "    </tr>\n",
       "    <tr>\n",
       "      <th>2</th>\n",
       "      <td>Lingadheeranahalli</td>\n",
       "      <td>1521.0</td>\n",
       "      <td>3.0</td>\n",
       "      <td>95.00</td>\n",
       "      <td>3.0</td>\n",
       "    </tr>\n",
       "    <tr>\n",
       "      <th>3</th>\n",
       "      <td>Lingadheeranahalli</td>\n",
       "      <td>1521.0</td>\n",
       "      <td>3.0</td>\n",
       "      <td>95.00</td>\n",
       "      <td>3.0</td>\n",
       "    </tr>\n",
       "    <tr>\n",
       "      <th>4</th>\n",
       "      <td>Lingadheeranahalli</td>\n",
       "      <td>1511.0</td>\n",
       "      <td>3.0</td>\n",
       "      <td>95.00</td>\n",
       "      <td>3.0</td>\n",
       "    </tr>\n",
       "    <tr>\n",
       "      <th>...</th>\n",
       "      <td>...</td>\n",
       "      <td>...</td>\n",
       "      <td>...</td>\n",
       "      <td>...</td>\n",
       "      <td>...</td>\n",
       "    </tr>\n",
       "    <tr>\n",
       "      <th>11827</th>\n",
       "      <td>Kothanur</td>\n",
       "      <td>1454.0</td>\n",
       "      <td>3.0</td>\n",
       "      <td>71.50</td>\n",
       "      <td>3.0</td>\n",
       "    </tr>\n",
       "    <tr>\n",
       "      <th>11828</th>\n",
       "      <td>Billekahalli</td>\n",
       "      <td>1805.0</td>\n",
       "      <td>3.0</td>\n",
       "      <td>134.00</td>\n",
       "      <td>3.0</td>\n",
       "    </tr>\n",
       "    <tr>\n",
       "      <th>11829</th>\n",
       "      <td>Rachenahalli</td>\n",
       "      <td>1050.0</td>\n",
       "      <td>2.0</td>\n",
       "      <td>52.71</td>\n",
       "      <td>2.0</td>\n",
       "    </tr>\n",
       "    <tr>\n",
       "      <th>11830</th>\n",
       "      <td>Whitefield</td>\n",
       "      <td>3453.0</td>\n",
       "      <td>4.0</td>\n",
       "      <td>231.00</td>\n",
       "      <td>5.0</td>\n",
       "    </tr>\n",
       "    <tr>\n",
       "      <th>11831</th>\n",
       "      <td>Padmanabhanagar</td>\n",
       "      <td>4689.0</td>\n",
       "      <td>4.0</td>\n",
       "      <td>488.00</td>\n",
       "      <td>4.0</td>\n",
       "    </tr>\n",
       "  </tbody>\n",
       "</table>\n",
       "<p>9604 rows × 5 columns</p>\n",
       "</div>"
      ],
      "text/plain": [
       "                 location  total_sqft  bath   price  size\n",
       "0             Uttarahalli      1440.0   2.0   62.00   3.0\n",
       "1      Lingadheeranahalli      1521.0   3.0   95.00   3.0\n",
       "2      Lingadheeranahalli      1521.0   3.0   95.00   3.0\n",
       "3      Lingadheeranahalli      1521.0   3.0   95.00   3.0\n",
       "4      Lingadheeranahalli      1511.0   3.0   95.00   3.0\n",
       "...                   ...         ...   ...     ...   ...\n",
       "11827            Kothanur      1454.0   3.0   71.50   3.0\n",
       "11828        Billekahalli      1805.0   3.0  134.00   3.0\n",
       "11829        Rachenahalli      1050.0   2.0   52.71   2.0\n",
       "11830          Whitefield      3453.0   4.0  231.00   5.0\n",
       "11831     Padmanabhanagar      4689.0   4.0  488.00   4.0\n",
       "\n",
       "[9604 rows x 5 columns]"
      ]
     },
     "execution_count": 254,
     "metadata": {},
     "output_type": "execute_result"
    }
   ],
   "source": [
    "dff"
   ]
  },
  {
   "cell_type": "code",
   "execution_count": 251,
   "id": "022b80dc",
   "metadata": {},
   "outputs": [],
   "source": [
    "dff=dff.dropna()"
   ]
  },
  {
   "cell_type": "code",
   "execution_count": 252,
   "id": "1035349f",
   "metadata": {},
   "outputs": [
    {
     "data": {
      "text/html": [
       "<div>\n",
       "<style scoped>\n",
       "    .dataframe tbody tr th:only-of-type {\n",
       "        vertical-align: middle;\n",
       "    }\n",
       "\n",
       "    .dataframe tbody tr th {\n",
       "        vertical-align: top;\n",
       "    }\n",
       "\n",
       "    .dataframe thead th {\n",
       "        text-align: right;\n",
       "    }\n",
       "</style>\n",
       "<table border=\"1\" class=\"dataframe\">\n",
       "  <thead>\n",
       "    <tr style=\"text-align: right;\">\n",
       "      <th></th>\n",
       "      <th>location</th>\n",
       "      <th>total_sqft_x</th>\n",
       "      <th>bath_x</th>\n",
       "      <th>price</th>\n",
       "      <th>size</th>\n",
       "    </tr>\n",
       "  </thead>\n",
       "  <tbody>\n",
       "    <tr>\n",
       "      <th>0</th>\n",
       "      <td>Uttarahalli</td>\n",
       "      <td>1440.0</td>\n",
       "      <td>2.0</td>\n",
       "      <td>62.00</td>\n",
       "      <td>3.0</td>\n",
       "    </tr>\n",
       "    <tr>\n",
       "      <th>1</th>\n",
       "      <td>Lingadheeranahalli</td>\n",
       "      <td>1521.0</td>\n",
       "      <td>3.0</td>\n",
       "      <td>95.00</td>\n",
       "      <td>3.0</td>\n",
       "    </tr>\n",
       "    <tr>\n",
       "      <th>2</th>\n",
       "      <td>Lingadheeranahalli</td>\n",
       "      <td>1521.0</td>\n",
       "      <td>3.0</td>\n",
       "      <td>95.00</td>\n",
       "      <td>3.0</td>\n",
       "    </tr>\n",
       "    <tr>\n",
       "      <th>3</th>\n",
       "      <td>Lingadheeranahalli</td>\n",
       "      <td>1521.0</td>\n",
       "      <td>3.0</td>\n",
       "      <td>95.00</td>\n",
       "      <td>3.0</td>\n",
       "    </tr>\n",
       "    <tr>\n",
       "      <th>4</th>\n",
       "      <td>Lingadheeranahalli</td>\n",
       "      <td>1511.0</td>\n",
       "      <td>3.0</td>\n",
       "      <td>95.00</td>\n",
       "      <td>3.0</td>\n",
       "    </tr>\n",
       "    <tr>\n",
       "      <th>...</th>\n",
       "      <td>...</td>\n",
       "      <td>...</td>\n",
       "      <td>...</td>\n",
       "      <td>...</td>\n",
       "      <td>...</td>\n",
       "    </tr>\n",
       "    <tr>\n",
       "      <th>9599</th>\n",
       "      <td>Kothanur</td>\n",
       "      <td>1454.0</td>\n",
       "      <td>3.0</td>\n",
       "      <td>71.50</td>\n",
       "      <td>3.0</td>\n",
       "    </tr>\n",
       "    <tr>\n",
       "      <th>9600</th>\n",
       "      <td>Billekahalli</td>\n",
       "      <td>1805.0</td>\n",
       "      <td>3.0</td>\n",
       "      <td>134.00</td>\n",
       "      <td>3.0</td>\n",
       "    </tr>\n",
       "    <tr>\n",
       "      <th>9601</th>\n",
       "      <td>Rachenahalli</td>\n",
       "      <td>1050.0</td>\n",
       "      <td>2.0</td>\n",
       "      <td>52.71</td>\n",
       "      <td>2.0</td>\n",
       "    </tr>\n",
       "    <tr>\n",
       "      <th>9602</th>\n",
       "      <td>Whitefield</td>\n",
       "      <td>3453.0</td>\n",
       "      <td>4.0</td>\n",
       "      <td>231.00</td>\n",
       "      <td>5.0</td>\n",
       "    </tr>\n",
       "    <tr>\n",
       "      <th>9603</th>\n",
       "      <td>Padmanabhanagar</td>\n",
       "      <td>4689.0</td>\n",
       "      <td>4.0</td>\n",
       "      <td>488.00</td>\n",
       "      <td>4.0</td>\n",
       "    </tr>\n",
       "  </tbody>\n",
       "</table>\n",
       "<p>9604 rows × 5 columns</p>\n",
       "</div>"
      ],
      "text/plain": [
       "                location  total_sqft_x  bath_x   price  size\n",
       "0            Uttarahalli        1440.0     2.0   62.00   3.0\n",
       "1     Lingadheeranahalli        1521.0     3.0   95.00   3.0\n",
       "2     Lingadheeranahalli        1521.0     3.0   95.00   3.0\n",
       "3     Lingadheeranahalli        1521.0     3.0   95.00   3.0\n",
       "4     Lingadheeranahalli        1511.0     3.0   95.00   3.0\n",
       "...                  ...           ...     ...     ...   ...\n",
       "9599            Kothanur        1454.0     3.0   71.50   3.0\n",
       "9600        Billekahalli        1805.0     3.0  134.00   3.0\n",
       "9601        Rachenahalli        1050.0     2.0   52.71   2.0\n",
       "9602          Whitefield        3453.0     4.0  231.00   5.0\n",
       "9603     Padmanabhanagar        4689.0     4.0  488.00   4.0\n",
       "\n",
       "[9604 rows x 5 columns]"
      ]
     },
     "execution_count": 252,
     "metadata": {},
     "output_type": "execute_result"
    }
   ],
   "source": [
    "dff.reset_index(drop=True)"
   ]
  },
  {
   "cell_type": "code",
   "execution_count": 265,
   "id": "0a445c86",
   "metadata": {},
   "outputs": [],
   "source": [
    "X=dff.drop('price',axis=1)\n",
    "y=dff['price']"
   ]
  },
  {
   "cell_type": "code",
   "execution_count": 356,
   "id": "92d2d0c4",
   "metadata": {},
   "outputs": [
    {
     "data": {
      "text/plain": [
       "0         62.00\n",
       "1         95.00\n",
       "2         95.00\n",
       "3         95.00\n",
       "4         95.00\n",
       "          ...  \n",
       "11827     71.50\n",
       "11828    134.00\n",
       "11829     52.71\n",
       "11830    231.00\n",
       "11831    488.00\n",
       "Name: price, Length: 9604, dtype: float64"
      ]
     },
     "execution_count": 356,
     "metadata": {},
     "output_type": "execute_result"
    }
   ],
   "source": [
    "y"
   ]
  },
  {
   "cell_type": "code",
   "execution_count": 266,
   "id": "23ee9c01",
   "metadata": {},
   "outputs": [
    {
     "name": "stdout",
     "output_type": "stream",
     "text": [
      "X size :: (9604, 4)\n",
      "y size :: (9604,)\n"
     ]
    }
   ],
   "source": [
    "print(f'X size :: {X.shape}')\n",
    "print(f'y size :: {y.shape}')"
   ]
  },
  {
   "cell_type": "code",
   "execution_count": 336,
   "id": "b89239de",
   "metadata": {},
   "outputs": [],
   "source": [
    "from sklearn.model_selection import train_test_split\n",
    "X_train,X_test,y_train,y_test=train_test_split(X,y,test_size=0.3,random_state=2)"
   ]
  },
  {
   "cell_type": "code",
   "execution_count": 337,
   "id": "56bef21d",
   "metadata": {},
   "outputs": [],
   "source": [
    "from sklearn.linear_model import LinearRegression,Lasso,Ridge\n",
    "from sklearn.svm import SVC\n",
    "from sklearn.naive_bayes import MultinomialNB\n",
    "from sklearn.tree import DecisionTreeRegressor\n",
    "from sklearn.neighbors import KNeighborsRegressor\n",
    "from sklearn.ensemble import RandomForestRegressor\n",
    "from sklearn.ensemble import AdaBoostRegressor\n",
    "from sklearn.ensemble import BaggingRegressor\n",
    "from sklearn.ensemble import ExtraTreesRegressor\n",
    "from sklearn.ensemble import GradientBoostingRegressor\n",
    "from xgboost import XGBRFRegressor\n",
    "from sklearn.pipeline import make_pipeline\n",
    "from sklearn.preprocessing import OneHotEncoder\n",
    "from sklearn.preprocessing import MinMaxScaler\n",
    "from sklearn.compose import ColumnTransformer"
   ]
  },
  {
   "cell_type": "code",
   "execution_count": 338,
   "id": "7e38b2da",
   "metadata": {},
   "outputs": [],
   "source": [
    "## divide numertical and categorical \n",
    "categorical_attributes=X_train.select_dtypes(['object']).columns \n",
    "numerical_attibutes=X_train.select_dtypes(['int','float']).columns"
   ]
  },
  {
   "cell_type": "code",
   "execution_count": 339,
   "id": "1f0a9503",
   "metadata": {},
   "outputs": [
    {
     "data": {
      "text/plain": [
       "Index(['location'], dtype='object')"
      ]
     },
     "execution_count": 339,
     "metadata": {},
     "output_type": "execute_result"
    }
   ],
   "source": [
    "categorical_attributes"
   ]
  },
  {
   "cell_type": "code",
   "execution_count": 340,
   "id": "04993d35",
   "metadata": {},
   "outputs": [
    {
     "data": {
      "text/plain": [
       "Index(['total_sqft', 'bath', 'size'], dtype='object')"
      ]
     },
     "execution_count": 340,
     "metadata": {},
     "output_type": "execute_result"
    }
   ],
   "source": [
    "numerical_attibutes"
   ]
  },
  {
   "cell_type": "code",
   "execution_count": 341,
   "id": "09615b50",
   "metadata": {},
   "outputs": [],
   "source": [
    "ct = ColumnTransformer([\n",
    "    (\"OneHotEncoder\",OneHotEncoder(handle_unknown='ignore'),categorical_attributes),\n",
    "    (\"MinMaxScaler\",MinMaxScaler(),numerical_attibutes)\n",
    "])"
   ]
  },
  {
   "cell_type": "code",
   "execution_count": 342,
   "id": "32bef7de",
   "metadata": {},
   "outputs": [
    {
     "data": {
      "text/plain": [
       "(6722, 4)"
      ]
     },
     "execution_count": 342,
     "metadata": {},
     "output_type": "execute_result"
    }
   ],
   "source": [
    "X_train.shape"
   ]
  },
  {
   "cell_type": "code",
   "execution_count": 343,
   "id": "734b23c4",
   "metadata": {},
   "outputs": [
    {
     "data": {
      "text/plain": [
       "(2882, 4)"
      ]
     },
     "execution_count": 343,
     "metadata": {},
     "output_type": "execute_result"
    }
   ],
   "source": [
    "X_test.shape"
   ]
  },
  {
   "cell_type": "code",
   "execution_count": 344,
   "id": "5996f4bb",
   "metadata": {},
   "outputs": [],
   "source": [
    "svc =SVC(kernel='sigmoid',gamma=1.0)\n",
    "knc=KNeighborsRegressor()\n",
    "mnb=MultinomialNB()\n",
    "dtc=DecisionTreeRegressor(max_depth=5)\n",
    "lrc=LinearRegression()\n",
    "rfc=RandomForestRegressor(n_estimators=50,random_state=2)\n",
    "abc=AdaBoostRegressor(n_estimators=50,random_state=2)\n",
    "bc=BaggingRegressor(n_estimators=50,random_state=2)\n",
    "etc=ExtraTreesRegressor(n_estimators=50,random_state=2)\n",
    "gbdt=GradientBoostingRegressor(n_estimators=50,random_state=2)\n",
    "xgb=XGBRFRegressor(n_estimators=50,random_state=2)\n",
    "la=Lasso()\n",
    "rg=Ridge()"
   ]
  },
  {
   "cell_type": "code",
   "execution_count": 303,
   "id": "5671b586",
   "metadata": {},
   "outputs": [],
   "source": [
    "## making the pipeline\n",
    "#pipesvr= make_pipeline(ct,svc) { need to check later}\n",
    "pipeknr= make_pipeline(ct,knc)\n",
    "###pipemnb= make_pipeline(ct,mnb)\n",
    "pipedtr= make_pipeline(ct,dtc)\n",
    "pipelrr= make_pipeline(ct,lrc)\n",
    "piperfr= make_pipeline(ct,abc)\n",
    "pipeabr= make_pipeline(ct,knc)\n",
    "pipebr= make_pipeline(ct,bc)\n",
    "pipeetr= make_pipeline(ct,etc)\n",
    "pipegbdr= make_pipeline(ct,gbdt)\n",
    "pipexgbr= make_pipeline(ct,xgb)\n",
    "pipelasso= make_pipeline(ct,la)\n",
    "piperidge= make_pipeline(ct,rg)"
   ]
  },
  {
   "cell_type": "code",
   "execution_count": 345,
   "id": "1f1854ff",
   "metadata": {},
   "outputs": [
    {
     "data": {
      "text/html": [
       "<style>#sk-container-id-3 {color: black;background-color: white;}#sk-container-id-3 pre{padding: 0;}#sk-container-id-3 div.sk-toggleable {background-color: white;}#sk-container-id-3 label.sk-toggleable__label {cursor: pointer;display: block;width: 100%;margin-bottom: 0;padding: 0.3em;box-sizing: border-box;text-align: center;}#sk-container-id-3 label.sk-toggleable__label-arrow:before {content: \"▸\";float: left;margin-right: 0.25em;color: #696969;}#sk-container-id-3 label.sk-toggleable__label-arrow:hover:before {color: black;}#sk-container-id-3 div.sk-estimator:hover label.sk-toggleable__label-arrow:before {color: black;}#sk-container-id-3 div.sk-toggleable__content {max-height: 0;max-width: 0;overflow: hidden;text-align: left;background-color: #f0f8ff;}#sk-container-id-3 div.sk-toggleable__content pre {margin: 0.2em;color: black;border-radius: 0.25em;background-color: #f0f8ff;}#sk-container-id-3 input.sk-toggleable__control:checked~div.sk-toggleable__content {max-height: 200px;max-width: 100%;overflow: auto;}#sk-container-id-3 input.sk-toggleable__control:checked~label.sk-toggleable__label-arrow:before {content: \"▾\";}#sk-container-id-3 div.sk-estimator input.sk-toggleable__control:checked~label.sk-toggleable__label {background-color: #d4ebff;}#sk-container-id-3 div.sk-label input.sk-toggleable__control:checked~label.sk-toggleable__label {background-color: #d4ebff;}#sk-container-id-3 input.sk-hidden--visually {border: 0;clip: rect(1px 1px 1px 1px);clip: rect(1px, 1px, 1px, 1px);height: 1px;margin: -1px;overflow: hidden;padding: 0;position: absolute;width: 1px;}#sk-container-id-3 div.sk-estimator {font-family: monospace;background-color: #f0f8ff;border: 1px dotted black;border-radius: 0.25em;box-sizing: border-box;margin-bottom: 0.5em;}#sk-container-id-3 div.sk-estimator:hover {background-color: #d4ebff;}#sk-container-id-3 div.sk-parallel-item::after {content: \"\";width: 100%;border-bottom: 1px solid gray;flex-grow: 1;}#sk-container-id-3 div.sk-label:hover label.sk-toggleable__label {background-color: #d4ebff;}#sk-container-id-3 div.sk-serial::before {content: \"\";position: absolute;border-left: 1px solid gray;box-sizing: border-box;top: 0;bottom: 0;left: 50%;z-index: 0;}#sk-container-id-3 div.sk-serial {display: flex;flex-direction: column;align-items: center;background-color: white;padding-right: 0.2em;padding-left: 0.2em;position: relative;}#sk-container-id-3 div.sk-item {position: relative;z-index: 1;}#sk-container-id-3 div.sk-parallel {display: flex;align-items: stretch;justify-content: center;background-color: white;position: relative;}#sk-container-id-3 div.sk-item::before, #sk-container-id-3 div.sk-parallel-item::before {content: \"\";position: absolute;border-left: 1px solid gray;box-sizing: border-box;top: 0;bottom: 0;left: 50%;z-index: -1;}#sk-container-id-3 div.sk-parallel-item {display: flex;flex-direction: column;z-index: 1;position: relative;background-color: white;}#sk-container-id-3 div.sk-parallel-item:first-child::after {align-self: flex-end;width: 50%;}#sk-container-id-3 div.sk-parallel-item:last-child::after {align-self: flex-start;width: 50%;}#sk-container-id-3 div.sk-parallel-item:only-child::after {width: 0;}#sk-container-id-3 div.sk-dashed-wrapped {border: 1px dashed gray;margin: 0 0.4em 0.5em 0.4em;box-sizing: border-box;padding-bottom: 0.4em;background-color: white;}#sk-container-id-3 div.sk-label label {font-family: monospace;font-weight: bold;display: inline-block;line-height: 1.2em;}#sk-container-id-3 div.sk-label-container {text-align: center;}#sk-container-id-3 div.sk-container {/* jupyter's `normalize.less` sets `[hidden] { display: none; }` but bootstrap.min.css set `[hidden] { display: none !important; }` so we also need the `!important` here to be able to override the default hidden behavior on the sphinx rendered scikit-learn.org. See: https://github.com/scikit-learn/scikit-learn/issues/21755 */display: inline-block !important;position: relative;}#sk-container-id-3 div.sk-text-repr-fallback {display: none;}</style><div id=\"sk-container-id-3\" class=\"sk-top-container\"><div class=\"sk-text-repr-fallback\"><pre>Pipeline(steps=[(&#x27;columntransformer&#x27;,\n",
       "                 ColumnTransformer(transformers=[(&#x27;OneHotEncoder&#x27;,\n",
       "                                                  OneHotEncoder(handle_unknown=&#x27;ignore&#x27;),\n",
       "                                                  Index([&#x27;location&#x27;], dtype=&#x27;object&#x27;)),\n",
       "                                                 (&#x27;StandardScaling&#x27;,\n",
       "                                                  StandardScaler(),\n",
       "                                                  Index([&#x27;total_sqft&#x27;, &#x27;bath&#x27;, &#x27;size&#x27;], dtype=&#x27;object&#x27;))])),\n",
       "                (&#x27;kneighborsregressor&#x27;, KNeighborsRegressor())])</pre><b>In a Jupyter environment, please rerun this cell to show the HTML representation or trust the notebook. <br />On GitHub, the HTML representation is unable to render, please try loading this page with nbviewer.org.</b></div><div class=\"sk-container\" hidden><div class=\"sk-item sk-dashed-wrapped\"><div class=\"sk-label-container\"><div class=\"sk-label sk-toggleable\"><input class=\"sk-toggleable__control sk-hidden--visually\" id=\"sk-estimator-id-15\" type=\"checkbox\" ><label for=\"sk-estimator-id-15\" class=\"sk-toggleable__label sk-toggleable__label-arrow\">Pipeline</label><div class=\"sk-toggleable__content\"><pre>Pipeline(steps=[(&#x27;columntransformer&#x27;,\n",
       "                 ColumnTransformer(transformers=[(&#x27;OneHotEncoder&#x27;,\n",
       "                                                  OneHotEncoder(handle_unknown=&#x27;ignore&#x27;),\n",
       "                                                  Index([&#x27;location&#x27;], dtype=&#x27;object&#x27;)),\n",
       "                                                 (&#x27;StandardScaling&#x27;,\n",
       "                                                  StandardScaler(),\n",
       "                                                  Index([&#x27;total_sqft&#x27;, &#x27;bath&#x27;, &#x27;size&#x27;], dtype=&#x27;object&#x27;))])),\n",
       "                (&#x27;kneighborsregressor&#x27;, KNeighborsRegressor())])</pre></div></div></div><div class=\"sk-serial\"><div class=\"sk-item sk-dashed-wrapped\"><div class=\"sk-label-container\"><div class=\"sk-label sk-toggleable\"><input class=\"sk-toggleable__control sk-hidden--visually\" id=\"sk-estimator-id-16\" type=\"checkbox\" ><label for=\"sk-estimator-id-16\" class=\"sk-toggleable__label sk-toggleable__label-arrow\">columntransformer: ColumnTransformer</label><div class=\"sk-toggleable__content\"><pre>ColumnTransformer(transformers=[(&#x27;OneHotEncoder&#x27;,\n",
       "                                 OneHotEncoder(handle_unknown=&#x27;ignore&#x27;),\n",
       "                                 Index([&#x27;location&#x27;], dtype=&#x27;object&#x27;)),\n",
       "                                (&#x27;StandardScaling&#x27;, StandardScaler(),\n",
       "                                 Index([&#x27;total_sqft&#x27;, &#x27;bath&#x27;, &#x27;size&#x27;], dtype=&#x27;object&#x27;))])</pre></div></div></div><div class=\"sk-parallel\"><div class=\"sk-parallel-item\"><div class=\"sk-item\"><div class=\"sk-label-container\"><div class=\"sk-label sk-toggleable\"><input class=\"sk-toggleable__control sk-hidden--visually\" id=\"sk-estimator-id-17\" type=\"checkbox\" ><label for=\"sk-estimator-id-17\" class=\"sk-toggleable__label sk-toggleable__label-arrow\">OneHotEncoder</label><div class=\"sk-toggleable__content\"><pre>Index([&#x27;location&#x27;], dtype=&#x27;object&#x27;)</pre></div></div></div><div class=\"sk-serial\"><div class=\"sk-item\"><div class=\"sk-estimator sk-toggleable\"><input class=\"sk-toggleable__control sk-hidden--visually\" id=\"sk-estimator-id-18\" type=\"checkbox\" ><label for=\"sk-estimator-id-18\" class=\"sk-toggleable__label sk-toggleable__label-arrow\">OneHotEncoder</label><div class=\"sk-toggleable__content\"><pre>OneHotEncoder(handle_unknown=&#x27;ignore&#x27;)</pre></div></div></div></div></div></div><div class=\"sk-parallel-item\"><div class=\"sk-item\"><div class=\"sk-label-container\"><div class=\"sk-label sk-toggleable\"><input class=\"sk-toggleable__control sk-hidden--visually\" id=\"sk-estimator-id-19\" type=\"checkbox\" ><label for=\"sk-estimator-id-19\" class=\"sk-toggleable__label sk-toggleable__label-arrow\">StandardScaling</label><div class=\"sk-toggleable__content\"><pre>Index([&#x27;total_sqft&#x27;, &#x27;bath&#x27;, &#x27;size&#x27;], dtype=&#x27;object&#x27;)</pre></div></div></div><div class=\"sk-serial\"><div class=\"sk-item\"><div class=\"sk-estimator sk-toggleable\"><input class=\"sk-toggleable__control sk-hidden--visually\" id=\"sk-estimator-id-20\" type=\"checkbox\" ><label for=\"sk-estimator-id-20\" class=\"sk-toggleable__label sk-toggleable__label-arrow\">StandardScaler</label><div class=\"sk-toggleable__content\"><pre>StandardScaler()</pre></div></div></div></div></div></div></div></div><div class=\"sk-item\"><div class=\"sk-estimator sk-toggleable\"><input class=\"sk-toggleable__control sk-hidden--visually\" id=\"sk-estimator-id-21\" type=\"checkbox\" ><label for=\"sk-estimator-id-21\" class=\"sk-toggleable__label sk-toggleable__label-arrow\">KNeighborsRegressor</label><div class=\"sk-toggleable__content\"><pre>KNeighborsRegressor()</pre></div></div></div></div></div></div></div>"
      ],
      "text/plain": [
       "Pipeline(steps=[('columntransformer',\n",
       "                 ColumnTransformer(transformers=[('OneHotEncoder',\n",
       "                                                  OneHotEncoder(handle_unknown='ignore'),\n",
       "                                                  Index(['location'], dtype='object')),\n",
       "                                                 ('StandardScaling',\n",
       "                                                  StandardScaler(),\n",
       "                                                  Index(['total_sqft', 'bath', 'size'], dtype='object'))])),\n",
       "                ('kneighborsregressor', KNeighborsRegressor())])"
      ]
     },
     "execution_count": 345,
     "metadata": {},
     "output_type": "execute_result"
    }
   ],
   "source": [
    "pipeknr.fit(X_train,y_train)"
   ]
  },
  {
   "cell_type": "code",
   "execution_count": 346,
   "id": "fbb0cf16",
   "metadata": {},
   "outputs": [],
   "source": [
    "def train_pipes_regressor(model,X_train,y_train,X_test,y_test):\n",
    "    from sklearn.metrics import r2_score\n",
    "    model.fit(X_train,y_train)\n",
    "    y_pred=model.predict(X_test)\n",
    "    r2_score=r2_score(y_pred,y_test)\n",
    "    \n",
    "    return r2_score"
   ]
  },
  {
   "cell_type": "code",
   "execution_count": 347,
   "id": "10fa4e8e",
   "metadata": {},
   "outputs": [
    {
     "data": {
      "text/plain": [
       "0.29827535553602247"
      ]
     },
     "execution_count": 347,
     "metadata": {},
     "output_type": "execute_result"
    }
   ],
   "source": [
    "train_pipes_regressor(pipedtr,X_train,y_train,X_test,y_test)"
   ]
  },
  {
   "cell_type": "code",
   "execution_count": 348,
   "id": "17fe3006",
   "metadata": {},
   "outputs": [],
   "source": [
    "model= {\n",
    "'pipeknr':pipeknr,\n",
    "##'pipemnb':pipemnb,\n",
    "'pipedtr':pipedtr,\n",
    "'pipelr':pipelrr,\n",
    "'piperfr':piperfr,\n",
    "'pipeabr':pipeabr,\n",
    "'pipebr': pipebr,\n",
    "'pipeetr':pipeetr,\n",
    "'pipegbdr':pipegbdr,\n",
    "'pipexgbr':pipexgbr,\n",
    "'pipelasso':pipelasso,\n",
    "'piperidge':piperidge\n",
    "}"
   ]
  },
  {
   "cell_type": "code",
   "execution_count": 349,
   "id": "743d14fc",
   "metadata": {},
   "outputs": [],
   "source": [
    "model_r2_score=[]\n",
    "\n",
    "for name,item in model.items():\n",
    "    models=train_pipes_regressor(item,X_train,y_train,X_test,y_test)\n",
    "    \n",
    "    model_r2_score.append(models) "
   ]
  },
  {
   "cell_type": "code",
   "execution_count": 350,
   "id": "07fffff8",
   "metadata": {},
   "outputs": [
    {
     "name": "stdout",
     "output_type": "stream",
     "text": [
      "Pipeline(steps=[('columntransformer',\n",
      "                 ColumnTransformer(transformers=[('OneHotEncoder',\n",
      "                                                  OneHotEncoder(handle_unknown='ignore'),\n",
      "                                                  Index(['location'], dtype='object')),\n",
      "                                                 ('StandardScaling',\n",
      "                                                  StandardScaler(),\n",
      "                                                  Index(['total_sqft', 'bath', 'size'], dtype='object'))])),\n",
      "                ('kneighborsregressor', KNeighborsRegressor())])\n",
      "Pipeline(steps=[('columntransformer',\n",
      "                 ColumnTransformer(transformers=[('OneHotEncoder',\n",
      "                                                  OneHotEncoder(handle_unknown='ignore'),\n",
      "                                                  Index(['location'], dtype='object')),\n",
      "                                                 ('StandardScaling',\n",
      "                                                  StandardScaler(),\n",
      "                                                  Index(['total_sqft', 'bath', 'size'], dtype='object'))])),\n",
      "                ('decisiontreeregressor', DecisionTreeRegressor(max_depth=5))])\n",
      "Pipeline(steps=[('columntransformer',\n",
      "                 ColumnTransformer(transformers=[('OneHotEncoder',\n",
      "                                                  OneHotEncoder(handle_unknown='ignore'),\n",
      "                                                  Index(['location'], dtype='object')),\n",
      "                                                 ('StandardScaling',\n",
      "                                                  StandardScaler(),\n",
      "                                                  Index(['total_sqft', 'bath', 'size'], dtype='object'))])),\n",
      "                ('linearregression', LinearRegression())])\n",
      "Pipeline(steps=[('columntransformer',\n",
      "                 ColumnTransformer(transformers=[('OneHotEncoder',\n",
      "                                                  OneHotEncoder(handle_unknown='ignore'),\n",
      "                                                  Index(['location'], dtype='object')),\n",
      "                                                 ('StandardScaling',\n",
      "                                                  StandardScaler(),\n",
      "                                                  Index(['total_sqft', 'bath', 'size'], dtype='object'))])),\n",
      "                ('adaboostregressor', AdaBoostRegressor(random_state=2))])\n",
      "Pipeline(steps=[('columntransformer',\n",
      "                 ColumnTransformer(transformers=[('OneHotEncoder',\n",
      "                                                  OneHotEncoder(handle_unknown='ignore'),\n",
      "                                                  Index(['location'], dtype='object')),\n",
      "                                                 ('StandardScaling',\n",
      "                                                  StandardScaler(),\n",
      "                                                  Index(['total_sqft', 'bath', 'size'], dtype='object'))])),\n",
      "                ('kneighborsregressor', KNeighborsRegressor())])\n",
      "Pipeline(steps=[('columntransformer',\n",
      "                 ColumnTransformer(transformers=[('OneHotEncoder',\n",
      "                                                  OneHotEncoder(handle_unknown='ignore'),\n",
      "                                                  Index(['location'], dtype='object')),\n",
      "                                                 ('StandardScaling',\n",
      "                                                  StandardScaler(),\n",
      "                                                  Index(['total_sqft', 'bath', 'size'], dtype='object'))])),\n",
      "                ('baggingregressor',\n",
      "                 BaggingRegressor(n_estimators=50, random_state=2))])\n",
      "Pipeline(steps=[('columntransformer',\n",
      "                 ColumnTransformer(transformers=[('OneHotEncoder',\n",
      "                                                  OneHotEncoder(handle_unknown='ignore'),\n",
      "                                                  Index(['location'], dtype='object')),\n",
      "                                                 ('StandardScaling',\n",
      "                                                  StandardScaler(),\n",
      "                                                  Index(['total_sqft', 'bath', 'size'], dtype='object'))])),\n",
      "                ('extratreesregressor',\n",
      "                 ExtraTreesRegressor(n_estimators=50, random_state=2))])\n",
      "Pipeline(steps=[('columntransformer',\n",
      "                 ColumnTransformer(transformers=[('OneHotEncoder',\n",
      "                                                  OneHotEncoder(handle_unknown='ignore'),\n",
      "                                                  Index(['location'], dtype='object')),\n",
      "                                                 ('StandardScaling',\n",
      "                                                  StandardScaler(),\n",
      "                                                  Index(['total_sqft', 'bath', 'size'], dtype='object'))])),\n",
      "                ('gradientboostingregressor',\n",
      "                 GradientBoostingRegressor(n_estimators=50, random_state=2))])\n",
      "Pipeline(steps=[('columntransformer',\n",
      "                 ColumnTransformer(transformers=[('OneHotEncoder',\n",
      "                                                  OneHotEncoder(handle_unknown='ignore'),\n",
      "                                                  Index(['location'], dtype='object')),\n",
      "                                                 ('StandardScaling',\n",
      "                                                  StandardScaler(),\n",
      "                                                  Index(['total_sqft', 'bath', 'size'], dtype='object'))])),\n",
      "                ('xgbrfregressor',\n",
      "                 XGBRFRegressor(base_score=None, booster=None, callbacks=None,\n",
      "                                colsample_bylevel=Non...\n",
      "                                grow_policy=None, importance_type=None,\n",
      "                                interaction_constraints=None, max_bin=None,\n",
      "                                max_cat_threshold=None, max_cat_to_onehot=None,\n",
      "                                max_delta_step=None, max_depth=None,\n",
      "                                max_leaves=None, min_child_weight=None,\n",
      "                                missing=nan, monotone_constraints=None,\n",
      "                                multi_strategy=None, n_estimators=50,\n",
      "                                n_jobs=None, num_parallel_tree=None,\n",
      "                                objective='reg:squarederror', random_state=2,\n",
      "                                reg_alpha=None, ...))])\n",
      "Pipeline(steps=[('columntransformer',\n",
      "                 ColumnTransformer(transformers=[('OneHotEncoder',\n",
      "                                                  OneHotEncoder(handle_unknown='ignore'),\n",
      "                                                  Index(['location'], dtype='object')),\n",
      "                                                 ('StandardScaling',\n",
      "                                                  StandardScaler(),\n",
      "                                                  Index(['total_sqft', 'bath', 'size'], dtype='object'))])),\n",
      "                ('lasso', Lasso())])\n",
      "Pipeline(steps=[('columntransformer',\n",
      "                 ColumnTransformer(transformers=[('OneHotEncoder',\n",
      "                                                  OneHotEncoder(handle_unknown='ignore'),\n",
      "                                                  Index(['location'], dtype='object')),\n",
      "                                                 ('StandardScaling',\n",
      "                                                  StandardScaler(),\n",
      "                                                  Index(['total_sqft', 'bath', 'size'], dtype='object'))])),\n",
      "                ('ridge', Ridge())])\n"
     ]
    }
   ],
   "source": [
    "for name,item in model.items():\n",
    "    print(item)"
   ]
  },
  {
   "cell_type": "code",
   "execution_count": 351,
   "id": "338cd6fc",
   "metadata": {},
   "outputs": [
    {
     "data": {
      "text/plain": [
       "[0.5142308747075561,\n",
       " 0.3106220906775199,\n",
       " 0.2325639803119457,\n",
       " -0.6465767970017942,\n",
       " 0.5142308747075561,\n",
       " 0.6777460026347075,\n",
       " 0.6606037568491944,\n",
       " 0.6173752035521096,\n",
       " 0.589139803322359,\n",
       " 0.12039912611175807,\n",
       " 0.22993076986543193]"
      ]
     },
     "execution_count": 351,
     "metadata": {},
     "output_type": "execute_result"
    }
   ],
   "source": [
    "model_r2_score"
   ]
  },
  {
   "cell_type": "code",
   "execution_count": 352,
   "id": "5bf6c8d1",
   "metadata": {},
   "outputs": [],
   "source": [
    "performance= pd.DataFrame({'Algarithm_name':model.keys(),'R2_Score':model_r2_score}).sort_values('R2_Score',ascending=False)"
   ]
  },
  {
   "cell_type": "code",
   "execution_count": 353,
   "id": "32789353",
   "metadata": {},
   "outputs": [
    {
     "data": {
      "text/html": [
       "<div>\n",
       "<style scoped>\n",
       "    .dataframe tbody tr th:only-of-type {\n",
       "        vertical-align: middle;\n",
       "    }\n",
       "\n",
       "    .dataframe tbody tr th {\n",
       "        vertical-align: top;\n",
       "    }\n",
       "\n",
       "    .dataframe thead th {\n",
       "        text-align: right;\n",
       "    }\n",
       "</style>\n",
       "<table border=\"1\" class=\"dataframe\">\n",
       "  <thead>\n",
       "    <tr style=\"text-align: right;\">\n",
       "      <th></th>\n",
       "      <th>Algarithm_name</th>\n",
       "      <th>R2_Score</th>\n",
       "    </tr>\n",
       "  </thead>\n",
       "  <tbody>\n",
       "    <tr>\n",
       "      <th>5</th>\n",
       "      <td>pipebr</td>\n",
       "      <td>0.677746</td>\n",
       "    </tr>\n",
       "    <tr>\n",
       "      <th>6</th>\n",
       "      <td>pipeetr</td>\n",
       "      <td>0.660604</td>\n",
       "    </tr>\n",
       "    <tr>\n",
       "      <th>7</th>\n",
       "      <td>pipegbdr</td>\n",
       "      <td>0.617375</td>\n",
       "    </tr>\n",
       "    <tr>\n",
       "      <th>8</th>\n",
       "      <td>pipexgbr</td>\n",
       "      <td>0.589140</td>\n",
       "    </tr>\n",
       "    <tr>\n",
       "      <th>0</th>\n",
       "      <td>pipeknr</td>\n",
       "      <td>0.514231</td>\n",
       "    </tr>\n",
       "    <tr>\n",
       "      <th>4</th>\n",
       "      <td>pipeabr</td>\n",
       "      <td>0.514231</td>\n",
       "    </tr>\n",
       "    <tr>\n",
       "      <th>1</th>\n",
       "      <td>pipedtr</td>\n",
       "      <td>0.310622</td>\n",
       "    </tr>\n",
       "    <tr>\n",
       "      <th>2</th>\n",
       "      <td>pipelr</td>\n",
       "      <td>0.232564</td>\n",
       "    </tr>\n",
       "    <tr>\n",
       "      <th>10</th>\n",
       "      <td>piperidge</td>\n",
       "      <td>0.229931</td>\n",
       "    </tr>\n",
       "    <tr>\n",
       "      <th>9</th>\n",
       "      <td>pipelasso</td>\n",
       "      <td>0.120399</td>\n",
       "    </tr>\n",
       "    <tr>\n",
       "      <th>3</th>\n",
       "      <td>piperfr</td>\n",
       "      <td>-0.646577</td>\n",
       "    </tr>\n",
       "  </tbody>\n",
       "</table>\n",
       "</div>"
      ],
      "text/plain": [
       "   Algarithm_name  R2_Score\n",
       "5          pipebr  0.677746\n",
       "6         pipeetr  0.660604\n",
       "7        pipegbdr  0.617375\n",
       "8        pipexgbr  0.589140\n",
       "0         pipeknr  0.514231\n",
       "4         pipeabr  0.514231\n",
       "1         pipedtr  0.310622\n",
       "2          pipelr  0.232564\n",
       "10      piperidge  0.229931\n",
       "9       pipelasso  0.120399\n",
       "3         piperfr -0.646577"
      ]
     },
     "execution_count": 353,
     "metadata": {},
     "output_type": "execute_result"
    }
   ],
   "source": [
    "performance"
   ]
  },
  {
   "cell_type": "code",
   "execution_count": null,
   "id": "aacbb027",
   "metadata": {},
   "outputs": [],
   "source": []
  }
 ],
 "metadata": {
  "kernelspec": {
   "display_name": "Python 3 (ipykernel)",
   "language": "python",
   "name": "python3"
  },
  "language_info": {
   "codemirror_mode": {
    "name": "ipython",
    "version": 3
   },
   "file_extension": ".py",
   "mimetype": "text/x-python",
   "name": "python",
   "nbconvert_exporter": "python",
   "pygments_lexer": "ipython3",
   "version": "3.11.5"
  }
 },
 "nbformat": 4,
 "nbformat_minor": 5
}
