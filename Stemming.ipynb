{
 "cells": [
  {
   "cell_type": "code",
   "execution_count": 7,
   "id": "e70e6d6f",
   "metadata": {},
   "outputs": [],
   "source": [
    "# stemming \n",
    "# classification problem \n",
    "# comments of the user review positive or negative \n",
    "words=[\"eating\",\"eats\",\"eaten\",\"writing\",\"writes\",\"programming\",\"program\",\"history\",\"finally\",\"finalize\"]"
   ]
  },
  {
   "cell_type": "markdown",
   "id": "dda4e795",
   "metadata": {},
   "source": [
    "## porterstemmer "
   ]
  },
  {
   "cell_type": "code",
   "execution_count": 8,
   "id": "57c73017",
   "metadata": {},
   "outputs": [],
   "source": [
    "from nltk.stem import PorterStemmer"
   ]
  },
  {
   "cell_type": "code",
   "execution_count": 9,
   "id": "b583e084",
   "metadata": {},
   "outputs": [],
   "source": [
    "stemming= PorterStemmer()"
   ]
  },
  {
   "cell_type": "code",
   "execution_count": 10,
   "id": "6295195a",
   "metadata": {},
   "outputs": [
    {
     "name": "stdout",
     "output_type": "stream",
     "text": [
      "eating------>>>eat\n",
      "eats------>>>eat\n",
      "eaten------>>>eaten\n",
      "writing------>>>write\n",
      "writes------>>>write\n",
      "programming------>>>program\n",
      "program------>>>program\n",
      "history------>>>histori\n",
      "finally------>>>final\n",
      "finalize------>>>final\n"
     ]
    }
   ],
   "source": [
    "for word in words:\n",
    "    print(word+\"------>>>\"+stemming.stem(word))"
   ]
  },
  {
   "cell_type": "code",
   "execution_count": 12,
   "id": "da0054b9",
   "metadata": {},
   "outputs": [
    {
     "data": {
      "text/plain": [
       "'congratul'"
      ]
     },
     "execution_count": 12,
     "metadata": {},
     "output_type": "execute_result"
    }
   ],
   "source": [
    "stemming.stem('congratulations')"
   ]
  },
  {
   "cell_type": "code",
   "execution_count": 13,
   "id": "cbe97173",
   "metadata": {},
   "outputs": [
    {
     "data": {
      "text/plain": [
       "'sit'"
      ]
     },
     "execution_count": 13,
     "metadata": {},
     "output_type": "execute_result"
    }
   ],
   "source": [
    "stemming.stem('sitting')"
   ]
  },
  {
   "cell_type": "markdown",
   "id": "2ef6f1f0",
   "metadata": {},
   "source": [
    "## Regexpression stemming "
   ]
  },
  {
   "cell_type": "code",
   "execution_count": 15,
   "id": "4295550a",
   "metadata": {},
   "outputs": [],
   "source": [
    "from nltk.stem import RegexpStemmer"
   ]
  },
  {
   "cell_type": "code",
   "execution_count": 22,
   "id": "6716332a",
   "metadata": {},
   "outputs": [],
   "source": [
    "regstem=RegexpStemmer('ing$|s$|e$|able$', min=4)"
   ]
  },
  {
   "cell_type": "code",
   "execution_count": 18,
   "id": "2b95333c",
   "metadata": {},
   "outputs": [
    {
     "data": {
      "text/plain": [
       "'eat'"
      ]
     },
     "execution_count": 18,
     "metadata": {},
     "output_type": "execute_result"
    }
   ],
   "source": [
    "regstem.stem('eating')"
   ]
  },
  {
   "cell_type": "code",
   "execution_count": 23,
   "id": "991b73a8",
   "metadata": {},
   "outputs": [
    {
     "data": {
      "text/plain": [
       "'ingeat'"
      ]
     },
     "execution_count": 23,
     "metadata": {},
     "output_type": "execute_result"
    }
   ],
   "source": [
    "regstem.stem('ingeating')"
   ]
  },
  {
   "cell_type": "code",
   "execution_count": 24,
   "id": "373fac40",
   "metadata": {},
   "outputs": [
    {
     "name": "stdout",
     "output_type": "stream",
     "text": [
      "eating------>>>eat\n",
      "eats------>>>eat\n",
      "eaten------>>>eaten\n",
      "writing------>>>writ\n",
      "writes------>>>write\n",
      "programming------>>>programm\n",
      "program------>>>program\n",
      "history------>>>history\n",
      "finally------>>>finally\n",
      "finalize------>>>finaliz\n"
     ]
    }
   ],
   "source": [
    "for word in words:\n",
    "    print(word+\"------>>>\"+regstem.stem(word))"
   ]
  },
  {
   "cell_type": "markdown",
   "id": "c8cc0e43",
   "metadata": {},
   "source": [
    "## Snowball stemmer "
   ]
  },
  {
   "cell_type": "code",
   "execution_count": 26,
   "id": "327c3d1c",
   "metadata": {},
   "outputs": [],
   "source": [
    "from nltk.stem import SnowballStemmer"
   ]
  },
  {
   "cell_type": "code",
   "execution_count": 28,
   "id": "6e8f3616",
   "metadata": {},
   "outputs": [],
   "source": [
    "snowball= SnowballStemmer('english')"
   ]
  },
  {
   "cell_type": "code",
   "execution_count": 29,
   "id": "0ac48b94",
   "metadata": {},
   "outputs": [
    {
     "name": "stdout",
     "output_type": "stream",
     "text": [
      "eating------>>>eat\n",
      "eats------>>>eat\n",
      "eaten------>>>eaten\n",
      "writing------>>>write\n",
      "writes------>>>write\n",
      "programming------>>>program\n",
      "program------>>>program\n",
      "history------>>>histori\n",
      "finally------>>>final\n",
      "finalize------>>>final\n"
     ]
    }
   ],
   "source": [
    "for word in words:\n",
    "    print(word+\"------>>>\"+snowball.stem(word))"
   ]
  },
  {
   "cell_type": "code",
   "execution_count": 35,
   "id": "46c5f0de",
   "metadata": {},
   "outputs": [
    {
     "data": {
      "text/plain": [
       "('fairli', 'sportingli')"
      ]
     },
     "execution_count": 35,
     "metadata": {},
     "output_type": "execute_result"
    }
   ],
   "source": [
    "stemming.stem('fairly'),stemming.stem('sportingly')"
   ]
  },
  {
   "cell_type": "code",
   "execution_count": 36,
   "id": "4a9c9d51",
   "metadata": {},
   "outputs": [
    {
     "data": {
      "text/plain": [
       "('fair', 'sport')"
      ]
     },
     "execution_count": 36,
     "metadata": {},
     "output_type": "execute_result"
    }
   ],
   "source": [
    "snowball.stem('fairly'),snowball.stem('sportingly')"
   ]
  },
  {
   "cell_type": "code",
   "execution_count": null,
   "id": "b8c6edd0",
   "metadata": {},
   "outputs": [],
   "source": []
  }
 ],
 "metadata": {
  "kernelspec": {
   "display_name": "Python 3 (ipykernel)",
   "language": "python",
   "name": "python3"
  },
  "language_info": {
   "codemirror_mode": {
    "name": "ipython",
    "version": 3
   },
   "file_extension": ".py",
   "mimetype": "text/x-python",
   "name": "python",
   "nbconvert_exporter": "python",
   "pygments_lexer": "ipython3",
   "version": "3.11.5"
  }
 },
 "nbformat": 4,
 "nbformat_minor": 5
}
