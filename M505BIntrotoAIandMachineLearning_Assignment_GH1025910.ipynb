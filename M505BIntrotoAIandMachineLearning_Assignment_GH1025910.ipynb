{
 "cells": [
  {
   "cell_type": "markdown",
   "id": "f302c894",
   "metadata": {},
   "source": [
    "## Define Problem Statement\n",
    "**My Client is an Airlines-maintenenace and Operations Company they have the Dataset which contains attributes like Aircraft Model,Empty_Weight(kg),Maximum_Takeoff_Weight(kg)->{Target},Maximum_Landing_Weight(kg)\t,Center of Gravity Limits,Wing Loading (kg/mÂ²),Tail Loading (kg/mÂ²),Fuel Capacity (liters),Number of Passengers,Maximum Altitude (ft),Cargo Capacity (kg),Maximum Speed (knots),Engine Type,Fuselage Length (m),my clients expectation is to optimizing the Maximum Takeoff Weight (kg) to meet customers demands and efficiently transport goods.The accurate prediction of Maximum Takeoff Weight will assist my clients in Efficient fuel consumption and payload management,route optimization,flight planning and to ensure compliance with the Aviation Safety Standards and  regulations."
   ]
  },
  {
   "cell_type": "code",
   "execution_count": 154,
   "id": "f67cff42",
   "metadata": {},
   "outputs": [],
   "source": [
    "## Importing the all Necessary Python packages,\n",
    "import pandas as p\n",
    "import numpy as n\n",
    "import matplotlib.pyplot as pt\n",
    "import seaborn as sns \n",
    "from pandasql import sqldf\n",
    "%matplotlib inline \n",
    "from sklearn.model_selection import train_test_split,GridSearchCV\n",
    "from sklearn.linear_model import LinearRegression,Lasso,Ridge\n",
    "from sklearn.svm import SVC\n",
    "from sklearn.naive_bayes import MultinomialNB\n",
    "from sklearn.tree import DecisionTreeRegressor\n",
    "from sklearn.neighbors import KNeighborsRegressor\n",
    "from sklearn.ensemble import RandomForestRegressor,AdaBoostRegressor,BaggingRegressor,ExtraTreesRegressor,GradientBoostingRegressor\n",
    "from xgboost import XGBRFRegressor\n",
    "from sklearn.pipeline import make_pipeline\n",
    "from sklearn.preprocessing import OneHotEncoder,StandardScaler\n",
    "from sklearn.compose import ColumnTransformer\n",
    "from sklearn.metrics import r2_score"
   ]
  },
  {
   "cell_type": "markdown",
   "id": "4ed893cc",
   "metadata": {},
   "source": [
    "## Data Collection\n",
    "The Source of the Data is Kaggle.com:: https://www.kaggle.com/datasets/aadharshviswanath/investigating-aircraft-weight-and-balance-metrics"
   ]
  },
  {
   "cell_type": "code",
   "execution_count": 230,
   "id": "b37ef152",
   "metadata": {},
   "outputs": [],
   "source": [
    "data= p.read_csv('aircraft_dataset.csv')\n",
    "df=data.copy() ## Retaining the Original Copy of data and creating a copy for Further steps,"
   ]
  },
  {
   "cell_type": "markdown",
   "id": "1c2da6eb",
   "metadata": {},
   "source": [
    "### Data Understanding \n",
    "* Data Shape.\n",
    "* Head(top 5 rows) and tail(Bottom 5 rows).\n",
    "* dtypes.\n",
    "* describe.\n",
    "* Null Values.\n",
    "* Duplicated values."
   ]
  },
  {
   "cell_type": "code",
   "execution_count": 229,
   "id": "b38505b3",
   "metadata": {},
   "outputs": [
    {
     "name": "stdout",
     "output_type": "stream",
     "text": [
      "(25000, 14)\n",
      " Our Dataset:- \n",
      "25000 Rows and 14 Attributes\n"
     ]
    }
   ],
   "source": [
    "print(df.shape)\n",
    "print(f' Our Dataset:- \\n{df.shape[0]} Rows and {df.shape[1]} Attributes')"
   ]
  },
  {
   "cell_type": "code",
   "execution_count": 4,
   "id": "b2fe4d1d",
   "metadata": {},
   "outputs": [
    {
     "data": {
      "text/html": [
       "<div>\n",
       "<style scoped>\n",
       "    .dataframe tbody tr th:only-of-type {\n",
       "        vertical-align: middle;\n",
       "    }\n",
       "\n",
       "    .dataframe tbody tr th {\n",
       "        vertical-align: top;\n",
       "    }\n",
       "\n",
       "    .dataframe thead th {\n",
       "        text-align: right;\n",
       "    }\n",
       "</style>\n",
       "<table border=\"1\" class=\"dataframe\">\n",
       "  <thead>\n",
       "    <tr style=\"text-align: right;\">\n",
       "      <th></th>\n",
       "      <th>Unnamed: 0</th>\n",
       "      <th>Aircraft Model</th>\n",
       "      <th>Empty Weight (kg)</th>\n",
       "      <th>Maximum Takeoff Weight (kg)</th>\n",
       "      <th>Maximum Landing Weight (kg)</th>\n",
       "      <th>Center of Gravity Limits</th>\n",
       "      <th>Wing Loading (kg/m²)</th>\n",
       "      <th>Tail Loading (kg/m²)</th>\n",
       "      <th>Fuel Capacity (liters)</th>\n",
       "      <th>Number of Passengers</th>\n",
       "      <th>Cargo Capacity (kg)</th>\n",
       "      <th>Maximum Altitude (ft)</th>\n",
       "      <th>Maximum Speed (knots)</th>\n",
       "      <th>Engine Type</th>\n",
       "      <th>Fuselage Length (m)</th>\n",
       "    </tr>\n",
       "  </thead>\n",
       "  <tbody>\n",
       "    <tr>\n",
       "      <th>0</th>\n",
       "      <td>0</td>\n",
       "      <td>Airbus A320</td>\n",
       "      <td>149968.1875</td>\n",
       "      <td>279525.0910</td>\n",
       "      <td>255896.4903</td>\n",
       "      <td>25%-35% of MAC</td>\n",
       "      <td>818.558282</td>\n",
       "      <td>124.788364</td>\n",
       "      <td>52538.23617</td>\n",
       "      <td>472</td>\n",
       "      <td>80061.73229</td>\n",
       "      <td>44470</td>\n",
       "      <td>658</td>\n",
       "      <td>Turbofan</td>\n",
       "      <td>41.726817</td>\n",
       "    </tr>\n",
       "    <tr>\n",
       "      <th>1</th>\n",
       "      <td>1</td>\n",
       "      <td>Boeing 777</td>\n",
       "      <td>140855.8799</td>\n",
       "      <td>145055.1739</td>\n",
       "      <td>143703.3146</td>\n",
       "      <td>15%-30% of MAC</td>\n",
       "      <td>366.423230</td>\n",
       "      <td>111.743182</td>\n",
       "      <td>298000.26600</td>\n",
       "      <td>257</td>\n",
       "      <td>27118.72519</td>\n",
       "      <td>31739</td>\n",
       "      <td>495</td>\n",
       "      <td>Turbofan</td>\n",
       "      <td>54.402799</td>\n",
       "    </tr>\n",
       "    <tr>\n",
       "      <th>2</th>\n",
       "      <td>2</td>\n",
       "      <td>Airbus A320</td>\n",
       "      <td>151024.5989</td>\n",
       "      <td>534343.9480</td>\n",
       "      <td>270662.9043</td>\n",
       "      <td>20%-35% of MAC</td>\n",
       "      <td>829.145903</td>\n",
       "      <td>138.672695</td>\n",
       "      <td>176299.25460</td>\n",
       "      <td>172</td>\n",
       "      <td>1002.20911</td>\n",
       "      <td>24398</td>\n",
       "      <td>585</td>\n",
       "      <td>Turboprop</td>\n",
       "      <td>28.864086</td>\n",
       "    </tr>\n",
       "  </tbody>\n",
       "</table>\n",
       "</div>"
      ],
      "text/plain": [
       "   Unnamed: 0 Aircraft Model  Empty Weight (kg)  Maximum Takeoff Weight (kg)  \\\n",
       "0           0    Airbus A320        149968.1875                  279525.0910   \n",
       "1           1     Boeing 777        140855.8799                  145055.1739   \n",
       "2           2    Airbus A320        151024.5989                  534343.9480   \n",
       "\n",
       "   Maximum Landing Weight (kg) Center of Gravity Limits  Wing Loading (kg/m²)  \\\n",
       "0                  255896.4903           25%-35% of MAC            818.558282   \n",
       "1                  143703.3146           15%-30% of MAC            366.423230   \n",
       "2                  270662.9043           20%-35% of MAC            829.145903   \n",
       "\n",
       "   Tail Loading (kg/m²)  Fuel Capacity (liters)  Number of Passengers  \\\n",
       "0            124.788364             52538.23617                   472   \n",
       "1            111.743182            298000.26600                   257   \n",
       "2            138.672695            176299.25460                   172   \n",
       "\n",
       "   Cargo Capacity (kg)  Maximum Altitude (ft)  Maximum Speed (knots)  \\\n",
       "0          80061.73229                  44470                    658   \n",
       "1          27118.72519                  31739                    495   \n",
       "2           1002.20911                  24398                    585   \n",
       "\n",
       "  Engine Type  Fuselage Length (m)  \n",
       "0    Turbofan            41.726817  \n",
       "1    Turbofan            54.402799  \n",
       "2   Turboprop            28.864086  "
      ]
     },
     "execution_count": 4,
     "metadata": {},
     "output_type": "execute_result"
    }
   ],
   "source": [
    "## Top 3 columns:-\n",
    "df.head(3)"
   ]
  },
  {
   "cell_type": "code",
   "execution_count": 231,
   "id": "5a638b73",
   "metadata": {},
   "outputs": [],
   "source": [
    "## Renaming the lengthy Columns::\n",
    "df=df.rename(columns={'Maximum Takeoff Weight (kg)':'Maximum_Takeoff_Weight(kgs)','Empty Weight (kg)':'Empty_Weight(kgs)','Maximum Landing Weight (kg)':'Maximum_Landing_Weight(kg)'})"
   ]
  },
  {
   "cell_type": "code",
   "execution_count": 232,
   "id": "3d98cbd5",
   "metadata": {},
   "outputs": [
    {
     "data": {
      "text/html": [
       "<div>\n",
       "<style scoped>\n",
       "    .dataframe tbody tr th:only-of-type {\n",
       "        vertical-align: middle;\n",
       "    }\n",
       "\n",
       "    .dataframe tbody tr th {\n",
       "        vertical-align: top;\n",
       "    }\n",
       "\n",
       "    .dataframe thead th {\n",
       "        text-align: right;\n",
       "    }\n",
       "</style>\n",
       "<table border=\"1\" class=\"dataframe\">\n",
       "  <thead>\n",
       "    <tr style=\"text-align: right;\">\n",
       "      <th></th>\n",
       "      <th>Unnamed: 0</th>\n",
       "      <th>Aircraft Model</th>\n",
       "      <th>Empty_Weight(kgs)</th>\n",
       "      <th>Maximum_Takeoff_Weight(kgs)</th>\n",
       "      <th>Maximum_Landing_Weight(kg)</th>\n",
       "      <th>Center of Gravity Limits</th>\n",
       "      <th>Wing Loading (kg/m²)</th>\n",
       "      <th>Tail Loading (kg/m²)</th>\n",
       "      <th>Fuel Capacity (liters)</th>\n",
       "      <th>Number of Passengers</th>\n",
       "      <th>Cargo Capacity (kg)</th>\n",
       "      <th>Maximum Altitude (ft)</th>\n",
       "      <th>Maximum Speed (knots)</th>\n",
       "      <th>Engine Type</th>\n",
       "      <th>Fuselage Length (m)</th>\n",
       "    </tr>\n",
       "  </thead>\n",
       "  <tbody>\n",
       "    <tr>\n",
       "      <th>24997</th>\n",
       "      <td>24997</td>\n",
       "      <td>Gulfstream G650</td>\n",
       "      <td>34559.59282</td>\n",
       "      <td>127249.3324</td>\n",
       "      <td>125404.4106</td>\n",
       "      <td>20%-40% of MAC</td>\n",
       "      <td>517.456695</td>\n",
       "      <td>147.840228</td>\n",
       "      <td>97968.10473</td>\n",
       "      <td>289</td>\n",
       "      <td>60801.74708</td>\n",
       "      <td>36838</td>\n",
       "      <td>441</td>\n",
       "      <td>Turboprop</td>\n",
       "      <td>58.920670</td>\n",
       "    </tr>\n",
       "    <tr>\n",
       "      <th>24998</th>\n",
       "      <td>24998</td>\n",
       "      <td>Beechcraft King Air 350</td>\n",
       "      <td>94871.53644</td>\n",
       "      <td>257303.7329</td>\n",
       "      <td>191036.1317</td>\n",
       "      <td>20%-35% of MAC</td>\n",
       "      <td>782.307394</td>\n",
       "      <td>120.828459</td>\n",
       "      <td>39422.45891</td>\n",
       "      <td>421</td>\n",
       "      <td>35974.88781</td>\n",
       "      <td>52334</td>\n",
       "      <td>673</td>\n",
       "      <td>Turboprop</td>\n",
       "      <td>69.698684</td>\n",
       "    </tr>\n",
       "    <tr>\n",
       "      <th>24999</th>\n",
       "      <td>24999</td>\n",
       "      <td>Bombardier Global 6000</td>\n",
       "      <td>156700.30370</td>\n",
       "      <td>742250.5530</td>\n",
       "      <td>259282.3457</td>\n",
       "      <td>20%-40% of MAC</td>\n",
       "      <td>837.661585</td>\n",
       "      <td>109.230488</td>\n",
       "      <td>96468.70253</td>\n",
       "      <td>175</td>\n",
       "      <td>53272.13493</td>\n",
       "      <td>57463</td>\n",
       "      <td>692</td>\n",
       "      <td>Turbofan</td>\n",
       "      <td>23.304120</td>\n",
       "    </tr>\n",
       "  </tbody>\n",
       "</table>\n",
       "</div>"
      ],
      "text/plain": [
       "       Unnamed: 0           Aircraft Model  Empty_Weight(kgs)  \\\n",
       "24997       24997          Gulfstream G650        34559.59282   \n",
       "24998       24998  Beechcraft King Air 350        94871.53644   \n",
       "24999       24999   Bombardier Global 6000       156700.30370   \n",
       "\n",
       "       Maximum_Takeoff_Weight(kgs)  Maximum_Landing_Weight(kg)  \\\n",
       "24997                  127249.3324                 125404.4106   \n",
       "24998                  257303.7329                 191036.1317   \n",
       "24999                  742250.5530                 259282.3457   \n",
       "\n",
       "      Center of Gravity Limits  Wing Loading (kg/m²)  Tail Loading (kg/m²)  \\\n",
       "24997           20%-40% of MAC            517.456695            147.840228   \n",
       "24998           20%-35% of MAC            782.307394            120.828459   \n",
       "24999           20%-40% of MAC            837.661585            109.230488   \n",
       "\n",
       "       Fuel Capacity (liters)  Number of Passengers  Cargo Capacity (kg)  \\\n",
       "24997             97968.10473                   289          60801.74708   \n",
       "24998             39422.45891                   421          35974.88781   \n",
       "24999             96468.70253                   175          53272.13493   \n",
       "\n",
       "       Maximum Altitude (ft)  Maximum Speed (knots) Engine Type  \\\n",
       "24997                  36838                    441   Turboprop   \n",
       "24998                  52334                    673   Turboprop   \n",
       "24999                  57463                    692    Turbofan   \n",
       "\n",
       "       Fuselage Length (m)  \n",
       "24997            58.920670  \n",
       "24998            69.698684  \n",
       "24999            23.304120  "
      ]
     },
     "execution_count": 232,
     "metadata": {},
     "output_type": "execute_result"
    }
   ],
   "source": [
    "## Bottom 3 columns:-\n",
    "df.tail(3)"
   ]
  },
  {
   "cell_type": "code",
   "execution_count": 233,
   "id": "c93e0221",
   "metadata": {},
   "outputs": [
    {
     "data": {
      "text/plain": [
       "Unnamed: 0                       int64\n",
       "Aircraft Model                  object\n",
       "Empty_Weight(kgs)              float64\n",
       "Maximum_Takeoff_Weight(kgs)    float64\n",
       "Maximum_Landing_Weight(kg)     float64\n",
       "Center of Gravity Limits        object\n",
       "Wing Loading (kg/m²)           float64\n",
       "Tail Loading (kg/m²)           float64\n",
       "Fuel Capacity (liters)         float64\n",
       "Number of Passengers             int64\n",
       "Cargo Capacity (kg)            float64\n",
       "Maximum Altitude (ft)            int64\n",
       "Maximum Speed (knots)            int64\n",
       "Engine Type                     object\n",
       "Fuselage Length (m)            float64\n",
       "dtype: object"
      ]
     },
     "execution_count": 233,
     "metadata": {},
     "output_type": "execute_result"
    }
   ],
   "source": [
    "#Datatypes of the DataSet:-\n",
    "df.dtypes"
   ]
  },
  {
   "cell_type": "code",
   "execution_count": 234,
   "id": "dc5f4add",
   "metadata": {},
   "outputs": [
    {
     "data": {
      "text/html": [
       "<div>\n",
       "<style scoped>\n",
       "    .dataframe tbody tr th:only-of-type {\n",
       "        vertical-align: middle;\n",
       "    }\n",
       "\n",
       "    .dataframe tbody tr th {\n",
       "        vertical-align: top;\n",
       "    }\n",
       "\n",
       "    .dataframe thead th {\n",
       "        text-align: right;\n",
       "    }\n",
       "</style>\n",
       "<table border=\"1\" class=\"dataframe\">\n",
       "  <thead>\n",
       "    <tr style=\"text-align: right;\">\n",
       "      <th></th>\n",
       "      <th>count</th>\n",
       "      <th>mean</th>\n",
       "      <th>std</th>\n",
       "      <th>min</th>\n",
       "      <th>25%</th>\n",
       "      <th>50%</th>\n",
       "      <th>75%</th>\n",
       "      <th>max</th>\n",
       "    </tr>\n",
       "  </thead>\n",
       "  <tbody>\n",
       "    <tr>\n",
       "      <th>Unnamed: 0</th>\n",
       "      <td>25000.0</td>\n",
       "      <td>12499.500000</td>\n",
       "      <td>7217.022701</td>\n",
       "      <td>0.000000</td>\n",
       "      <td>6249.750000</td>\n",
       "      <td>12499.500000</td>\n",
       "      <td>18749.250000</td>\n",
       "      <td>2.499900e+04</td>\n",
       "    </tr>\n",
       "    <tr>\n",
       "      <th>Empty_Weight(kgs)</th>\n",
       "      <td>25000.0</td>\n",
       "      <td>150550.712410</td>\n",
       "      <td>86463.623898</td>\n",
       "      <td>523.501931</td>\n",
       "      <td>75478.577895</td>\n",
       "      <td>150022.889150</td>\n",
       "      <td>225922.318875</td>\n",
       "      <td>2.999965e+05</td>\n",
       "    </tr>\n",
       "    <tr>\n",
       "      <th>Maximum_Takeoff_Weight(kgs)</th>\n",
       "      <td>25000.0</td>\n",
       "      <td>452651.571177</td>\n",
       "      <td>328455.147464</td>\n",
       "      <td>708.131424</td>\n",
       "      <td>189127.952750</td>\n",
       "      <td>380603.519650</td>\n",
       "      <td>660066.951300</td>\n",
       "      <td>1.498140e+06</td>\n",
       "    </tr>\n",
       "    <tr>\n",
       "      <th>Maximum_Landing_Weight(kg)</th>\n",
       "      <td>25000.0</td>\n",
       "      <td>301956.454102</td>\n",
       "      <td>232384.548074</td>\n",
       "      <td>631.016228</td>\n",
       "      <td>127768.827550</td>\n",
       "      <td>254870.505450</td>\n",
       "      <td>411266.544975</td>\n",
       "      <td>1.435393e+06</td>\n",
       "    </tr>\n",
       "    <tr>\n",
       "      <th>Wing Loading (kg/m²)</th>\n",
       "      <td>25000.0</td>\n",
       "      <td>598.404186</td>\n",
       "      <td>231.058661</td>\n",
       "      <td>200.077157</td>\n",
       "      <td>398.572198</td>\n",
       "      <td>596.545232</td>\n",
       "      <td>799.258956</td>\n",
       "      <td>9.999546e+02</td>\n",
       "    </tr>\n",
       "    <tr>\n",
       "      <th>Tail Loading (kg/m²)</th>\n",
       "      <td>25000.0</td>\n",
       "      <td>109.806503</td>\n",
       "      <td>52.008772</td>\n",
       "      <td>20.019328</td>\n",
       "      <td>64.916463</td>\n",
       "      <td>109.641132</td>\n",
       "      <td>154.733859</td>\n",
       "      <td>2.000000e+02</td>\n",
       "    </tr>\n",
       "    <tr>\n",
       "      <th>Fuel Capacity (liters)</th>\n",
       "      <td>25000.0</td>\n",
       "      <td>249099.077932</td>\n",
       "      <td>144365.178161</td>\n",
       "      <td>1002.584912</td>\n",
       "      <td>124086.001950</td>\n",
       "      <td>248362.359600</td>\n",
       "      <td>374861.477450</td>\n",
       "      <td>4.999539e+05</td>\n",
       "    </tr>\n",
       "    <tr>\n",
       "      <th>Number of Passengers</th>\n",
       "      <td>25000.0</td>\n",
       "      <td>274.545560</td>\n",
       "      <td>129.985611</td>\n",
       "      <td>50.000000</td>\n",
       "      <td>162.000000</td>\n",
       "      <td>274.000000</td>\n",
       "      <td>387.000000</td>\n",
       "      <td>5.000000e+02</td>\n",
       "    </tr>\n",
       "    <tr>\n",
       "      <th>Cargo Capacity (kg)</th>\n",
       "      <td>25000.0</td>\n",
       "      <td>50152.936766</td>\n",
       "      <td>28464.768809</td>\n",
       "      <td>1002.043840</td>\n",
       "      <td>25860.125040</td>\n",
       "      <td>49845.885535</td>\n",
       "      <td>74845.195460</td>\n",
       "      <td>9.999524e+04</td>\n",
       "    </tr>\n",
       "    <tr>\n",
       "      <th>Maximum Altitude (ft)</th>\n",
       "      <td>25000.0</td>\n",
       "      <td>39961.992880</td>\n",
       "      <td>11570.426026</td>\n",
       "      <td>20001.000000</td>\n",
       "      <td>29910.000000</td>\n",
       "      <td>39920.500000</td>\n",
       "      <td>50000.250000</td>\n",
       "      <td>6.000000e+04</td>\n",
       "    </tr>\n",
       "    <tr>\n",
       "      <th>Maximum Speed (knots)</th>\n",
       "      <td>25000.0</td>\n",
       "      <td>550.450160</td>\n",
       "      <td>86.927584</td>\n",
       "      <td>400.000000</td>\n",
       "      <td>475.000000</td>\n",
       "      <td>551.000000</td>\n",
       "      <td>626.000000</td>\n",
       "      <td>7.000000e+02</td>\n",
       "    </tr>\n",
       "    <tr>\n",
       "      <th>Fuselage Length (m)</th>\n",
       "      <td>25000.0</td>\n",
       "      <td>55.058987</td>\n",
       "      <td>26.080878</td>\n",
       "      <td>10.004177</td>\n",
       "      <td>32.568153</td>\n",
       "      <td>55.081186</td>\n",
       "      <td>77.718134</td>\n",
       "      <td>9.998794e+01</td>\n",
       "    </tr>\n",
       "  </tbody>\n",
       "</table>\n",
       "</div>"
      ],
      "text/plain": [
       "                               count           mean            std  \\\n",
       "Unnamed: 0                   25000.0   12499.500000    7217.022701   \n",
       "Empty_Weight(kgs)            25000.0  150550.712410   86463.623898   \n",
       "Maximum_Takeoff_Weight(kgs)  25000.0  452651.571177  328455.147464   \n",
       "Maximum_Landing_Weight(kg)   25000.0  301956.454102  232384.548074   \n",
       "Wing Loading (kg/m²)         25000.0     598.404186     231.058661   \n",
       "Tail Loading (kg/m²)         25000.0     109.806503      52.008772   \n",
       "Fuel Capacity (liters)       25000.0  249099.077932  144365.178161   \n",
       "Number of Passengers         25000.0     274.545560     129.985611   \n",
       "Cargo Capacity (kg)          25000.0   50152.936766   28464.768809   \n",
       "Maximum Altitude (ft)        25000.0   39961.992880   11570.426026   \n",
       "Maximum Speed (knots)        25000.0     550.450160      86.927584   \n",
       "Fuselage Length (m)          25000.0      55.058987      26.080878   \n",
       "\n",
       "                                      min            25%            50%  \\\n",
       "Unnamed: 0                       0.000000    6249.750000   12499.500000   \n",
       "Empty_Weight(kgs)              523.501931   75478.577895  150022.889150   \n",
       "Maximum_Takeoff_Weight(kgs)    708.131424  189127.952750  380603.519650   \n",
       "Maximum_Landing_Weight(kg)     631.016228  127768.827550  254870.505450   \n",
       "Wing Loading (kg/m²)           200.077157     398.572198     596.545232   \n",
       "Tail Loading (kg/m²)            20.019328      64.916463     109.641132   \n",
       "Fuel Capacity (liters)        1002.584912  124086.001950  248362.359600   \n",
       "Number of Passengers            50.000000     162.000000     274.000000   \n",
       "Cargo Capacity (kg)           1002.043840   25860.125040   49845.885535   \n",
       "Maximum Altitude (ft)        20001.000000   29910.000000   39920.500000   \n",
       "Maximum Speed (knots)          400.000000     475.000000     551.000000   \n",
       "Fuselage Length (m)             10.004177      32.568153      55.081186   \n",
       "\n",
       "                                       75%           max  \n",
       "Unnamed: 0                    18749.250000  2.499900e+04  \n",
       "Empty_Weight(kgs)            225922.318875  2.999965e+05  \n",
       "Maximum_Takeoff_Weight(kgs)  660066.951300  1.498140e+06  \n",
       "Maximum_Landing_Weight(kg)   411266.544975  1.435393e+06  \n",
       "Wing Loading (kg/m²)            799.258956  9.999546e+02  \n",
       "Tail Loading (kg/m²)            154.733859  2.000000e+02  \n",
       "Fuel Capacity (liters)       374861.477450  4.999539e+05  \n",
       "Number of Passengers            387.000000  5.000000e+02  \n",
       "Cargo Capacity (kg)           74845.195460  9.999524e+04  \n",
       "Maximum Altitude (ft)         50000.250000  6.000000e+04  \n",
       "Maximum Speed (knots)           626.000000  7.000000e+02  \n",
       "Fuselage Length (m)              77.718134  9.998794e+01  "
      ]
     },
     "execution_count": 234,
     "metadata": {},
     "output_type": "execute_result"
    }
   ],
   "source": [
    "## Understand the statistics of Numerical Attribute\n",
    "df.describe().T"
   ]
  },
  {
   "cell_type": "code",
   "execution_count": 235,
   "id": "5010115c",
   "metadata": {},
   "outputs": [
    {
     "data": {
      "text/plain": [
       "Unnamed: 0                     0\n",
       "Aircraft Model                 0\n",
       "Empty_Weight(kgs)              0\n",
       "Maximum_Takeoff_Weight(kgs)    0\n",
       "Maximum_Landing_Weight(kg)     0\n",
       "Center of Gravity Limits       0\n",
       "Wing Loading (kg/m²)           0\n",
       "Tail Loading (kg/m²)           0\n",
       "Fuel Capacity (liters)         0\n",
       "Number of Passengers           0\n",
       "Cargo Capacity (kg)            0\n",
       "Maximum Altitude (ft)          0\n",
       "Maximum Speed (knots)          0\n",
       "Engine Type                    0\n",
       "Fuselage Length (m)            0\n",
       "dtype: int64"
      ]
     },
     "execution_count": 235,
     "metadata": {},
     "output_type": "execute_result"
    }
   ],
   "source": [
    "## Missing-values/null values in the Dataset:-\n",
    "df.isna().sum()"
   ]
  },
  {
   "cell_type": "code",
   "execution_count": 236,
   "id": "fe218ff1",
   "metadata": {},
   "outputs": [
    {
     "data": {
      "text/html": [
       "<div>\n",
       "<style scoped>\n",
       "    .dataframe tbody tr th:only-of-type {\n",
       "        vertical-align: middle;\n",
       "    }\n",
       "\n",
       "    .dataframe tbody tr th {\n",
       "        vertical-align: top;\n",
       "    }\n",
       "\n",
       "    .dataframe thead th {\n",
       "        text-align: right;\n",
       "    }\n",
       "</style>\n",
       "<table border=\"1\" class=\"dataframe\">\n",
       "  <thead>\n",
       "    <tr style=\"text-align: right;\">\n",
       "      <th></th>\n",
       "      <th>Unnamed: 0</th>\n",
       "      <th>Aircraft Model</th>\n",
       "      <th>Empty_Weight(kgs)</th>\n",
       "      <th>Maximum_Takeoff_Weight(kgs)</th>\n",
       "      <th>Maximum_Landing_Weight(kg)</th>\n",
       "      <th>Center of Gravity Limits</th>\n",
       "      <th>Wing Loading (kg/m²)</th>\n",
       "      <th>Tail Loading (kg/m²)</th>\n",
       "      <th>Fuel Capacity (liters)</th>\n",
       "      <th>Number of Passengers</th>\n",
       "      <th>Cargo Capacity (kg)</th>\n",
       "      <th>Maximum Altitude (ft)</th>\n",
       "      <th>Maximum Speed (knots)</th>\n",
       "      <th>Engine Type</th>\n",
       "      <th>Fuselage Length (m)</th>\n",
       "    </tr>\n",
       "  </thead>\n",
       "  <tbody>\n",
       "  </tbody>\n",
       "</table>\n",
       "</div>"
      ],
      "text/plain": [
       "Empty DataFrame\n",
       "Columns: [Unnamed: 0, Aircraft Model, Empty_Weight(kgs), Maximum_Takeoff_Weight(kgs), Maximum_Landing_Weight(kg), Center of Gravity Limits, Wing Loading (kg/m²), Tail Loading (kg/m²), Fuel Capacity (liters), Number of Passengers, Cargo Capacity (kg), Maximum Altitude (ft), Maximum Speed (knots), Engine Type, Fuselage Length (m)]\n",
       "Index: []"
      ]
     },
     "execution_count": 236,
     "metadata": {},
     "output_type": "execute_result"
    }
   ],
   "source": [
    "## Duplicates Check in the Dataset :-\n",
    "df[df.duplicated()]"
   ]
  },
  {
   "cell_type": "markdown",
   "id": "964e04be",
   "metadata": {},
   "source": [
    "#### Observations::\n",
    "1)The Dataset consists of 25000 rows and 15 columns in that there is a Unnamed column which has no significant impact to our analysis & can be dropped.\n",
    "\n",
    "2)There are No Null and Duplicate values are observed in our Dataset.\n",
    "\n",
    "3)The lenghty column names are renamed for better readability.\n",
    "\n",
    "4)The Attribute Center of Gravity Limits needs to be modified to to apply one hot encoder.\n",
    "\n",
    "5)The Float values in our Dataset has multiple decimal points ,that can be rounded-off to 2 decimal points for better readability of Data."
   ]
  },
  {
   "cell_type": "markdown",
   "id": "7f3ff0ac",
   "metadata": {},
   "source": [
    "## Data Exploration and Cleaning "
   ]
  },
  {
   "cell_type": "markdown",
   "id": "eb698f1c",
   "metadata": {},
   "source": [
    "### 1)Dropping of the Unwanted Column: \"Unnamed:0\""
   ]
  },
  {
   "cell_type": "code",
   "execution_count": 237,
   "id": "c9da394c",
   "metadata": {},
   "outputs": [],
   "source": [
    "df.drop('Unnamed: 0',inplace=True,axis=1)"
   ]
  },
  {
   "cell_type": "code",
   "execution_count": 238,
   "id": "be15d7e0",
   "metadata": {},
   "outputs": [
    {
     "data": {
      "text/plain": [
       "Index(['Aircraft Model', 'Empty_Weight(kgs)', 'Maximum_Takeoff_Weight(kgs)',\n",
       "       'Maximum_Landing_Weight(kg)', 'Center of Gravity Limits',\n",
       "       'Wing Loading (kg/m²)', 'Tail Loading (kg/m²)',\n",
       "       'Fuel Capacity (liters)', 'Number of Passengers', 'Cargo Capacity (kg)',\n",
       "       'Maximum Altitude (ft)', 'Maximum Speed (knots)', 'Engine Type',\n",
       "       'Fuselage Length (m)'],\n",
       "      dtype='object')"
      ]
     },
     "execution_count": 238,
     "metadata": {},
     "output_type": "execute_result"
    }
   ],
   "source": [
    "df.columns"
   ]
  },
  {
   "cell_type": "markdown",
   "id": "b9e6fa0e",
   "metadata": {},
   "source": [
    "### 2)Rounding off all the Float columns values to 2nd Decimal position:-"
   ]
  },
  {
   "cell_type": "code",
   "execution_count": 239,
   "id": "4c1c58bd",
   "metadata": {},
   "outputs": [
    {
     "data": {
      "text/html": [
       "<div>\n",
       "<style scoped>\n",
       "    .dataframe tbody tr th:only-of-type {\n",
       "        vertical-align: middle;\n",
       "    }\n",
       "\n",
       "    .dataframe tbody tr th {\n",
       "        vertical-align: top;\n",
       "    }\n",
       "\n",
       "    .dataframe thead th {\n",
       "        text-align: right;\n",
       "    }\n",
       "</style>\n",
       "<table border=\"1\" class=\"dataframe\">\n",
       "  <thead>\n",
       "    <tr style=\"text-align: right;\">\n",
       "      <th></th>\n",
       "      <th>Aircraft Model</th>\n",
       "      <th>Empty_Weight(kgs)</th>\n",
       "      <th>Maximum_Takeoff_Weight(kgs)</th>\n",
       "      <th>Maximum_Landing_Weight(kg)</th>\n",
       "      <th>Center of Gravity Limits</th>\n",
       "      <th>Wing Loading (kg/m²)</th>\n",
       "      <th>Tail Loading (kg/m²)</th>\n",
       "      <th>Fuel Capacity (liters)</th>\n",
       "      <th>Number of Passengers</th>\n",
       "      <th>Cargo Capacity (kg)</th>\n",
       "      <th>Maximum Altitude (ft)</th>\n",
       "      <th>Maximum Speed (knots)</th>\n",
       "      <th>Engine Type</th>\n",
       "      <th>Fuselage Length (m)</th>\n",
       "    </tr>\n",
       "  </thead>\n",
       "  <tbody>\n",
       "    <tr>\n",
       "      <th>0</th>\n",
       "      <td>Airbus A320</td>\n",
       "      <td>149968.1875</td>\n",
       "      <td>279525.0910</td>\n",
       "      <td>255896.4903</td>\n",
       "      <td>25%-35% of MAC</td>\n",
       "      <td>818.558282</td>\n",
       "      <td>124.788364</td>\n",
       "      <td>52538.23617</td>\n",
       "      <td>472</td>\n",
       "      <td>80061.73229</td>\n",
       "      <td>44470</td>\n",
       "      <td>658</td>\n",
       "      <td>Turbofan</td>\n",
       "      <td>41.726817</td>\n",
       "    </tr>\n",
       "    <tr>\n",
       "      <th>1</th>\n",
       "      <td>Boeing 777</td>\n",
       "      <td>140855.8799</td>\n",
       "      <td>145055.1739</td>\n",
       "      <td>143703.3146</td>\n",
       "      <td>15%-30% of MAC</td>\n",
       "      <td>366.423230</td>\n",
       "      <td>111.743182</td>\n",
       "      <td>298000.26600</td>\n",
       "      <td>257</td>\n",
       "      <td>27118.72519</td>\n",
       "      <td>31739</td>\n",
       "      <td>495</td>\n",
       "      <td>Turbofan</td>\n",
       "      <td>54.402799</td>\n",
       "    </tr>\n",
       "  </tbody>\n",
       "</table>\n",
       "</div>"
      ],
      "text/plain": [
       "  Aircraft Model  Empty_Weight(kgs)  Maximum_Takeoff_Weight(kgs)  \\\n",
       "0    Airbus A320        149968.1875                  279525.0910   \n",
       "1     Boeing 777        140855.8799                  145055.1739   \n",
       "\n",
       "   Maximum_Landing_Weight(kg) Center of Gravity Limits  Wing Loading (kg/m²)  \\\n",
       "0                 255896.4903           25%-35% of MAC            818.558282   \n",
       "1                 143703.3146           15%-30% of MAC            366.423230   \n",
       "\n",
       "   Tail Loading (kg/m²)  Fuel Capacity (liters)  Number of Passengers  \\\n",
       "0            124.788364             52538.23617                   472   \n",
       "1            111.743182            298000.26600                   257   \n",
       "\n",
       "   Cargo Capacity (kg)  Maximum Altitude (ft)  Maximum Speed (knots)  \\\n",
       "0          80061.73229                  44470                    658   \n",
       "1          27118.72519                  31739                    495   \n",
       "\n",
       "  Engine Type  Fuselage Length (m)  \n",
       "0    Turbofan            41.726817  \n",
       "1    Turbofan            54.402799  "
      ]
     },
     "execution_count": 239,
     "metadata": {},
     "output_type": "execute_result"
    }
   ],
   "source": [
    "df.head(2)"
   ]
  },
  {
   "cell_type": "code",
   "execution_count": 240,
   "id": "e27ad67a",
   "metadata": {},
   "outputs": [
    {
     "data": {
      "text/plain": [
       "Index(['Empty_Weight(kgs)', 'Maximum_Takeoff_Weight(kgs)',\n",
       "       'Maximum_Landing_Weight(kg)', 'Wing Loading (kg/m²)',\n",
       "       'Tail Loading (kg/m²)', 'Fuel Capacity (liters)', 'Cargo Capacity (kg)',\n",
       "       'Fuselage Length (m)'],\n",
       "      dtype='object')"
      ]
     },
     "execution_count": 240,
     "metadata": {},
     "output_type": "execute_result"
    }
   ],
   "source": [
    "df.select_dtypes(['float64']).columns"
   ]
  },
  {
   "cell_type": "code",
   "execution_count": 169,
   "id": "cc734477",
   "metadata": {},
   "outputs": [],
   "source": [
    "## Creating an Function to Round-off the values :-\n",
    "def Roundfunction(m):\n",
    "    round(m,2)\n",
    "    return round(m,2)"
   ]
  },
  {
   "cell_type": "code",
   "execution_count": 170,
   "id": "1803ddd5",
   "metadata": {},
   "outputs": [],
   "source": [
    "df['Empty_Weight(kgs)']=Roundfunction(df['Empty-Weight(kg)'])\n",
    "df['Maximum_Takeoff_Weight(kgs)']=Roundfunction(df['Maximum Takeoff-Weight(kg)'])\n",
    "df['Maximum_Landing_Weight(kgs)']=Roundfunction(df['Maximum Landing-Weight(kg)'])\n",
    "df['Wing Loading (kg/m²)']=Roundfunction(df['Wing Loading (kg/m²)'])\n",
    "df['Tail Loading (kg/m²)']=Roundfunction(df['Tail Loading (kg/m²)'])\n",
    "df['Fuel Capacity (liters)']=Roundfunction(df['Fuel Capacity (liters)'])\n",
    "df['Cargo Capacity (kg)']=Roundfunction(df['Cargo Capacity (kg)'])\n",
    "df['Fuselage Length (m)']=Roundfunction(df['Fuselage Length (m)'])"
   ]
  },
  {
   "cell_type": "code",
   "execution_count": 242,
   "id": "4a28515b",
   "metadata": {},
   "outputs": [
    {
     "data": {
      "text/plain": [
       "Index(['Aircraft Model', 'Empty_Weight(kgs)', 'Maximum_Takeoff_Weight(kgs)',\n",
       "       'Maximum_Landing_Weight(kg)', 'Center of Gravity Limits',\n",
       "       'Wing Loading (kg/m²)', 'Tail Loading (kg/m²)',\n",
       "       'Fuel Capacity (liters)', 'Number of Passengers', 'Cargo Capacity (kg)',\n",
       "       'Maximum Altitude (ft)', 'Maximum Speed (knots)', 'Engine Type',\n",
       "       'Fuselage Length (m)'],\n",
       "      dtype='object')"
      ]
     },
     "execution_count": 242,
     "metadata": {},
     "output_type": "execute_result"
    }
   ],
   "source": [
    "df.columns"
   ]
  },
  {
   "cell_type": "code",
   "execution_count": 243,
   "id": "15e2178c",
   "metadata": {},
   "outputs": [
    {
     "data": {
      "text/html": [
       "<div>\n",
       "<style scoped>\n",
       "    .dataframe tbody tr th:only-of-type {\n",
       "        vertical-align: middle;\n",
       "    }\n",
       "\n",
       "    .dataframe tbody tr th {\n",
       "        vertical-align: top;\n",
       "    }\n",
       "\n",
       "    .dataframe thead th {\n",
       "        text-align: right;\n",
       "    }\n",
       "</style>\n",
       "<table border=\"1\" class=\"dataframe\">\n",
       "  <thead>\n",
       "    <tr style=\"text-align: right;\">\n",
       "      <th></th>\n",
       "      <th>Aircraft Model</th>\n",
       "      <th>Empty_Weight(kgs)</th>\n",
       "      <th>Maximum_Takeoff_Weight(kgs)</th>\n",
       "      <th>Maximum_Landing_Weight(kg)</th>\n",
       "      <th>Center of Gravity Limits</th>\n",
       "      <th>Wing Loading (kg/m²)</th>\n",
       "      <th>Tail Loading (kg/m²)</th>\n",
       "      <th>Fuel Capacity (liters)</th>\n",
       "      <th>Number of Passengers</th>\n",
       "      <th>Cargo Capacity (kg)</th>\n",
       "      <th>Maximum Altitude (ft)</th>\n",
       "      <th>Maximum Speed (knots)</th>\n",
       "      <th>Engine Type</th>\n",
       "      <th>Fuselage Length (m)</th>\n",
       "    </tr>\n",
       "  </thead>\n",
       "  <tbody>\n",
       "    <tr>\n",
       "      <th>0</th>\n",
       "      <td>Airbus A320</td>\n",
       "      <td>149968.1875</td>\n",
       "      <td>279525.0910</td>\n",
       "      <td>255896.4903</td>\n",
       "      <td>25%-35% of MAC</td>\n",
       "      <td>818.558282</td>\n",
       "      <td>124.788364</td>\n",
       "      <td>52538.23617</td>\n",
       "      <td>472</td>\n",
       "      <td>80061.73229</td>\n",
       "      <td>44470</td>\n",
       "      <td>658</td>\n",
       "      <td>Turbofan</td>\n",
       "      <td>41.726817</td>\n",
       "    </tr>\n",
       "    <tr>\n",
       "      <th>1</th>\n",
       "      <td>Boeing 777</td>\n",
       "      <td>140855.8799</td>\n",
       "      <td>145055.1739</td>\n",
       "      <td>143703.3146</td>\n",
       "      <td>15%-30% of MAC</td>\n",
       "      <td>366.423230</td>\n",
       "      <td>111.743182</td>\n",
       "      <td>298000.26600</td>\n",
       "      <td>257</td>\n",
       "      <td>27118.72519</td>\n",
       "      <td>31739</td>\n",
       "      <td>495</td>\n",
       "      <td>Turbofan</td>\n",
       "      <td>54.402799</td>\n",
       "    </tr>\n",
       "  </tbody>\n",
       "</table>\n",
       "</div>"
      ],
      "text/plain": [
       "  Aircraft Model  Empty_Weight(kgs)  Maximum_Takeoff_Weight(kgs)  \\\n",
       "0    Airbus A320        149968.1875                  279525.0910   \n",
       "1     Boeing 777        140855.8799                  145055.1739   \n",
       "\n",
       "   Maximum_Landing_Weight(kg) Center of Gravity Limits  Wing Loading (kg/m²)  \\\n",
       "0                 255896.4903           25%-35% of MAC            818.558282   \n",
       "1                 143703.3146           15%-30% of MAC            366.423230   \n",
       "\n",
       "   Tail Loading (kg/m²)  Fuel Capacity (liters)  Number of Passengers  \\\n",
       "0            124.788364             52538.23617                   472   \n",
       "1            111.743182            298000.26600                   257   \n",
       "\n",
       "   Cargo Capacity (kg)  Maximum Altitude (ft)  Maximum Speed (knots)  \\\n",
       "0          80061.73229                  44470                    658   \n",
       "1          27118.72519                  31739                    495   \n",
       "\n",
       "  Engine Type  Fuselage Length (m)  \n",
       "0    Turbofan            41.726817  \n",
       "1    Turbofan            54.402799  "
      ]
     },
     "execution_count": 243,
     "metadata": {},
     "output_type": "execute_result"
    }
   ],
   "source": [
    "df.head(2)"
   ]
  },
  {
   "cell_type": "markdown",
   "id": "6320a222",
   "metadata": {},
   "source": [
    "### 3)Altering the Values of the Attribute-Center of Gravity Limits to a Standardise and Numerical Value:"
   ]
  },
  {
   "cell_type": "code",
   "execution_count": 244,
   "id": "6d132a11",
   "metadata": {},
   "outputs": [
    {
     "data": {
      "image/png": "[encoded data removed]",
      "text/plain": [
       "<Figure size 1200x600 with 1 Axes>"
      ]
     },
     "metadata": {},
     "output_type": "display_data"
    }
   ],
   "source": [
    "#step 1: To check the unique Values of the Center of Gravity Limits\n",
    "pt.figure(figsize=(12,6))\n",
    "pt.ylabel('Frequency')\n",
    "pt.yticks(rotation=45)\n",
    "data['Center of Gravity Limits'].\\\n",
    "value_counts().plot(kind='bar',color=['red','blue','orange','green','yellow']\n",
    "                    ,title='Cente of Gravity Analysis')\n",
    "pt.show()"
   ]
  },
  {
   "cell_type": "code",
   "execution_count": 245,
   "id": "3457f578",
   "metadata": {},
   "outputs": [],
   "source": [
    "#Step 2 : Extracting the Numeric values in to 2 different columns using string functions:-\n",
    "df['first_number_Center_of_Gravity']=df['Center of Gravity Limits'].str.replace('of MAC','').str.replace('%',\"\").str.split('-').str.get(0).astype(int)\n",
    "df['second_number_Center_of_Gravity']=df['Center of Gravity Limits'].str.replace('of MAC','').str.replace('%',\"\").str.split('-').str.get(1).astype(int)"
   ]
  },
  {
   "cell_type": "code",
   "execution_count": 246,
   "id": "fe1eb99f",
   "metadata": {},
   "outputs": [
    {
     "data": {
      "text/plain": [
       "0        30.0\n",
       "1        22.5\n",
       "2        27.5\n",
       "3        22.5\n",
       "4        27.5\n",
       "         ... \n",
       "24995    27.5\n",
       "24996    22.5\n",
       "24997    30.0\n",
       "24998    27.5\n",
       "24999    30.0\n",
       "Name: Center of Gravity Limits, Length: 25000, dtype: float64"
      ]
     },
     "execution_count": 246,
     "metadata": {},
     "output_type": "execute_result"
    }
   ],
   "source": [
    "#Step 3 :Calculating the mean value of the above 2 columns and storing it in a the main column-Center of Gravity Limits.\n",
    "df['Center of Gravity Limits']=(df['first_number_Center_of_Gravity']+df['second_number_Center_of_Gravity'])/2\n",
    "df['Center of Gravity Limits']"
   ]
  },
  {
   "cell_type": "code",
   "execution_count": 247,
   "id": "e75d8f53",
   "metadata": {},
   "outputs": [
    {
     "data": {
      "text/html": [
       "<div>\n",
       "<style scoped>\n",
       "    .dataframe tbody tr th:only-of-type {\n",
       "        vertical-align: middle;\n",
       "    }\n",
       "\n",
       "    .dataframe tbody tr th {\n",
       "        vertical-align: top;\n",
       "    }\n",
       "\n",
       "    .dataframe thead th {\n",
       "        text-align: right;\n",
       "    }\n",
       "</style>\n",
       "<table border=\"1\" class=\"dataframe\">\n",
       "  <thead>\n",
       "    <tr style=\"text-align: right;\">\n",
       "      <th></th>\n",
       "      <th>Aircraft Model</th>\n",
       "      <th>Empty_Weight(kgs)</th>\n",
       "      <th>Maximum_Takeoff_Weight(kgs)</th>\n",
       "      <th>Maximum_Landing_Weight(kg)</th>\n",
       "      <th>Center of Gravity Limits</th>\n",
       "      <th>Wing Loading (kg/m²)</th>\n",
       "      <th>Tail Loading (kg/m²)</th>\n",
       "      <th>Fuel Capacity (liters)</th>\n",
       "      <th>Number of Passengers</th>\n",
       "      <th>Cargo Capacity (kg)</th>\n",
       "      <th>Maximum Altitude (ft)</th>\n",
       "      <th>Maximum Speed (knots)</th>\n",
       "      <th>Engine Type</th>\n",
       "      <th>Fuselage Length (m)</th>\n",
       "      <th>first_number_Center_of_Gravity</th>\n",
       "      <th>second_number_Center_of_Gravity</th>\n",
       "    </tr>\n",
       "  </thead>\n",
       "  <tbody>\n",
       "    <tr>\n",
       "      <th>0</th>\n",
       "      <td>Airbus A320</td>\n",
       "      <td>149968.1875</td>\n",
       "      <td>279525.0910</td>\n",
       "      <td>255896.4903</td>\n",
       "      <td>30.0</td>\n",
       "      <td>818.558282</td>\n",
       "      <td>124.788364</td>\n",
       "      <td>52538.23617</td>\n",
       "      <td>472</td>\n",
       "      <td>80061.73229</td>\n",
       "      <td>44470</td>\n",
       "      <td>658</td>\n",
       "      <td>Turbofan</td>\n",
       "      <td>41.726817</td>\n",
       "      <td>25</td>\n",
       "      <td>35</td>\n",
       "    </tr>\n",
       "    <tr>\n",
       "      <th>1</th>\n",
       "      <td>Boeing 777</td>\n",
       "      <td>140855.8799</td>\n",
       "      <td>145055.1739</td>\n",
       "      <td>143703.3146</td>\n",
       "      <td>22.5</td>\n",
       "      <td>366.423230</td>\n",
       "      <td>111.743182</td>\n",
       "      <td>298000.26600</td>\n",
       "      <td>257</td>\n",
       "      <td>27118.72519</td>\n",
       "      <td>31739</td>\n",
       "      <td>495</td>\n",
       "      <td>Turbofan</td>\n",
       "      <td>54.402799</td>\n",
       "      <td>15</td>\n",
       "      <td>30</td>\n",
       "    </tr>\n",
       "  </tbody>\n",
       "</table>\n",
       "</div>"
      ],
      "text/plain": [
       "  Aircraft Model  Empty_Weight(kgs)  Maximum_Takeoff_Weight(kgs)  \\\n",
       "0    Airbus A320        149968.1875                  279525.0910   \n",
       "1     Boeing 777        140855.8799                  145055.1739   \n",
       "\n",
       "   Maximum_Landing_Weight(kg)  Center of Gravity Limits  Wing Loading (kg/m²)  \\\n",
       "0                 255896.4903                      30.0            818.558282   \n",
       "1                 143703.3146                      22.5            366.423230   \n",
       "\n",
       "   Tail Loading (kg/m²)  Fuel Capacity (liters)  Number of Passengers  \\\n",
       "0            124.788364             52538.23617                   472   \n",
       "1            111.743182            298000.26600                   257   \n",
       "\n",
       "   Cargo Capacity (kg)  Maximum Altitude (ft)  Maximum Speed (knots)  \\\n",
       "0          80061.73229                  44470                    658   \n",
       "1          27118.72519                  31739                    495   \n",
       "\n",
       "  Engine Type  Fuselage Length (m)  first_number_Center_of_Gravity  \\\n",
       "0    Turbofan            41.726817                              25   \n",
       "1    Turbofan            54.402799                              15   \n",
       "\n",
       "   second_number_Center_of_Gravity  \n",
       "0                               35  \n",
       "1                               30  "
      ]
     },
     "execution_count": 247,
     "metadata": {},
     "output_type": "execute_result"
    }
   ],
   "source": [
    "df.head(2)"
   ]
  },
  {
   "cell_type": "code",
   "execution_count": 248,
   "id": "4e02e44e",
   "metadata": {},
   "outputs": [
    {
     "data": {
      "text/html": [
       "<div>\n",
       "<style scoped>\n",
       "    .dataframe tbody tr th:only-of-type {\n",
       "        vertical-align: middle;\n",
       "    }\n",
       "\n",
       "    .dataframe tbody tr th {\n",
       "        vertical-align: top;\n",
       "    }\n",
       "\n",
       "    .dataframe thead th {\n",
       "        text-align: right;\n",
       "    }\n",
       "</style>\n",
       "<table border=\"1\" class=\"dataframe\">\n",
       "  <thead>\n",
       "    <tr style=\"text-align: right;\">\n",
       "      <th></th>\n",
       "      <th>Aircraft Model</th>\n",
       "      <th>Empty_Weight(kgs)</th>\n",
       "      <th>Maximum_Takeoff_Weight(kgs)</th>\n",
       "      <th>Maximum_Landing_Weight(kg)</th>\n",
       "      <th>Center of Gravity Limits</th>\n",
       "      <th>Wing Loading (kg/m²)</th>\n",
       "      <th>Tail Loading (kg/m²)</th>\n",
       "      <th>Fuel Capacity (liters)</th>\n",
       "      <th>Number of Passengers</th>\n",
       "      <th>Cargo Capacity (kg)</th>\n",
       "      <th>Maximum Altitude (ft)</th>\n",
       "      <th>Maximum Speed (knots)</th>\n",
       "      <th>Engine Type</th>\n",
       "      <th>Fuselage Length (m)</th>\n",
       "    </tr>\n",
       "  </thead>\n",
       "  <tbody>\n",
       "    <tr>\n",
       "      <th>0</th>\n",
       "      <td>Airbus A320</td>\n",
       "      <td>149968.1875</td>\n",
       "      <td>279525.0910</td>\n",
       "      <td>255896.4903</td>\n",
       "      <td>30.0</td>\n",
       "      <td>818.558282</td>\n",
       "      <td>124.788364</td>\n",
       "      <td>52538.23617</td>\n",
       "      <td>472</td>\n",
       "      <td>80061.73229</td>\n",
       "      <td>44470</td>\n",
       "      <td>658</td>\n",
       "      <td>Turbofan</td>\n",
       "      <td>41.726817</td>\n",
       "    </tr>\n",
       "    <tr>\n",
       "      <th>1</th>\n",
       "      <td>Boeing 777</td>\n",
       "      <td>140855.8799</td>\n",
       "      <td>145055.1739</td>\n",
       "      <td>143703.3146</td>\n",
       "      <td>22.5</td>\n",
       "      <td>366.423230</td>\n",
       "      <td>111.743182</td>\n",
       "      <td>298000.26600</td>\n",
       "      <td>257</td>\n",
       "      <td>27118.72519</td>\n",
       "      <td>31739</td>\n",
       "      <td>495</td>\n",
       "      <td>Turbofan</td>\n",
       "      <td>54.402799</td>\n",
       "    </tr>\n",
       "  </tbody>\n",
       "</table>\n",
       "</div>"
      ],
      "text/plain": [
       "  Aircraft Model  Empty_Weight(kgs)  Maximum_Takeoff_Weight(kgs)  \\\n",
       "0    Airbus A320        149968.1875                  279525.0910   \n",
       "1     Boeing 777        140855.8799                  145055.1739   \n",
       "\n",
       "   Maximum_Landing_Weight(kg)  Center of Gravity Limits  Wing Loading (kg/m²)  \\\n",
       "0                 255896.4903                      30.0            818.558282   \n",
       "1                 143703.3146                      22.5            366.423230   \n",
       "\n",
       "   Tail Loading (kg/m²)  Fuel Capacity (liters)  Number of Passengers  \\\n",
       "0            124.788364             52538.23617                   472   \n",
       "1            111.743182            298000.26600                   257   \n",
       "\n",
       "   Cargo Capacity (kg)  Maximum Altitude (ft)  Maximum Speed (knots)  \\\n",
       "0          80061.73229                  44470                    658   \n",
       "1          27118.72519                  31739                    495   \n",
       "\n",
       "  Engine Type  Fuselage Length (m)  \n",
       "0    Turbofan            41.726817  \n",
       "1    Turbofan            54.402799  "
      ]
     },
     "execution_count": 248,
     "metadata": {},
     "output_type": "execute_result"
    }
   ],
   "source": [
    "#Step 4: Dropping the unwanted columns which are used to calculate the mean of Center of Gravity Limits\n",
    "df=df.drop(['first_number_Center_of_Gravity','second_number_Center_of_Gravity'],axis=1)\n",
    "df.head(2)"
   ]
  },
  {
   "cell_type": "markdown",
   "id": "c9504107",
   "metadata": {},
   "source": [
    "### 4)plotting the Heatmap Correlation Between the numerical Attributes :-"
   ]
  },
  {
   "cell_type": "code",
   "execution_count": 249,
   "id": "1ec65ee8",
   "metadata": {},
   "outputs": [],
   "source": [
    "df_corr=df.select_dtypes(['float64','int64']).corr()"
   ]
  },
  {
   "cell_type": "code",
   "execution_count": 250,
   "id": "030d5ad9",
   "metadata": {},
   "outputs": [
    {
     "data": {
      "image/png": "[encoded data removed]",
      "text/plain": [
       "<Figure size 1500x900 with 2 Axes>"
      ]
     },
     "metadata": {},
     "output_type": "display_data"
    }
   ],
   "source": [
    "## Heat map for Correlation :-\n",
    "pt.figure(figsize=(15,9))\n",
    "sns.heatmap(df_corr,vmin=-1,vmax=1,cmap='summer',square=True,\n",
    "           annot=True,annot_kws={'fontsize':8,'fontweight':'bold'})\n",
    "pt.title(\"Correlation matrix between Numerical variables\")\n",
    "pt.show()"
   ]
  },
  {
   "cell_type": "markdown",
   "id": "48f4d5a5",
   "metadata": {},
   "source": [
    "#### Observations::\n",
    "1)From the Above Heatmap it can be seen that a High correlation between the Maximum_Takeoff_Weight, Maximum_Landing_Weight and Empty_Weight which is highlighted in yellow.\n",
    "\n",
    "2)Our Target column Maximum_Takeoff_Weight has very low correlation between all the attributes\n",
    "except Empty Weight & Maximum_Landing_Weight."
   ]
  },
  {
   "cell_type": "markdown",
   "id": "7a37840a",
   "metadata": {},
   "source": [
    "### 5) Understanding the Distribution of Maximum Takeoff Weight (kg) :-"
   ]
  },
  {
   "cell_type": "code",
   "execution_count": 252,
   "id": "90a3a5f9",
   "metadata": {},
   "outputs": [
    {
     "data": {
      "image/png": "[encoded data removed]",
      "text/plain": [
       "<Figure size 800x600 with 1 Axes>"
      ]
     },
     "metadata": {},
     "output_type": "display_data"
    }
   ],
   "source": [
    "pt.figure(figsize=(8,6))\n",
    "sns.histplot(df['Maximum_Takeoff_Weight(kgs)'],color='red',kde=True)\n",
    "pt.xlabel('Maximum Takeoff Weight (kg)')\n",
    "pt.ylabel('Frequency')\n",
    "pt.title('Distribution of Maximum Takeoff Weight (kg)')\n",
    "pt.show()"
   ]
  },
  {
   "cell_type": "markdown",
   "id": "0f1ad9fe",
   "metadata": {},
   "source": [
    "#### Observation:: \n",
    "Our Data Set Consists of High frequency of flights with Minimum Maximum Takeoff Weight and the there are few Aircrafts which can takeoff with Maximum weights.\n",
    "which can be shown from below analysis that only 320 Aircrafts has capacity to carry max takeoff weight greater than 1300000.00"
   ]
  },
  {
   "cell_type": "code",
   "execution_count": 254,
   "id": "f73bec7a",
   "metadata": {},
   "outputs": [
    {
     "data": {
      "text/html": [
       "<div>\n",
       "<style scoped>\n",
       "    .dataframe tbody tr th:only-of-type {\n",
       "        vertical-align: middle;\n",
       "    }\n",
       "\n",
       "    .dataframe tbody tr th {\n",
       "        vertical-align: top;\n",
       "    }\n",
       "\n",
       "    .dataframe thead th {\n",
       "        text-align: right;\n",
       "    }\n",
       "</style>\n",
       "<table border=\"1\" class=\"dataframe\">\n",
       "  <thead>\n",
       "    <tr style=\"text-align: right;\">\n",
       "      <th></th>\n",
       "      <th>count_of_aircrafts</th>\n",
       "      <th>Aircraft Model</th>\n",
       "    </tr>\n",
       "  </thead>\n",
       "  <tbody>\n",
       "    <tr>\n",
       "      <th>0</th>\n",
       "      <td>34</td>\n",
       "      <td>Airbus A320</td>\n",
       "    </tr>\n",
       "    <tr>\n",
       "      <th>1</th>\n",
       "      <td>31</td>\n",
       "      <td>Airbus A380</td>\n",
       "    </tr>\n",
       "    <tr>\n",
       "      <th>2</th>\n",
       "      <td>37</td>\n",
       "      <td>Beechcraft King Air 350</td>\n",
       "    </tr>\n",
       "    <tr>\n",
       "      <th>3</th>\n",
       "      <td>26</td>\n",
       "      <td>Boeing 737-800</td>\n",
       "    </tr>\n",
       "    <tr>\n",
       "      <th>4</th>\n",
       "      <td>33</td>\n",
       "      <td>Boeing 747-8</td>\n",
       "    </tr>\n",
       "    <tr>\n",
       "      <th>5</th>\n",
       "      <td>30</td>\n",
       "      <td>Boeing 777</td>\n",
       "    </tr>\n",
       "    <tr>\n",
       "      <th>6</th>\n",
       "      <td>30</td>\n",
       "      <td>Bombardier Global 6000</td>\n",
       "    </tr>\n",
       "    <tr>\n",
       "      <th>7</th>\n",
       "      <td>41</td>\n",
       "      <td>Cessna 172</td>\n",
       "    </tr>\n",
       "    <tr>\n",
       "      <th>8</th>\n",
       "      <td>29</td>\n",
       "      <td>Embraer E190</td>\n",
       "    </tr>\n",
       "    <tr>\n",
       "      <th>9</th>\n",
       "      <td>29</td>\n",
       "      <td>Gulfstream G650</td>\n",
       "    </tr>\n",
       "  </tbody>\n",
       "</table>\n",
       "</div>"
      ],
      "text/plain": [
       "   count_of_aircrafts           Aircraft Model\n",
       "0                  34              Airbus A320\n",
       "1                  31              Airbus A380\n",
       "2                  37  Beechcraft King Air 350\n",
       "3                  26           Boeing 737-800\n",
       "4                  33             Boeing 747-8\n",
       "5                  30               Boeing 777\n",
       "6                  30   Bombardier Global 6000\n",
       "7                  41               Cessna 172\n",
       "8                  29             Embraer E190\n",
       "9                  29          Gulfstream G650"
      ]
     },
     "execution_count": 254,
     "metadata": {},
     "output_type": "execute_result"
    }
   ],
   "source": [
    "sqldf('select count(*) as count_of_aircrafts,\"Aircraft Model\" from df where \"Maximum_Takeoff_Weight(kgs)\">1300000.00 group by \"Aircraft Model\"')\n",
    "###sqldf('select count(*) as sum from df where \"Maximum Takeoff Weight (kg)\">1300000.00 ')"
   ]
  },
  {
   "cell_type": "code",
   "execution_count": 255,
   "id": "684a8237",
   "metadata": {},
   "outputs": [
    {
     "data": {
      "text/html": [
       "<div>\n",
       "<style scoped>\n",
       "    .dataframe tbody tr th:only-of-type {\n",
       "        vertical-align: middle;\n",
       "    }\n",
       "\n",
       "    .dataframe tbody tr th {\n",
       "        vertical-align: top;\n",
       "    }\n",
       "\n",
       "    .dataframe thead th {\n",
       "        text-align: right;\n",
       "    }\n",
       "</style>\n",
       "<table border=\"1\" class=\"dataframe\">\n",
       "  <thead>\n",
       "    <tr style=\"text-align: right;\">\n",
       "      <th></th>\n",
       "      <th>sum</th>\n",
       "    </tr>\n",
       "  </thead>\n",
       "  <tbody>\n",
       "    <tr>\n",
       "      <th>0</th>\n",
       "      <td>320</td>\n",
       "    </tr>\n",
       "  </tbody>\n",
       "</table>\n",
       "</div>"
      ],
      "text/plain": [
       "   sum\n",
       "0  320"
      ]
     },
     "execution_count": 255,
     "metadata": {},
     "output_type": "execute_result"
    }
   ],
   "source": [
    "sqldf('select count(*) as sum from df where \"Maximum_Takeoff_Weight(kgs)\">1300000.00 ')"
   ]
  },
  {
   "cell_type": "markdown",
   "id": "718f23e4",
   "metadata": {},
   "source": [
    "### 6) Understanding the relation between the Maximum Takeoff Weight (kg) and the Engine Type "
   ]
  },
  {
   "cell_type": "code",
   "execution_count": 256,
   "id": "f7553170",
   "metadata": {},
   "outputs": [
    {
     "data": {
      "image/png": "[encoded data removed]",
      "text/plain": [
       "<Figure size 1300x700 with 1 Axes>"
      ]
     },
     "metadata": {},
     "output_type": "display_data"
    }
   ],
   "source": [
    "pt.figure(figsize=(13,7))\n",
    "sns.boxplot( x='Engine Type',data=df,y='Maximum_Takeoff_Weight(kgs)')\n",
    "pt.xlabel('Engine Type')\n",
    "pt.ylabel('Maximum Takeoff Weight (kg)')\n",
    "pt.title('Maximum Takeoff Weight (kg) by Engine Type')\n",
    "pt.show()"
   ]
  },
  {
   "cell_type": "markdown",
   "id": "0ae86a1d",
   "metadata": {},
   "source": [
    "#### Observation:\n",
    "As shown in the above figure there is a uniformity in the relationship between the Maximum Takeoff Weight (kg) and the 3 types of engines. and the Maximum Takeoff weight capacity aircrafts have all 3 types of Engines as shown below."
   ]
  },
  {
   "cell_type": "code",
   "execution_count": 30,
   "id": "3e35113e",
   "metadata": {},
   "outputs": [
    {
     "data": {
      "text/html": [
       "<div>\n",
       "<style scoped>\n",
       "    .dataframe tbody tr th:only-of-type {\n",
       "        vertical-align: middle;\n",
       "    }\n",
       "\n",
       "    .dataframe tbody tr th {\n",
       "        vertical-align: top;\n",
       "    }\n",
       "\n",
       "    .dataframe thead th {\n",
       "        text-align: right;\n",
       "    }\n",
       "</style>\n",
       "<table border=\"1\" class=\"dataframe\">\n",
       "  <thead>\n",
       "    <tr style=\"text-align: right;\">\n",
       "      <th></th>\n",
       "      <th>count_of_aircrafts</th>\n",
       "      <th>Engine Type</th>\n",
       "    </tr>\n",
       "  </thead>\n",
       "  <tbody>\n",
       "    <tr>\n",
       "      <th>0</th>\n",
       "      <td>113</td>\n",
       "      <td>Piston</td>\n",
       "    </tr>\n",
       "    <tr>\n",
       "      <th>1</th>\n",
       "      <td>101</td>\n",
       "      <td>Turbofan</td>\n",
       "    </tr>\n",
       "    <tr>\n",
       "      <th>2</th>\n",
       "      <td>106</td>\n",
       "      <td>Turboprop</td>\n",
       "    </tr>\n",
       "  </tbody>\n",
       "</table>\n",
       "</div>"
      ],
      "text/plain": [
       "   count_of_aircrafts Engine Type\n",
       "0                 113      Piston\n",
       "1                 101    Turbofan\n",
       "2                 106   Turboprop"
      ]
     },
     "execution_count": 30,
     "metadata": {},
     "output_type": "execute_result"
    }
   ],
   "source": [
    "sqldf('select count(*) as count_of_aircrafts,\"Engine Type\" from df where \"Maximum Takeoff Weight (kg)\">1300000.00 group by \"Engine Type\"')"
   ]
  },
  {
   "cell_type": "markdown",
   "id": "2b94769c",
   "metadata": {},
   "source": [
    "## Feature Engineering "
   ]
  },
  {
   "cell_type": "markdown",
   "id": "75e31e3d",
   "metadata": {},
   "source": [
    "#### 1)Dividing the X(Features) and y(target) "
   ]
  },
  {
   "cell_type": "code",
   "execution_count": 265,
   "id": "4611e1ae",
   "metadata": {},
   "outputs": [
    {
     "data": {
      "text/html": [
       "<div>\n",
       "<style scoped>\n",
       "    .dataframe tbody tr th:only-of-type {\n",
       "        vertical-align: middle;\n",
       "    }\n",
       "\n",
       "    .dataframe tbody tr th {\n",
       "        vertical-align: top;\n",
       "    }\n",
       "\n",
       "    .dataframe thead th {\n",
       "        text-align: right;\n",
       "    }\n",
       "</style>\n",
       "<table border=\"1\" class=\"dataframe\">\n",
       "  <thead>\n",
       "    <tr style=\"text-align: right;\">\n",
       "      <th></th>\n",
       "      <th>Aircraft Model</th>\n",
       "      <th>Empty_Weight(kgs)</th>\n",
       "      <th>Maximum_Landing_Weight(kg)</th>\n",
       "      <th>Center of Gravity Limits</th>\n",
       "      <th>Wing Loading (kg/m²)</th>\n",
       "      <th>Tail Loading (kg/m²)</th>\n",
       "      <th>Fuel Capacity (liters)</th>\n",
       "      <th>Number of Passengers</th>\n",
       "      <th>Cargo Capacity (kg)</th>\n",
       "      <th>Maximum Altitude (ft)</th>\n",
       "      <th>Maximum Speed (knots)</th>\n",
       "      <th>Engine Type</th>\n",
       "      <th>Fuselage Length (m)</th>\n",
       "    </tr>\n",
       "  </thead>\n",
       "  <tbody>\n",
       "    <tr>\n",
       "      <th>0</th>\n",
       "      <td>Airbus A320</td>\n",
       "      <td>149968.1875</td>\n",
       "      <td>255896.4903</td>\n",
       "      <td>30.0</td>\n",
       "      <td>818.558282</td>\n",
       "      <td>124.788364</td>\n",
       "      <td>52538.23617</td>\n",
       "      <td>472</td>\n",
       "      <td>80061.73229</td>\n",
       "      <td>44470</td>\n",
       "      <td>658</td>\n",
       "      <td>Turbofan</td>\n",
       "      <td>41.726817</td>\n",
       "    </tr>\n",
       "    <tr>\n",
       "      <th>1</th>\n",
       "      <td>Boeing 777</td>\n",
       "      <td>140855.8799</td>\n",
       "      <td>143703.3146</td>\n",
       "      <td>22.5</td>\n",
       "      <td>366.423230</td>\n",
       "      <td>111.743182</td>\n",
       "      <td>298000.26600</td>\n",
       "      <td>257</td>\n",
       "      <td>27118.72519</td>\n",
       "      <td>31739</td>\n",
       "      <td>495</td>\n",
       "      <td>Turbofan</td>\n",
       "      <td>54.402799</td>\n",
       "    </tr>\n",
       "  </tbody>\n",
       "</table>\n",
       "</div>"
      ],
      "text/plain": [
       "  Aircraft Model  Empty_Weight(kgs)  Maximum_Landing_Weight(kg)  \\\n",
       "0    Airbus A320        149968.1875                 255896.4903   \n",
       "1     Boeing 777        140855.8799                 143703.3146   \n",
       "\n",
       "   Center of Gravity Limits  Wing Loading (kg/m²)  Tail Loading (kg/m²)  \\\n",
       "0                      30.0            818.558282            124.788364   \n",
       "1                      22.5            366.423230            111.743182   \n",
       "\n",
       "   Fuel Capacity (liters)  Number of Passengers  Cargo Capacity (kg)  \\\n",
       "0             52538.23617                   472          80061.73229   \n",
       "1            298000.26600                   257          27118.72519   \n",
       "\n",
       "   Maximum Altitude (ft)  Maximum Speed (knots) Engine Type  \\\n",
       "0                  44470                    658    Turbofan   \n",
       "1                  31739                    495    Turbofan   \n",
       "\n",
       "   Fuselage Length (m)  \n",
       "0            41.726817  \n",
       "1            54.402799  "
      ]
     },
     "execution_count": 265,
     "metadata": {},
     "output_type": "execute_result"
    }
   ],
   "source": [
    "X=df.drop('Maximum_Takeoff_Weight(kgs)',axis=1)\n",
    "X.head(2)"
   ]
  },
  {
   "cell_type": "code",
   "execution_count": 266,
   "id": "22f0d83e",
   "metadata": {},
   "outputs": [
    {
     "data": {
      "text/plain": [
       "0        2.795251e+05\n",
       "1        1.450552e+05\n",
       "2        5.343439e+05\n",
       "3        8.151858e+05\n",
       "4        4.390943e+05\n",
       "             ...     \n",
       "24995    3.836723e+05\n",
       "24996    1.074710e+06\n",
       "24997    1.272493e+05\n",
       "24998    2.573037e+05\n",
       "24999    7.422506e+05\n",
       "Name: Maximum_Takeoff_Weight(kgs), Length: 25000, dtype: float64"
      ]
     },
     "execution_count": 266,
     "metadata": {},
     "output_type": "execute_result"
    }
   ],
   "source": [
    "y=df['Maximum_Takeoff_Weight(kgs)']\n",
    "y"
   ]
  },
  {
   "cell_type": "code",
   "execution_count": 267,
   "id": "afd30b87",
   "metadata": {},
   "outputs": [
    {
     "name": "stdout",
     "output_type": "stream",
     "text": [
      "the X-size :: (25000, 13)\n",
      "the y-size :: (25000,)\n"
     ]
    }
   ],
   "source": [
    "print(f'the X-size :: {X.shape}')\n",
    "print(f'the y-size :: {y.shape}')"
   ]
  },
  {
   "cell_type": "markdown",
   "id": "6a556c65",
   "metadata": {},
   "source": [
    "#### 2)  Splitting of the Data into Test set and Train set and then categorical and Numerical "
   ]
  },
  {
   "cell_type": "code",
   "execution_count": 268,
   "id": "c10adbd1",
   "metadata": {},
   "outputs": [],
   "source": [
    "X_train,X_test,y_train,y_test=train_test_split(X,y,test_size=0.3,random_state=42)\n",
    "## here we are using 30% of Data for testing and reaming 70% for training "
   ]
  },
  {
   "cell_type": "code",
   "execution_count": 269,
   "id": "432f4bf6",
   "metadata": {},
   "outputs": [
    {
     "name": "stdout",
     "output_type": "stream",
     "text": [
      "The Test and Train Data sizes after train_test_split\n",
      "**********************************************************\n",
      "The X_train's size is :: (17500, 13)\n",
      "The X_test's size is :: (7500, 13)\n",
      "The y_train's size is :: (17500,)\n",
      "The y_test's size is :: (7500,)\n"
     ]
    }
   ],
   "source": [
    "print(f'The Test and Train Data sizes after train_test_split')\n",
    "print('**********************************************************')\n",
    "print(f\"The X_train's size is :: {X_train.shape}\")\n",
    "print(f\"The X_test's size is :: {X_test.shape}\")\n",
    "print(f\"The y_train's size is :: {y_train.shape}\")\n",
    "print(f\"The y_test's size is :: {y_test.shape}\")"
   ]
  },
  {
   "cell_type": "code",
   "execution_count": 270,
   "id": "7c90269c",
   "metadata": {},
   "outputs": [],
   "source": [
    "## Divide the Numerical and Categorical :-\n",
    "categorical_attributes=X_train.select_dtypes(['object']).columns \n",
    "numerical_attibutes=X_train.select_dtypes(['int','float']).columns"
   ]
  },
  {
   "cell_type": "code",
   "execution_count": 271,
   "id": "c2566347",
   "metadata": {},
   "outputs": [
    {
     "name": "stdout",
     "output_type": "stream",
     "text": [
      "1) categorical_attributes= Index(['Aircraft Model', 'Engine Type'], dtype='object')\n",
      "2) numerical_attibutes= Index(['Empty_Weight(kgs)', 'Maximum_Landing_Weight(kg)',\n",
      "       'Center of Gravity Limits', 'Wing Loading (kg/m²)',\n",
      "       'Tail Loading (kg/m²)', 'Fuel Capacity (liters)',\n",
      "       'Number of Passengers', 'Cargo Capacity (kg)', 'Maximum Altitude (ft)',\n",
      "       'Maximum Speed (knots)', 'Fuselage Length (m)'],\n",
      "      dtype='object')\n"
     ]
    }
   ],
   "source": [
    "print('1) categorical_attributes=',categorical_attributes)\n",
    "print('2) numerical_attibutes=',numerical_attibutes)"
   ]
  },
  {
   "cell_type": "code",
   "execution_count": 275,
   "id": "c0819287",
   "metadata": {},
   "outputs": [],
   "source": [
    "## Applying OneHotEncoder(categorical attributes) and StandardScaling(Numerical Attributes)##\n",
    "ct = ColumnTransformer([\n",
    "    (\"OneHotEncoder\",OneHotEncoder(handle_unknown='ignore'),categorical_attributes),\n",
    "    (\"StandardScaler\",StandardScaler(),numerical_attibutes)\n",
    "])\n",
    "\n",
    "X_train=ct.fit_transform(X_train)\n",
    "X_test=ct.transform(X_test)"
   ]
  },
  {
   "cell_type": "code",
   "execution_count": 276,
   "id": "c1b2f43f",
   "metadata": {},
   "outputs": [
    {
     "name": "stdout",
     "output_type": "stream",
     "text": [
      "X_train's size :: (17500, 24)\n",
      "X_test's size :: (7500, 24)\n"
     ]
    }
   ],
   "source": [
    "print(f\"X_train's size :: {X_train.shape}\")\n",
    "print(f\"X_test's size :: {X_test.shape}\")"
   ]
  },
  {
   "cell_type": "markdown",
   "id": "2f7ec700",
   "metadata": {},
   "source": [
    "##### Models which are used to Build pipelines are below:-"
   ]
  },
  {
   "cell_type": "code",
   "execution_count": 277,
   "id": "c207e6a5",
   "metadata": {},
   "outputs": [],
   "source": [
    "#pipeline_support_vectors_machines =SVC(kernel='sigmoid',gamma=1.0) # This is Not working \n",
    "pipeline_KNeighborsRegressor=KNeighborsRegressor()\n",
    "#pipeline_MultinomialNB=MultinomialNB() #this is not working \n",
    "pipeline_DecisionTreeRegressor=DecisionTreeRegressor(max_depth=5)\n",
    "pipeline_LinearRegression=LinearRegression()\n",
    "pipeline_RandomForestRegressor=RandomForestRegressor(n_estimators=40,random_state=2)\n",
    "pipeline_AdaBoostRegressor=AdaBoostRegressor(random_state=2)\n",
    "pipeline_BaggingRegressor=BaggingRegressor(random_state=2)\n",
    "pipeline_ExtraTreesRegressor=ExtraTreesRegressor(n_estimators=40,random_state=2)\n",
    "pipeline_GradientBoostingRegressor=GradientBoostingRegressor(random_state=2)\n",
    "pipeline_XGBRFRegressor=XGBRFRegressor(n_estimators=40,random_state=2)\n",
    "pipeline_lasso=Lasso()\n",
    "pipeline_ridge=Ridge()"
   ]
  },
  {
   "cell_type": "code",
   "execution_count": 278,
   "id": "b20d4fdd",
   "metadata": {},
   "outputs": [
    {
     "data": {
      "text/html": [
       "<style>#sk-container-id-11 {color: black;background-color: white;}#sk-container-id-11 pre{padding: 0;}#sk-container-id-11 div.sk-toggleable {background-color: white;}#sk-container-id-11 label.sk-toggleable__label {cursor: pointer;display: block;width: 100%;margin-bottom: 0;padding: 0.3em;box-sizing: border-box;text-align: center;}#sk-container-id-11 label.sk-toggleable__label-arrow:before {content: \"▸\";float: left;margin-right: 0.25em;color: #696969;}#sk-container-id-11 label.sk-toggleable__label-arrow:hover:before {color: black;}#sk-container-id-11 div.sk-estimator:hover label.sk-toggleable__label-arrow:before {color: black;}#sk-container-id-11 div.sk-toggleable__content {max-height: 0;max-width: 0;overflow: hidden;text-align: left;background-color: #f0f8ff;}#sk-container-id-11 div.sk-toggleable__content pre {margin: 0.2em;color: black;border-radius: 0.25em;background-color: #f0f8ff;}#sk-container-id-11 input.sk-toggleable__control:checked~div.sk-toggleable__content {max-height: 200px;max-width: 100%;overflow: auto;}#sk-container-id-11 input.sk-toggleable__control:checked~label.sk-toggleable__label-arrow:before {content: \"▾\";}#sk-container-id-11 div.sk-estimator input.sk-toggleable__control:checked~label.sk-toggleable__label {background-color: #d4ebff;}#sk-container-id-11 div.sk-label input.sk-toggleable__control:checked~label.sk-toggleable__label {background-color: #d4ebff;}#sk-container-id-11 input.sk-hidden--visually {border: 0;clip: rect(1px 1px 1px 1px);clip: rect(1px, 1px, 1px, 1px);height: 1px;margin: -1px;overflow: hidden;padding: 0;position: absolute;width: 1px;}#sk-container-id-11 div.sk-estimator {font-family: monospace;background-color: #f0f8ff;border: 1px dotted black;border-radius: 0.25em;box-sizing: border-box;margin-bottom: 0.5em;}#sk-container-id-11 div.sk-estimator:hover {background-color: #d4ebff;}#sk-container-id-11 div.sk-parallel-item::after {content: \"\";width: 100%;border-bottom: 1px solid gray;flex-grow: 1;}#sk-container-id-11 div.sk-label:hover label.sk-toggleable__label {background-color: #d4ebff;}#sk-container-id-11 div.sk-serial::before {content: \"\";position: absolute;border-left: 1px solid gray;box-sizing: border-box;top: 0;bottom: 0;left: 50%;z-index: 0;}#sk-container-id-11 div.sk-serial {display: flex;flex-direction: column;align-items: center;background-color: white;padding-right: 0.2em;padding-left: 0.2em;position: relative;}#sk-container-id-11 div.sk-item {position: relative;z-index: 1;}#sk-container-id-11 div.sk-parallel {display: flex;align-items: stretch;justify-content: center;background-color: white;position: relative;}#sk-container-id-11 div.sk-item::before, #sk-container-id-11 div.sk-parallel-item::before {content: \"\";position: absolute;border-left: 1px solid gray;box-sizing: border-box;top: 0;bottom: 0;left: 50%;z-index: -1;}#sk-container-id-11 div.sk-parallel-item {display: flex;flex-direction: column;z-index: 1;position: relative;background-color: white;}#sk-container-id-11 div.sk-parallel-item:first-child::after {align-self: flex-end;width: 50%;}#sk-container-id-11 div.sk-parallel-item:last-child::after {align-self: flex-start;width: 50%;}#sk-container-id-11 div.sk-parallel-item:only-child::after {width: 0;}#sk-container-id-11 div.sk-dashed-wrapped {border: 1px dashed gray;margin: 0 0.4em 0.5em 0.4em;box-sizing: border-box;padding-bottom: 0.4em;background-color: white;}#sk-container-id-11 div.sk-label label {font-family: monospace;font-weight: bold;display: inline-block;line-height: 1.2em;}#sk-container-id-11 div.sk-label-container {text-align: center;}#sk-container-id-11 div.sk-container {/* jupyter's `normalize.less` sets `[hidden] { display: none; }` but bootstrap.min.css set `[hidden] { display: none !important; }` so we also need the `!important` here to be able to override the default hidden behavior on the sphinx rendered scikit-learn.org. See: https://github.com/scikit-learn/scikit-learn/issues/21755 */display: inline-block !important;position: relative;}#sk-container-id-11 div.sk-text-repr-fallback {display: none;}</style><div id=\"sk-container-id-11\" class=\"sk-top-container\"><div class=\"sk-text-repr-fallback\"><pre>LinearRegression()</pre><b>In a Jupyter environment, please rerun this cell to show the HTML representation or trust the notebook. <br />On GitHub, the HTML representation is unable to render, please try loading this page with nbviewer.org.</b></div><div class=\"sk-container\" hidden><div class=\"sk-item\"><div class=\"sk-estimator sk-toggleable\"><input class=\"sk-toggleable__control sk-hidden--visually\" id=\"sk-estimator-id-27\" type=\"checkbox\" checked><label for=\"sk-estimator-id-27\" class=\"sk-toggleable__label sk-toggleable__label-arrow\">LinearRegression</label><div class=\"sk-toggleable__content\"><pre>LinearRegression()</pre></div></div></div></div></div>"
      ],
      "text/plain": [
       "LinearRegression()"
      ]
     },
     "execution_count": 278,
     "metadata": {},
     "output_type": "execute_result"
    }
   ],
   "source": [
    "pipeline_LinearRegression.fit(X_train,y_train)"
   ]
  },
  {
   "cell_type": "code",
   "execution_count": 279,
   "id": "782b1cb4",
   "metadata": {},
   "outputs": [
    {
     "data": {
      "text/plain": [
       "array([182211.75634836, 115908.37815775,  56856.95832538, ...,\n",
       "        68806.65638992, 574121.53089701, 407614.766517  ])"
      ]
     },
     "execution_count": 279,
     "metadata": {},
     "output_type": "execute_result"
    }
   ],
   "source": [
    "y_pred=pipeline_LinearRegression.predict(X_test)\n",
    "y_pred"
   ]
  },
  {
   "cell_type": "code",
   "execution_count": 280,
   "id": "5875e52e",
   "metadata": {},
   "outputs": [
    {
     "name": "stdout",
     "output_type": "stream",
     "text": [
      "The R2_score- 0.7266115067902615\n"
     ]
    }
   ],
   "source": [
    "print('The R2_score-',r2_score(y_pred,y_test))"
   ]
  },
  {
   "cell_type": "markdown",
   "id": "2283bfb0",
   "metadata": {},
   "source": [
    "##### Automating Building Pipelines "
   ]
  },
  {
   "cell_type": "code",
   "execution_count": 281,
   "id": "d2ae6f19",
   "metadata": {},
   "outputs": [],
   "source": [
    "##Step1:: Creating an Dictionary \n",
    "model= {\n",
    "'pipeline_KNeighborsRegressor':pipeline_KNeighborsRegressor,\n",
    "'pipeline_DecisionTreeRegressor':pipeline_DecisionTreeRegressor,\n",
    "'pipeline_LinearRegression':pipeline_LinearRegression,\n",
    "'pipeline_RandomForestRegressor':pipeline_RandomForestRegressor,\n",
    "'pipeline_AdaBoostRegressor':pipeline_AdaBoostRegressor,\n",
    "'pipeline_BaggingRegressor': pipeline_BaggingRegressor,\n",
    "'pipeline_ExtraTreesRegressor':pipeline_ExtraTreesRegressor,\n",
    "'pipeline_GradientBoostingRegressor':pipeline_GradientBoostingRegressor,\n",
    "'pipeline_XGBRFRegressor':pipeline_XGBRFRegressor,\n",
    "'pipeline_lasso':pipeline_lasso,\n",
    "'pipeline_ridge':pipeline_ridge\n",
    "}"
   ]
  },
  {
   "cell_type": "code",
   "execution_count": 282,
   "id": "953c16d2",
   "metadata": {},
   "outputs": [],
   "source": [
    "##Step2:: Creating an Function to Run all models and Predict R2_score::\n",
    "def train_pipes_regressor(model,X_train,y_train,X_test,y_test):\n",
    "    from sklearn.metrics import r2_score\n",
    "    model.fit(X_train,y_train)\n",
    "    y_pred=model.predict(X_test)\n",
    "    r2_score=r2_score(y_pred,y_test)\n",
    "    \n",
    "    return r2_score"
   ]
  },
  {
   "cell_type": "code",
   "execution_count": 283,
   "id": "4a5b004f",
   "metadata": {},
   "outputs": [],
   "source": [
    "## Step3:: Running the above Function and Storing r2_scores in a List:-\n",
    "model_r2_score=[]\n",
    "\n",
    "for name,item in model.items():\n",
    "    models=train_pipes_regressor(item,X_train,y_train,X_test,y_test)\n",
    "    \n",
    "    model_r2_score.append(models) "
   ]
  },
  {
   "cell_type": "code",
   "execution_count": 284,
   "id": "fa3a06dd",
   "metadata": {},
   "outputs": [
    {
     "name": "stdout",
     "output_type": "stream",
     "text": [
      "Accumualted R2_Score\n",
      " [0.5215979297323392, 0.7258360504585522, 0.7266115067902615, 0.7286615807248246, 0.6828155100826567, 0.7144539370072986, 0.7284217812830819, 0.7354605296037543, 0.7338032044673393, 0.7266097846450872, 0.726592393579635]\n"
     ]
    }
   ],
   "source": [
    "print('Accumualted R2_Score\\n',model_r2_score)"
   ]
  },
  {
   "cell_type": "code",
   "execution_count": 285,
   "id": "5585d5d0",
   "metadata": {},
   "outputs": [],
   "source": [
    "# Step4: Storing the R2_Score created and the corresponding model name in a Dataframe:-\n",
    "performance= p.DataFrame({'Model_name':model.keys(),'R2_Score':model_r2_score}).sort_values('R2_Score',ascending=False)"
   ]
  },
  {
   "cell_type": "code",
   "execution_count": 286,
   "id": "27521482",
   "metadata": {},
   "outputs": [],
   "source": [
    "## Step 5 ::Dropping the Extra Column and reindexing;;;;;\n",
    "performance=performance.reset_index(drop=True)\n",
    "performance.index=performance.index+1"
   ]
  },
  {
   "cell_type": "code",
   "execution_count": 287,
   "id": "c0dc3619",
   "metadata": {},
   "outputs": [],
   "source": [
    "performance.index.name='Model_Rank'"
   ]
  },
  {
   "cell_type": "code",
   "execution_count": 210,
   "id": "48756333",
   "metadata": {},
   "outputs": [
    {
     "name": "stdout",
     "output_type": "stream",
     "text": [
      "The Model Ranking Based on there R2_Score:-\n"
     ]
    },
    {
     "data": {
      "text/html": [
       "<div>\n",
       "<style scoped>\n",
       "    .dataframe tbody tr th:only-of-type {\n",
       "        vertical-align: middle;\n",
       "    }\n",
       "\n",
       "    .dataframe tbody tr th {\n",
       "        vertical-align: top;\n",
       "    }\n",
       "\n",
       "    .dataframe thead th {\n",
       "        text-align: right;\n",
       "    }\n",
       "</style>\n",
       "<table border=\"1\" class=\"dataframe\">\n",
       "  <thead>\n",
       "    <tr style=\"text-align: right;\">\n",
       "      <th></th>\n",
       "      <th>Model_Rank</th>\n",
       "      <th>Model_name</th>\n",
       "      <th>R2_Score</th>\n",
       "    </tr>\n",
       "  </thead>\n",
       "  <tbody>\n",
       "    <tr>\n",
       "      <th>0</th>\n",
       "      <td>1</td>\n",
       "      <td>pipeline_XGBRFRegressor</td>\n",
       "      <td>0.733794</td>\n",
       "    </tr>\n",
       "    <tr>\n",
       "      <th>1</th>\n",
       "      <td>2</td>\n",
       "      <td>pipeline_RandomForestRegressor</td>\n",
       "      <td>0.728390</td>\n",
       "    </tr>\n",
       "    <tr>\n",
       "      <th>2</th>\n",
       "      <td>3</td>\n",
       "      <td>pipeline_BaggingRegressor</td>\n",
       "      <td>0.727189</td>\n",
       "    </tr>\n",
       "    <tr>\n",
       "      <th>3</th>\n",
       "      <td>4</td>\n",
       "      <td>pipeline_LinearRegression</td>\n",
       "      <td>0.726611</td>\n",
       "    </tr>\n",
       "    <tr>\n",
       "      <th>4</th>\n",
       "      <td>5</td>\n",
       "      <td>pipeline_lasso</td>\n",
       "      <td>0.726610</td>\n",
       "    </tr>\n",
       "    <tr>\n",
       "      <th>5</th>\n",
       "      <td>6</td>\n",
       "      <td>pipeline_ridge</td>\n",
       "      <td>0.726592</td>\n",
       "    </tr>\n",
       "    <tr>\n",
       "      <th>6</th>\n",
       "      <td>7</td>\n",
       "      <td>pipeline_ExtraTreesRegressor</td>\n",
       "      <td>0.726327</td>\n",
       "    </tr>\n",
       "    <tr>\n",
       "      <th>7</th>\n",
       "      <td>8</td>\n",
       "      <td>pipeline_GradientBoostingRegressor</td>\n",
       "      <td>0.726081</td>\n",
       "    </tr>\n",
       "    <tr>\n",
       "      <th>8</th>\n",
       "      <td>9</td>\n",
       "      <td>pipeline_DecisionTreeRegressor</td>\n",
       "      <td>0.725836</td>\n",
       "    </tr>\n",
       "    <tr>\n",
       "      <th>9</th>\n",
       "      <td>10</td>\n",
       "      <td>pipeline_AdaBoostRegressor</td>\n",
       "      <td>0.684225</td>\n",
       "    </tr>\n",
       "    <tr>\n",
       "      <th>10</th>\n",
       "      <td>11</td>\n",
       "      <td>pipeline_KNeighborsRegressor</td>\n",
       "      <td>0.521642</td>\n",
       "    </tr>\n",
       "  </tbody>\n",
       "</table>\n",
       "</div>"
      ],
      "text/plain": [
       "    Model_Rank                          Model_name  R2_Score\n",
       "0            1             pipeline_XGBRFRegressor  0.733794\n",
       "1            2      pipeline_RandomForestRegressor  0.728390\n",
       "2            3           pipeline_BaggingRegressor  0.727189\n",
       "3            4           pipeline_LinearRegression  0.726611\n",
       "4            5                      pipeline_lasso  0.726610\n",
       "5            6                      pipeline_ridge  0.726592\n",
       "6            7        pipeline_ExtraTreesRegressor  0.726327\n",
       "7            8  pipeline_GradientBoostingRegressor  0.726081\n",
       "8            9      pipeline_DecisionTreeRegressor  0.725836\n",
       "9           10          pipeline_AdaBoostRegressor  0.684225\n",
       "10          11        pipeline_KNeighborsRegressor  0.521642"
      ]
     },
     "execution_count": 210,
     "metadata": {},
     "output_type": "execute_result"
    }
   ],
   "source": [
    "print(\"The Model Ranking Based on there R2_Score:-\")\n",
    "performance.reset_index()"
   ]
  },
  {
   "cell_type": "code",
   "execution_count": 143,
   "id": "0b67f0fa",
   "metadata": {},
   "outputs": [
    {
     "data": {
      "image/png": "[encoded data removed]",
      "text/plain": [
       "<Figure size 1400x900 with 1 Axes>"
      ]
     },
     "metadata": {},
     "output_type": "display_data"
    }
   ],
   "source": [
    "pt.figure(figsize=(14,9))\n",
    "sns.barplot(y='Model_name', x='R2_Score', data=performance)\n",
    "pt.xticks(rotation=0)\n",
    "pt.xlabel('Model Name')\n",
    "pt.ylabel('R2 Score')\n",
    "pt.title('Model Performance')\n",
    "pt.show()"
   ]
  },
  {
   "cell_type": "markdown",
   "id": "190c83ec",
   "metadata": {},
   "source": [
    "### Hyperparameter Tunning to improve model performance:"
   ]
  },
  {
   "cell_type": "code",
   "execution_count": 289,
   "id": "a7382cba",
   "metadata": {},
   "outputs": [
    {
     "name": "stdout",
     "output_type": "stream",
     "text": [
      "The Score for Ridge after Tunning=0.7262286115172679\n"
     ]
    }
   ],
   "source": [
    "## Tunning on Ridge_Regressor \n",
    "ridge= Ridge()\n",
    "params = {'alpha':[1e-10,1e-15,1e-8,1e-3,1e-2,5,1,10,15,20]}\n",
    "ridge_reg = GridSearchCV(ridge,params,scoring='neg_mean_squared_error',cv=10)\n",
    "ridge_reg.fit(X_train,y_train)\n",
    "ridge_predict=ridge_reg.predict(X_test)\n",
    "score= r2_score(ridge_predict,y_test)\n",
    "print(f'The Score for Ridge after Tunning={score}')"
   ]
  },
  {
   "cell_type": "code",
   "execution_count": 291,
   "id": "f4bf2c86",
   "metadata": {},
   "outputs": [
    {
     "name": "stdout",
     "output_type": "stream",
     "text": [
      "The Score for RandomForest after Tunning=0.7320999888794812\n"
     ]
    }
   ],
   "source": [
    "## Tunning on RandomForest Regressor :-\n",
    "Rf_regressor= RandomForestRegressor()\n",
    "\n",
    "RF_param = {  \n",
    "    'max_depth': [None, 5, 10],  \n",
    "    'min_samples_leaf': [1, 2, 4],  \n",
    "    'max_features': ['auto', 'sqrt', 'log2']  \n",
    "}\n",
    "\n",
    "rf_reg = GridSearchCV(Rf_regressor,RF_param,scoring='neg_mean_squared_error',cv=3)\n",
    "rf_reg.fit(X_train,y_train)\n",
    "\n",
    "# Predicting the model using RandomForest\n",
    "RandomForest_predict=rf_reg.predict(X_test)\n",
    "score= r2_score(RandomForest_predict,y_test)\n",
    "print(f'The Score for RandomForest after Tunning={score}')"
   ]
  },
  {
   "cell_type": "markdown",
   "id": "8bed0d99",
   "metadata": {},
   "source": [
    "### Conclusion :-\n",
    "Based on the observations of the given Dataset, the following conclusions can be summarized:\n",
    "\n",
    "1)The dataset consists of 25,000 rows and 15 columns, with one unnamed-column that we have dropped as it has no significant impact on the analysis,There are non-null/NaN or duplicate values observed in the Dataset,Indicating a clean and consistent data structure.\n",
    "\n",
    "2)The \"Center of Gravity Limits\" attribute needs to be modified to apply one-hot encoding,.\n",
    "The float values in the dataset have multiple decimal points,rounded to two decimal points for better readability.\n",
    "\n",
    "3)The Heatmap analysis reveals a high correlation between the \"Maximum_Takeoff_Weight(kgs),\" \"Maximum_Landing_Weight(kgs),\" and \"Empty Weight\" attributes, as highlighted in yellow. This correlation suggests that these attributes are closely related and may influence one other.\n",
    "\n",
    "4)The Target column-\"Maximum Takeoff Weight (kg),\" has a very low correlation with all other attributes except \"Empty Weight (kg)\" and \"Maximum Landing Weight (kg).\" This observation indicates that these two attributes are the most influential factors for determining the maximum takeoff weight.\n",
    "\n",
    "5)The Dataset consists of a high frequency of flights with minimum-maximum takeoff weight, and there are few aircraft that can take off with maximum weights. The analysis shows that only 320 aircraft have the capacity to carry a maximum_takeoff_weight greater than 1300000kg.\n",
    "\n",
    "6)The relationship between the \"Maximum_Takeoff_Weight(kgs)\" and the three types of engines (turboprop, turbofan, and turbojet) is uniform. Additionally, the aircraft with the maximum takeoff weight capacity have all 3 types of engines, suggesting that engine-type plays a crucial role in determining the maximum takeoff weight.\n",
    "\n",
    "7)The Top 3 Performing Models with respect to there corresponding R2-Score are Xgboost,Gradientboosting and Random Forest Regressor and other models are mentioned in the figure(model performance), To improve the model performance Hyperparametric Tunning is performed and it can be observed that there is no significant improvement in the model performances."
   ]
  },
  {
   "cell_type": "code",
   "execution_count": null,
   "id": "d9f0f2f7",
   "metadata": {},
   "outputs": [],
   "source": []
  }
 ],
 "metadata": {
  "kernelspec": {
   "display_name": "Python 3 (ipykernel)",
   "language": "python",
   "name": "python3"
  },
  "language_info": {
   "codemirror_mode": {
    "name": "ipython",
    "version": 3
   },
   "file_extension": ".py",
   "mimetype": "text/x-python",
   "name": "python",
   "nbconvert_exporter": "python",
   "pygments_lexer": "ipython3",
   "version": "3.11.5"
  }
 },
 "nbformat": 4,
 "nbformat_minor": 5
}
